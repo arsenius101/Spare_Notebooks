{
 "cells": [
  {
   "cell_type": "markdown",
   "id": "206ed7ae",
   "metadata": {},
   "source": [
    "## Portfolio Luck Analyzer\n",
    "\n",
    "This exercise is to evaluate how lucky I am currently with the current portfolio, and how lucky I have been since I started investing.\n",
    "\"Lucky\" is all relative and it refers in which percentile I am compared to 20+ years time series of MSCI ACWI, as a benchmark for Worldwide stock index (in lieu of VWCE), and IEF (iShares 7-10 Year Treasury Bond ETF), as a benchmark for investment grade government bonds (in lieu of AGGH).\n",
    "Yeah yeah, these indices are USD-nominated and not fully aligned with my VWCE/AGGH, however these are some of the few benchmarks with such a long history and the EUR/USD exchange rate should not change so much in the long term.\n",
    "\n",
    "The ACWI&IEF time series is analyzed in detail in the \"Time Series Analysis\" notebook."
   ]
  },
  {
   "cell_type": "code",
   "execution_count": 1,
   "id": "03506a85",
   "metadata": {},
   "outputs": [],
   "source": [
    "from datetime import date\n",
    "import polars as pl\n",
    "import polars.selectors as cs\n",
    "import numpy as np\n",
    "import scipy.stats as ss\n",
    "import yfinance as yf\n",
    "from matplotlib import pyplot as plt\n",
    "import ipywidgets as widgets\n",
    "from IPython.display import display"
   ]
  },
  {
   "cell_type": "code",
   "execution_count": 2,
   "id": "ffba488b",
   "metadata": {},
   "outputs": [
    {
     "data": {
      "text/html": [
       "<div><style>\n",
       ".dataframe > thead > tr,\n",
       ".dataframe > tbody > tr {\n",
       "  text-align: right;\n",
       "  white-space: pre-wrap;\n",
       "}\n",
       "</style>\n",
       "<small>shape: (5, 3)</small><table border=\"1\" class=\"dataframe\"><thead><tr><th>Date</th><th>IEF_change</th><th>ACWI_change</th></tr><tr><td>date</td><td>f64</td><td>f64</td></tr></thead><tbody><tr><td>2002-09-01</td><td>0.034988</td><td>-0.109683</td></tr><tr><td>2002-10-01</td><td>-0.012032</td><td>0.073638</td></tr><tr><td>2002-11-01</td><td>-0.02136</td><td>0.054702</td></tr><tr><td>2002-12-01</td><td>0.02765</td><td>-0.047677</td></tr><tr><td>2003-01-01</td><td>0.003331</td><td>-0.029187</td></tr></tbody></table></div>"
      ],
      "text/plain": [
       "shape: (5, 3)\n",
       "┌────────────┬────────────┬─────────────┐\n",
       "│ Date       ┆ IEF_change ┆ ACWI_change │\n",
       "│ ---        ┆ ---        ┆ ---         │\n",
       "│ date       ┆ f64        ┆ f64         │\n",
       "╞════════════╪════════════╪═════════════╡\n",
       "│ 2002-09-01 ┆ 0.034988   ┆ -0.109683   │\n",
       "│ 2002-10-01 ┆ -0.012032  ┆ 0.073638    │\n",
       "│ 2002-11-01 ┆ -0.02136   ┆ 0.054702    │\n",
       "│ 2002-12-01 ┆ 0.02765    ┆ -0.047677   │\n",
       "│ 2003-01-01 ┆ 0.003331   ┆ -0.029187   │\n",
       "└────────────┴────────────┴─────────────┘"
      ]
     },
     "execution_count": 2,
     "metadata": {},
     "output_type": "execute_result"
    }
   ],
   "source": [
    "#set parameters\n",
    "end_date = date.today()\n",
    "\n",
    "#obtain market benchmark data\n",
    "mkt=pl.read_excel(\"TimeSeries_luck.xlsx\",sheet_name=\"Market\")\n",
    "mkt=mkt.with_columns((mkt[\"Date\"].str.to_date(\"%Y-%m-%d\")).alias(\"Date\"))\n",
    "dist=mkt.to_numpy()\n",
    "dist = np.delete(dist,0,1)\n",
    "mkt.head(5)"
   ]
  },
  {
   "cell_type": "code",
   "execution_count": 3,
   "id": "56eacd50",
   "metadata": {},
   "outputs": [
    {
     "data": {
      "text/html": [
       "<div><style>\n",
       ".dataframe > thead > tr,\n",
       ".dataframe > tbody > tr {\n",
       "  text-align: right;\n",
       "  white-space: pre-wrap;\n",
       "}\n",
       "</style>\n",
       "<small>shape: (24, 5)</small><table border=\"1\" class=\"dataframe\"><thead><tr><th>Date</th><th>Ticker</th><th># shares</th><th>Price</th><th>Purchased value</th></tr><tr><td>date</td><td>str</td><td>i64</td><td>f64</td><td>f64</td></tr></thead><tbody><tr><td>2022-01-17</td><td>&quot;VWCE&quot;</td><td>19</td><td>102.23</td><td>1942.37</td></tr><tr><td>2022-01-17</td><td>&quot;AGGH&quot;</td><td>283</td><td>5.181</td><td>1466.223</td></tr><tr><td>2022-05-02</td><td>&quot;VWCE&quot;</td><td>20</td><td>98.06</td><td>1961.2</td></tr><tr><td>2022-05-02</td><td>&quot;AGGH&quot;</td><td>242</td><td>4.832</td><td>1169.344</td></tr><tr><td>2022-09-19</td><td>&quot;VWCE&quot;</td><td>15</td><td>94.61</td><td>1419.15</td></tr><tr><td>2022-09-19</td><td>&quot;AGGH&quot;</td><td>223</td><td>4.63</td><td>1032.49</td></tr><tr><td>2022-12-06</td><td>&quot;VWCE&quot;</td><td>12</td><td>94.65</td><td>1135.8</td></tr><tr><td>2023-03-13</td><td>&quot;VWCE&quot;</td><td>17</td><td>92.22</td><td>1567.74</td></tr><tr><td>2023-04-14</td><td>&quot;AGGH&quot;</td><td>178</td><td>4.6375</td><td>825.475</td></tr><tr><td>2023-06-02</td><td>&quot;VWCE&quot;</td><td>15</td><td>98.62</td><td>1479.3</td></tr><tr><td>2023-06-22</td><td>&quot;AGGH&quot;</td><td>135</td><td>4.6035</td><td>621.4725</td></tr><tr><td>2023-07-21</td><td>&quot;VWCE&quot;</td><td>14</td><td>101.26</td><td>1417.64</td></tr><tr><td>2023-07-21</td><td>&quot;AGGH&quot;</td><td>111</td><td>4.6025</td><td>510.8775</td></tr><tr><td>2023-08-16</td><td>&quot;VWCE&quot;</td><td>24</td><td>100.27</td><td>2406.48</td></tr><tr><td>2023-09-26</td><td>&quot;VWCE&quot;</td><td>20</td><td>100.86</td><td>2017.2</td></tr><tr><td>2023-10-02</td><td>&quot;AGGH&quot;</td><td>157</td><td>4.4795</td><td>703.2815</td></tr><tr><td>2023-10-26</td><td>&quot;VWCE&quot;</td><td>12</td><td>97.3</td><td>1167.6</td></tr><tr><td>2023-11-22</td><td>&quot;VWCE&quot;</td><td>24</td><td>102.75</td><td>2466.0</td></tr><tr><td>2023-12-19</td><td>&quot;VWCE&quot;</td><td>15</td><td>106.65</td><td>1599.75</td></tr><tr><td>2023-12-19</td><td>&quot;AGGH&quot;</td><td>137</td><td>4.721</td><td>646.777</td></tr><tr><td>2024-01-15</td><td>&quot;VWCE&quot;</td><td>11</td><td>107.47</td><td>1182.17</td></tr><tr><td>2024-01-15</td><td>&quot;AGGH&quot;</td><td>234</td><td>4.713</td><td>1102.842</td></tr><tr><td>2024-02-14</td><td>&quot;VWCE&quot;</td><td>10</td><td>112.87</td><td>1128.7</td></tr><tr><td>2024-04-05</td><td>&quot;VWCE&quot;</td><td>14</td><td>116.32</td><td>1628.48</td></tr></tbody></table></div>"
      ],
      "text/plain": [
       "shape: (24, 5)\n",
       "┌────────────┬────────┬──────────┬────────┬─────────────────┐\n",
       "│ Date       ┆ Ticker ┆ # shares ┆ Price  ┆ Purchased value │\n",
       "│ ---        ┆ ---    ┆ ---      ┆ ---    ┆ ---             │\n",
       "│ date       ┆ str    ┆ i64      ┆ f64    ┆ f64             │\n",
       "╞════════════╪════════╪══════════╪════════╪═════════════════╡\n",
       "│ 2022-01-17 ┆ VWCE   ┆ 19       ┆ 102.23 ┆ 1942.37         │\n",
       "│ 2022-01-17 ┆ AGGH   ┆ 283      ┆ 5.181  ┆ 1466.223        │\n",
       "│ 2022-05-02 ┆ VWCE   ┆ 20       ┆ 98.06  ┆ 1961.2          │\n",
       "│ 2022-05-02 ┆ AGGH   ┆ 242      ┆ 4.832  ┆ 1169.344        │\n",
       "│ 2022-09-19 ┆ VWCE   ┆ 15       ┆ 94.61  ┆ 1419.15         │\n",
       "│ …          ┆ …      ┆ …        ┆ …      ┆ …               │\n",
       "│ 2023-12-19 ┆ AGGH   ┆ 137      ┆ 4.721  ┆ 646.777         │\n",
       "│ 2024-01-15 ┆ VWCE   ┆ 11       ┆ 107.47 ┆ 1182.17         │\n",
       "│ 2024-01-15 ┆ AGGH   ┆ 234      ┆ 4.713  ┆ 1102.842        │\n",
       "│ 2024-02-14 ┆ VWCE   ┆ 10       ┆ 112.87 ┆ 1128.7          │\n",
       "│ 2024-04-05 ┆ VWCE   ┆ 14       ┆ 116.32 ┆ 1628.48         │\n",
       "└────────────┴────────┴──────────┴────────┴─────────────────┘"
      ]
     },
     "execution_count": 3,
     "metadata": {},
     "output_type": "execute_result"
    }
   ],
   "source": [
    "#obtain my portfolio data\n",
    "tickers=[\"AGGH\",\"VWCE\"] # AGGH in first place because IEF is in first place (bond ETF)\n",
    "tickers_dl=[\"AGGH.MI\",\"VWCE.MI\"]\n",
    "pf=pl.read_excel(\"TimeSeries_luck.xlsx\",sheet_name=\"MyPortfolio\")\n",
    "pf=pf.with_columns((pf[\"Date\"].str.to_date(\"%m-%d-%y\")).alias(\"Date\"))\n",
    "pf"
   ]
  },
  {
   "cell_type": "markdown",
   "id": "c6e20db8",
   "metadata": {},
   "source": [
    "## Transform portfolio data"
   ]
  },
  {
   "cell_type": "code",
   "execution_count": 4,
   "id": "f9027f23",
   "metadata": {},
   "outputs": [
    {
     "data": {
      "text/html": [
       "<div><style>\n",
       ".dataframe > thead > tr,\n",
       ".dataframe > tbody > tr {\n",
       "  text-align: right;\n",
       "  white-space: pre-wrap;\n",
       "}\n",
       "</style>\n",
       "<small>shape: (16, 5)</small><table border=\"1\" class=\"dataframe\"><thead><tr><th>year-month</th><th>VWCE</th><th>AGGH</th><th>VWCE_qty</th><th>AGGH_qty</th></tr><tr><td>date</td><td>f64</td><td>f64</td><td>i64</td><td>i64</td></tr></thead><tbody><tr><td>2022-01-01</td><td>1942.37</td><td>1466.223</td><td>19</td><td>283</td></tr><tr><td>2022-05-01</td><td>1961.2</td><td>1169.344</td><td>20</td><td>242</td></tr><tr><td>2022-09-01</td><td>1419.15</td><td>1032.49</td><td>15</td><td>223</td></tr><tr><td>2022-12-01</td><td>1135.8</td><td>0.0</td><td>12</td><td>0</td></tr><tr><td>2023-03-01</td><td>1567.74</td><td>0.0</td><td>17</td><td>0</td></tr><tr><td>2023-04-01</td><td>0.0</td><td>825.475</td><td>0</td><td>178</td></tr><tr><td>2023-06-01</td><td>1479.3</td><td>621.4725</td><td>15</td><td>135</td></tr><tr><td>2023-07-01</td><td>1417.64</td><td>510.8775</td><td>14</td><td>111</td></tr><tr><td>2023-08-01</td><td>2406.48</td><td>0.0</td><td>24</td><td>0</td></tr><tr><td>2023-09-01</td><td>2017.2</td><td>0.0</td><td>20</td><td>0</td></tr><tr><td>2023-10-01</td><td>1167.6</td><td>703.2815</td><td>12</td><td>157</td></tr><tr><td>2023-11-01</td><td>2466.0</td><td>0.0</td><td>24</td><td>0</td></tr><tr><td>2023-12-01</td><td>1599.75</td><td>646.777</td><td>15</td><td>137</td></tr><tr><td>2024-01-01</td><td>1182.17</td><td>1102.842</td><td>11</td><td>234</td></tr><tr><td>2024-02-01</td><td>1128.7</td><td>0.0</td><td>10</td><td>0</td></tr><tr><td>2024-04-01</td><td>1628.48</td><td>0.0</td><td>14</td><td>0</td></tr></tbody></table></div>"
      ],
      "text/plain": [
       "shape: (16, 5)\n",
       "┌────────────┬─────────┬──────────┬──────────┬──────────┐\n",
       "│ year-month ┆ VWCE    ┆ AGGH     ┆ VWCE_qty ┆ AGGH_qty │\n",
       "│ ---        ┆ ---     ┆ ---      ┆ ---      ┆ ---      │\n",
       "│ date       ┆ f64     ┆ f64      ┆ i64      ┆ i64      │\n",
       "╞════════════╪═════════╪══════════╪══════════╪══════════╡\n",
       "│ 2022-01-01 ┆ 1942.37 ┆ 1466.223 ┆ 19       ┆ 283      │\n",
       "│ 2022-05-01 ┆ 1961.2  ┆ 1169.344 ┆ 20       ┆ 242      │\n",
       "│ 2022-09-01 ┆ 1419.15 ┆ 1032.49  ┆ 15       ┆ 223      │\n",
       "│ 2022-12-01 ┆ 1135.8  ┆ 0.0      ┆ 12       ┆ 0        │\n",
       "│ 2023-03-01 ┆ 1567.74 ┆ 0.0      ┆ 17       ┆ 0        │\n",
       "│ …          ┆ …       ┆ …        ┆ …        ┆ …        │\n",
       "│ 2023-11-01 ┆ 2466.0  ┆ 0.0      ┆ 24       ┆ 0        │\n",
       "│ 2023-12-01 ┆ 1599.75 ┆ 646.777  ┆ 15       ┆ 137      │\n",
       "│ 2024-01-01 ┆ 1182.17 ┆ 1102.842 ┆ 11       ┆ 234      │\n",
       "│ 2024-02-01 ┆ 1128.7  ┆ 0.0      ┆ 10       ┆ 0        │\n",
       "│ 2024-04-01 ┆ 1628.48 ┆ 0.0      ┆ 14       ┆ 0        │\n",
       "└────────────┴─────────┴──────────┴──────────┴──────────┘"
      ]
     },
     "execution_count": 4,
     "metadata": {},
     "output_type": "execute_result"
    }
   ],
   "source": [
    "# transform my portfolio data\n",
    "\n",
    "# 1. put 1 row for each date - data to keep: Purchased value, quantity purchased\n",
    "pf_value = pf.pivot(index=\"Date\",columns=\"Ticker\", values=\"Purchased value\", aggregate_function=\"sum\").fill_null(0)\n",
    "pf_qty = pf.pivot(index=\"Date\",columns=\"Ticker\", values=\"# shares\", aggregate_function=\"sum\").fill_null(0)\n",
    "pf_worked = pf_value.join(pf_qty, on=\"Date\",suffix=\"_qty\")\n",
    "\n",
    "# 2. rework to obtain 1 row per month (from market I obtained monthly returns)\n",
    "pf_worked = pf_worked.with_columns(pl.concat_str([\n",
    "                                                    pl.col(\"Date\").dt.year(),\n",
    "                                                    pl.col(\"Date\").dt.month()],\n",
    "                                                    separator=\"-\").alias(\"year-month\"))\n",
    "pf_worked=pf_worked.with_columns((pl.col(\"year-month\")+\"-1\").alias(\"year-month\"))\n",
    "pf_worked=pf_worked.with_columns((pf_worked[\"year-month\"].str.to_date(\"%Y-%m-%d\")).alias(\"year-month\"))\n",
    "pf_worked=pf_worked.group_by(\"year-month\",maintain_order=True).agg(cs.numeric().sum())\n",
    "pf_worked"
   ]
  },
  {
   "cell_type": "code",
   "execution_count": 5,
   "id": "076df4c0",
   "metadata": {},
   "outputs": [
    {
     "data": {
      "text/html": [
       "<div><style>\n",
       ".dataframe > thead > tr,\n",
       ".dataframe > tbody > tr {\n",
       "  text-align: right;\n",
       "  white-space: pre-wrap;\n",
       "}\n",
       "</style>\n",
       "<small>shape: (16, 7)</small><table border=\"1\" class=\"dataframe\"><thead><tr><th>year-month</th><th>VWCE</th><th>AGGH</th><th>VWCE_qty</th><th>AGGH_qty</th><th>VWCE_price</th><th>AGGH_price</th></tr><tr><td>date</td><td>f64</td><td>f64</td><td>i64</td><td>i64</td><td>f64</td><td>f64</td></tr></thead><tbody><tr><td>2022-01-01</td><td>1942.37</td><td>1466.223</td><td>19</td><td>283</td><td>102.23</td><td>5.181</td></tr><tr><td>2022-05-01</td><td>1961.2</td><td>1169.344</td><td>20</td><td>242</td><td>98.06</td><td>4.832</td></tr><tr><td>2022-09-01</td><td>1419.15</td><td>1032.49</td><td>15</td><td>223</td><td>94.61</td><td>4.63</td></tr><tr><td>2022-12-01</td><td>1135.8</td><td>0.0</td><td>12</td><td>0</td><td>94.65</td><td>0.0</td></tr><tr><td>2023-03-01</td><td>1567.74</td><td>0.0</td><td>17</td><td>0</td><td>92.22</td><td>0.0</td></tr><tr><td>2023-04-01</td><td>0.0</td><td>825.475</td><td>0</td><td>178</td><td>0.0</td><td>4.6375</td></tr><tr><td>2023-06-01</td><td>1479.3</td><td>621.4725</td><td>15</td><td>135</td><td>98.62</td><td>4.6035</td></tr><tr><td>2023-07-01</td><td>1417.64</td><td>510.8775</td><td>14</td><td>111</td><td>101.26</td><td>4.6025</td></tr><tr><td>2023-08-01</td><td>2406.48</td><td>0.0</td><td>24</td><td>0</td><td>100.27</td><td>0.0</td></tr><tr><td>2023-09-01</td><td>2017.2</td><td>0.0</td><td>20</td><td>0</td><td>100.86</td><td>0.0</td></tr><tr><td>2023-10-01</td><td>1167.6</td><td>703.2815</td><td>12</td><td>157</td><td>97.3</td><td>4.4795</td></tr><tr><td>2023-11-01</td><td>2466.0</td><td>0.0</td><td>24</td><td>0</td><td>102.75</td><td>0.0</td></tr><tr><td>2023-12-01</td><td>1599.75</td><td>646.777</td><td>15</td><td>137</td><td>106.65</td><td>4.721</td></tr><tr><td>2024-01-01</td><td>1182.17</td><td>1102.842</td><td>11</td><td>234</td><td>107.47</td><td>4.713</td></tr><tr><td>2024-02-01</td><td>1128.7</td><td>0.0</td><td>10</td><td>0</td><td>112.87</td><td>0.0</td></tr><tr><td>2024-04-01</td><td>1628.48</td><td>0.0</td><td>14</td><td>0</td><td>116.32</td><td>0.0</td></tr></tbody></table></div>"
      ],
      "text/plain": [
       "shape: (16, 7)\n",
       "┌────────────┬─────────┬──────────┬──────────┬──────────┬────────────┬────────────┐\n",
       "│ year-month ┆ VWCE    ┆ AGGH     ┆ VWCE_qty ┆ AGGH_qty ┆ VWCE_price ┆ AGGH_price │\n",
       "│ ---        ┆ ---     ┆ ---      ┆ ---      ┆ ---      ┆ ---        ┆ ---        │\n",
       "│ date       ┆ f64     ┆ f64      ┆ i64      ┆ i64      ┆ f64        ┆ f64        │\n",
       "╞════════════╪═════════╪══════════╪══════════╪══════════╪════════════╪════════════╡\n",
       "│ 2022-01-01 ┆ 1942.37 ┆ 1466.223 ┆ 19       ┆ 283      ┆ 102.23     ┆ 5.181      │\n",
       "│ 2022-05-01 ┆ 1961.2  ┆ 1169.344 ┆ 20       ┆ 242      ┆ 98.06      ┆ 4.832      │\n",
       "│ 2022-09-01 ┆ 1419.15 ┆ 1032.49  ┆ 15       ┆ 223      ┆ 94.61      ┆ 4.63       │\n",
       "│ 2022-12-01 ┆ 1135.8  ┆ 0.0      ┆ 12       ┆ 0        ┆ 94.65      ┆ 0.0        │\n",
       "│ 2023-03-01 ┆ 1567.74 ┆ 0.0      ┆ 17       ┆ 0        ┆ 92.22      ┆ 0.0        │\n",
       "│ …          ┆ …       ┆ …        ┆ …        ┆ …        ┆ …          ┆ …          │\n",
       "│ 2023-11-01 ┆ 2466.0  ┆ 0.0      ┆ 24       ┆ 0        ┆ 102.75     ┆ 0.0        │\n",
       "│ 2023-12-01 ┆ 1599.75 ┆ 646.777  ┆ 15       ┆ 137      ┆ 106.65     ┆ 4.721      │\n",
       "│ 2024-01-01 ┆ 1182.17 ┆ 1102.842 ┆ 11       ┆ 234      ┆ 107.47     ┆ 4.713      │\n",
       "│ 2024-02-01 ┆ 1128.7  ┆ 0.0      ┆ 10       ┆ 0        ┆ 112.87     ┆ 0.0        │\n",
       "│ 2024-04-01 ┆ 1628.48 ┆ 0.0      ┆ 14       ┆ 0        ┆ 116.32     ┆ 0.0        │\n",
       "└────────────┴─────────┴──────────┴──────────┴──────────┴────────────┴────────────┘"
      ]
     },
     "execution_count": 5,
     "metadata": {},
     "output_type": "execute_result"
    }
   ],
   "source": [
    "# 3. add weighted prices per month\n",
    "pf_col=pf_worked.columns\n",
    "x=list(range(int((len(pf_col)-1)/2)))\n",
    "pf_prices=pf_worked\n",
    "for i in x:\n",
    "    pf_prices=pf_prices.with_columns((pl.col(pf_col[i+1])/pl.col(pf_col[i+3])).alias(pf_col[i+1]+\"_price\")).fill_nan(0)\n",
    "pf_prices"
   ]
  },
  {
   "cell_type": "code",
   "execution_count": 6,
   "id": "dd0c7cfc",
   "metadata": {},
   "outputs": [
    {
     "data": {
      "text/html": [
       "<div><style>\n",
       ".dataframe > thead > tr,\n",
       ".dataframe > tbody > tr {\n",
       "  text-align: right;\n",
       "  white-space: pre-wrap;\n",
       "}\n",
       "</style>\n",
       "<small>shape: (16, 5)</small><table border=\"1\" class=\"dataframe\"><thead><tr><th>year-month</th><th>VWCE</th><th>AGGH</th><th>VWCE_qty</th><th>AGGH_qty</th></tr><tr><td>date</td><td>f64</td><td>f64</td><td>i64</td><td>i64</td></tr></thead><tbody><tr><td>2022-01-01</td><td>1942.37</td><td>1466.223</td><td>19</td><td>283</td></tr><tr><td>2022-05-01</td><td>3903.57</td><td>2635.567</td><td>39</td><td>525</td></tr><tr><td>2022-09-01</td><td>5322.72</td><td>3668.057</td><td>54</td><td>748</td></tr><tr><td>2022-12-01</td><td>6458.52</td><td>3668.057</td><td>66</td><td>748</td></tr><tr><td>2023-03-01</td><td>8026.26</td><td>3668.057</td><td>83</td><td>748</td></tr><tr><td>2023-04-01</td><td>8026.26</td><td>4493.532</td><td>83</td><td>926</td></tr><tr><td>2023-06-01</td><td>9505.56</td><td>5115.0045</td><td>98</td><td>1061</td></tr><tr><td>2023-07-01</td><td>10923.2</td><td>5625.882</td><td>112</td><td>1172</td></tr><tr><td>2023-08-01</td><td>13329.68</td><td>5625.882</td><td>136</td><td>1172</td></tr><tr><td>2023-09-01</td><td>15346.88</td><td>5625.882</td><td>156</td><td>1172</td></tr><tr><td>2023-10-01</td><td>16514.48</td><td>6329.1635</td><td>168</td><td>1329</td></tr><tr><td>2023-11-01</td><td>18980.48</td><td>6329.1635</td><td>192</td><td>1329</td></tr><tr><td>2023-12-01</td><td>20580.23</td><td>6975.9405</td><td>207</td><td>1466</td></tr><tr><td>2024-01-01</td><td>21762.4</td><td>8078.7825</td><td>218</td><td>1700</td></tr><tr><td>2024-02-01</td><td>22891.1</td><td>8078.7825</td><td>228</td><td>1700</td></tr><tr><td>2024-04-01</td><td>24519.58</td><td>8078.7825</td><td>242</td><td>1700</td></tr></tbody></table></div>"
      ],
      "text/plain": [
       "shape: (16, 5)\n",
       "┌────────────┬──────────┬───────────┬──────────┬──────────┐\n",
       "│ year-month ┆ VWCE     ┆ AGGH      ┆ VWCE_qty ┆ AGGH_qty │\n",
       "│ ---        ┆ ---      ┆ ---       ┆ ---      ┆ ---      │\n",
       "│ date       ┆ f64      ┆ f64       ┆ i64      ┆ i64      │\n",
       "╞════════════╪══════════╪═══════════╪══════════╪══════════╡\n",
       "│ 2022-01-01 ┆ 1942.37  ┆ 1466.223  ┆ 19       ┆ 283      │\n",
       "│ 2022-05-01 ┆ 3903.57  ┆ 2635.567  ┆ 39       ┆ 525      │\n",
       "│ 2022-09-01 ┆ 5322.72  ┆ 3668.057  ┆ 54       ┆ 748      │\n",
       "│ 2022-12-01 ┆ 6458.52  ┆ 3668.057  ┆ 66       ┆ 748      │\n",
       "│ 2023-03-01 ┆ 8026.26  ┆ 3668.057  ┆ 83       ┆ 748      │\n",
       "│ …          ┆ …        ┆ …         ┆ …        ┆ …        │\n",
       "│ 2023-11-01 ┆ 18980.48 ┆ 6329.1635 ┆ 192      ┆ 1329     │\n",
       "│ 2023-12-01 ┆ 20580.23 ┆ 6975.9405 ┆ 207      ┆ 1466     │\n",
       "│ 2024-01-01 ┆ 21762.4  ┆ 8078.7825 ┆ 218      ┆ 1700     │\n",
       "│ 2024-02-01 ┆ 22891.1  ┆ 8078.7825 ┆ 228      ┆ 1700     │\n",
       "│ 2024-04-01 ┆ 24519.58 ┆ 8078.7825 ┆ 242      ┆ 1700     │\n",
       "└────────────┴──────────┴───────────┴──────────┴──────────┘"
      ]
     },
     "execution_count": 6,
     "metadata": {},
     "output_type": "execute_result"
    }
   ],
   "source": [
    "# 3. cumulated sum\n",
    "pf_cumul=pf_worked.select([\"year-month\",cs.numeric().cum_sum()])\n",
    "pf_cumul"
   ]
  },
  {
   "cell_type": "code",
   "execution_count": 7,
   "id": "d5769758",
   "metadata": {},
   "outputs": [
    {
     "data": {
      "text/html": [
       "<div><style>\n",
       ".dataframe > thead > tr,\n",
       ".dataframe > tbody > tr {\n",
       "  text-align: right;\n",
       "  white-space: pre-wrap;\n",
       "}\n",
       "</style>\n",
       "<small>shape: (5, 7)</small><table border=\"1\" class=\"dataframe\"><thead><tr><th>year-month</th><th>VWCE</th><th>AGGH</th><th>VWCE_qty</th><th>AGGH_qty</th><th>VWCE_weighted_price</th><th>AGGH_weighted_price</th></tr><tr><td>date</td><td>f64</td><td>f64</td><td>i64</td><td>i64</td><td>f64</td><td>f64</td></tr></thead><tbody><tr><td>2023-12-01</td><td>20580.23</td><td>6975.9405</td><td>207</td><td>1466</td><td>99.421401</td><td>4.758486</td></tr><tr><td>2024-01-01</td><td>21762.4</td><td>8078.7825</td><td>218</td><td>1700</td><td>99.827523</td><td>4.752225</td></tr><tr><td>2024-02-01</td><td>22891.1</td><td>8078.7825</td><td>228</td><td>1700</td><td>100.399561</td><td>4.752225</td></tr><tr><td>2024-03-01</td><td>22891.1</td><td>8078.7825</td><td>228</td><td>1700</td><td>100.399561</td><td>4.752225</td></tr><tr><td>2024-04-01</td><td>24519.58</td><td>8078.7825</td><td>242</td><td>1700</td><td>101.320579</td><td>4.752225</td></tr></tbody></table></div>"
      ],
      "text/plain": [
       "shape: (5, 7)\n",
       "┌────────────┬──────────┬───────────┬──────────┬──────────┬─────────────────────┬─────────────────────┐\n",
       "│ year-month ┆ VWCE     ┆ AGGH      ┆ VWCE_qty ┆ AGGH_qty ┆ VWCE_weighted_price ┆ AGGH_weighted_price │\n",
       "│ ---        ┆ ---      ┆ ---       ┆ ---      ┆ ---      ┆ ---                 ┆ ---                 │\n",
       "│ date       ┆ f64      ┆ f64       ┆ i64      ┆ i64      ┆ f64                 ┆ f64                 │\n",
       "╞════════════╪══════════╪═══════════╪══════════╪══════════╪═════════════════════╪═════════════════════╡\n",
       "│ 2023-12-01 ┆ 20580.23 ┆ 6975.9405 ┆ 207      ┆ 1466     ┆ 99.421401           ┆ 4.758486            │\n",
       "│ 2024-01-01 ┆ 21762.4  ┆ 8078.7825 ┆ 218      ┆ 1700     ┆ 99.827523           ┆ 4.752225            │\n",
       "│ 2024-02-01 ┆ 22891.1  ┆ 8078.7825 ┆ 228      ┆ 1700     ┆ 100.399561          ┆ 4.752225            │\n",
       "│ 2024-03-01 ┆ 22891.1  ┆ 8078.7825 ┆ 228      ┆ 1700     ┆ 100.399561          ┆ 4.752225            │\n",
       "│ 2024-04-01 ┆ 24519.58 ┆ 8078.7825 ┆ 242      ┆ 1700     ┆ 101.320579          ┆ 4.752225            │\n",
       "└────────────┴──────────┴───────────┴──────────┴──────────┴─────────────────────┴─────────────────────┘"
      ]
     },
     "execution_count": 7,
     "metadata": {},
     "output_type": "execute_result"
    }
   ],
   "source": [
    "# 4. upsample to include missing months\n",
    "pf_prices=pf_prices.set_sorted(\"year-month\")\n",
    "pf_cumul=pf_cumul.set_sorted(\"year-month\")\n",
    "pf_prices=pf_prices.upsample(time_column=\"year-month\",every=\"1mo\").fill_null(0)\n",
    "pf_cumul=pf_cumul.upsample(time_column=\"year-month\",every=\"1mo\").select(pl.all().forward_fill())\n",
    "for i in x:\n",
    "    pf_cumul=pf_cumul.with_columns((pl.col(pf_col[i+1])/pl.col(pf_col[i+3])).alias(pf_col[i+1]+\"_weighted_price\"))\n",
    "pf_cumul.tail(5)"
   ]
  },
  {
   "cell_type": "code",
   "execution_count": 8,
   "id": "07f58a4e",
   "metadata": {},
   "outputs": [
    {
     "name": "stderr",
     "output_type": "stream",
     "text": [
      "[*********************100%%**********************]  2 of 2 completed\n"
     ]
    },
    {
     "data": {
      "text/html": [
       "<div><style>\n",
       ".dataframe > thead > tr,\n",
       ".dataframe > tbody > tr {\n",
       "  text-align: right;\n",
       "  white-space: pre-wrap;\n",
       "}\n",
       "</style>\n",
       "<small>shape: (10, 3)</small><table border=\"1\" class=\"dataframe\"><thead><tr><th>Date</th><th>AGGH.MI</th><th>VWCE.MI</th></tr><tr><td>date</td><td>f64</td><td>f64</td></tr></thead><tbody><tr><td>2022-01-01</td><td>5.156</td><td>99.629997</td></tr><tr><td>2022-02-01</td><td>5.085</td><td>97.800003</td></tr><tr><td>2022-03-01</td><td>4.982</td><td>101.75</td></tr><tr><td>2022-04-01</td><td>4.8325</td><td>99.239998</td></tr><tr><td>2022-05-01</td><td>4.816</td><td>96.209999</td></tr><tr><td>2024-02-01</td><td>4.6875</td><td>114.209999</td></tr><tr><td>2024-03-01</td><td>4.722</td><td>118.269997</td></tr><tr><td>2024-04-01</td><td>4.6425</td><td>116.239998</td></tr><tr><td>2024-05-01</td><td>4.669</td><td>117.519997</td></tr><tr><td>2024-06-01</td><td>4.684</td><td>118.379997</td></tr></tbody></table></div>"
      ],
      "text/plain": [
       "shape: (10, 3)\n",
       "┌────────────┬─────────┬────────────┐\n",
       "│ Date       ┆ AGGH.MI ┆ VWCE.MI    │\n",
       "│ ---        ┆ ---     ┆ ---        │\n",
       "│ date       ┆ f64     ┆ f64        │\n",
       "╞════════════╪═════════╪════════════╡\n",
       "│ 2022-01-01 ┆ 5.156   ┆ 99.629997  │\n",
       "│ 2022-02-01 ┆ 5.085   ┆ 97.800003  │\n",
       "│ 2022-03-01 ┆ 4.982   ┆ 101.75     │\n",
       "│ 2022-04-01 ┆ 4.8325  ┆ 99.239998  │\n",
       "│ 2022-05-01 ┆ 4.816   ┆ 96.209999  │\n",
       "│ 2024-02-01 ┆ 4.6875  ┆ 114.209999 │\n",
       "│ 2024-03-01 ┆ 4.722   ┆ 118.269997 │\n",
       "│ 2024-04-01 ┆ 4.6425  ┆ 116.239998 │\n",
       "│ 2024-05-01 ┆ 4.669   ┆ 117.519997 │\n",
       "│ 2024-06-01 ┆ 4.684   ┆ 118.379997 │\n",
       "└────────────┴─────────┴────────────┘"
      ]
     },
     "execution_count": 8,
     "metadata": {},
     "output_type": "execute_result"
    }
   ],
   "source": [
    "# download the tickers performance in my reference period\n",
    "start_df = pf_prices.select([\"year-month\"]).min()\n",
    "start = start_df.item(0,0)\n",
    "df=yf.download(tickers_dl,start=start,end=end_date,interval=\"1mo\")['Adj Close']\n",
    "df=pl.from_pandas(df,include_index=True)\n",
    "df=df.cast({\"Date\":pl.Date})\n",
    "df_show=pl.concat([df.head(5),df.tail(5)],how='vertical')\n",
    "df_show"
   ]
  },
  {
   "cell_type": "code",
   "execution_count": 9,
   "id": "17cdfa3d",
   "metadata": {},
   "outputs": [
    {
     "data": {
      "text/html": [
       "<div><style>\n",
       ".dataframe > thead > tr,\n",
       ".dataframe > tbody > tr {\n",
       "  text-align: right;\n",
       "  white-space: pre-wrap;\n",
       "}\n",
       "</style>\n",
       "<small>shape: (1, 15)</small><table border=\"1\" class=\"dataframe\"><thead><tr><th>Date</th><th>VWCE_purchased</th><th>AGGH_purchased</th><th>VWCE_qty</th><th>AGGH_qty</th><th>VWCE_purch_price</th><th>AGGH_purch_price</th><th>AGGH_mkt_val</th><th>VWCE_mkt_val</th><th>VWCE_cpurchased</th><th>AGGH_cpurchased</th><th>VWCE_cqty</th><th>AGGH_cqty</th><th>VWCE_weighted_price</th><th>AGGH_weighted_price</th></tr><tr><td>date</td><td>f64</td><td>f64</td><td>i64</td><td>i64</td><td>f64</td><td>f64</td><td>f64</td><td>f64</td><td>f64</td><td>f64</td><td>i64</td><td>i64</td><td>f64</td><td>f64</td></tr></thead><tbody><tr><td>2022-01-01</td><td>1942.37</td><td>1466.223</td><td>19</td><td>283</td><td>102.23</td><td>5.181</td><td>5.156</td><td>99.629997</td><td>1942.37</td><td>1466.223</td><td>19</td><td>283</td><td>102.23</td><td>5.181</td></tr></tbody></table></div>"
      ],
      "text/plain": [
       "shape: (1, 15)\n",
       "┌────────────┬────────────────┬────────────────┬──────────┬───┬───────────┬───────────┬────────────────┬───────────────┐\n",
       "│ Date       ┆ VWCE_purchased ┆ AGGH_purchased ┆ VWCE_qty ┆ … ┆ VWCE_cqty ┆ AGGH_cqty ┆ VWCE_weighted_ ┆ AGGH_weighted │\n",
       "│ ---        ┆ ---            ┆ ---            ┆ ---      ┆   ┆ ---       ┆ ---       ┆ price          ┆ _price        │\n",
       "│ date       ┆ f64            ┆ f64            ┆ i64      ┆   ┆ i64       ┆ i64       ┆ ---            ┆ ---           │\n",
       "│            ┆                ┆                ┆          ┆   ┆           ┆           ┆ f64            ┆ f64           │\n",
       "╞════════════╪════════════════╪════════════════╪══════════╪═══╪═══════════╪═══════════╪════════════════╪═══════════════╡\n",
       "│ 2022-01-01 ┆ 1942.37        ┆ 1466.223       ┆ 19       ┆ … ┆ 19        ┆ 283       ┆ 102.23         ┆ 5.181         │\n",
       "└────────────┴────────────────┴────────────────┴──────────┴───┴───────────┴───────────┴────────────────┴───────────────┘"
      ]
     },
     "execution_count": 9,
     "metadata": {},
     "output_type": "execute_result"
    }
   ],
   "source": [
    "# combine all in the same df\n",
    "pf_all=pf_prices.clone()\n",
    "pf_all=pf_all.join(df,left_on=\"year-month\",right_on=\"Date\",how='outer').fill_null(0)\n",
    "pf_all=pf_all.join(pf_cumul,left_on=\"Date\",right_on=\"year-month\",how='outer').select(pl.all().forward_fill())\n",
    "pf_all=pf_all.drop([\"year-month\",\"year-month_right\"])\n",
    "\n",
    "# move \"Date\" to the beginning\n",
    "pf_all_col=pf_all.columns\n",
    "pf_all_col.insert(0, \"Date\")\n",
    "pf_all_col.pop(7)\n",
    "pf_all=pf_all.select(pf_all_col)\n",
    "\n",
    "#rename columns to more meaningful headers\n",
    "headers={}\n",
    "for t in tickers:\n",
    "    purch_value=t+\"_purchased\"\n",
    "    price=t+\"_price\"\n",
    "    purch_price=t+\"_purch_price\"\n",
    "    mkt_price=t+\".MI\"\n",
    "    mkt_value=t+\"_mkt_val\"\n",
    "    right=t+\"_right\"\n",
    "    cum_purch_value=t+\"_cpurchased\"\n",
    "    qty_right=t+\"_qty_right\"\n",
    "    qty_cumul=t+\"_cqty\"\n",
    "    headers[t]=purch_value\n",
    "    headers[price]=purch_price\n",
    "    headers[mkt_price]=mkt_value\n",
    "    headers[right]=cum_purch_value\n",
    "    headers[qty_right]=qty_cumul\n",
    "pf_all=pf_all.rename(headers)\n",
    "pf_all.head(1)"
   ]
  },
  {
   "cell_type": "code",
   "execution_count": 10,
   "id": "ea3c9a56",
   "metadata": {},
   "outputs": [
    {
     "data": {
      "text/html": [
       "<div><style>\n",
       ".dataframe > thead > tr,\n",
       ".dataframe > tbody > tr {\n",
       "  text-align: right;\n",
       "  white-space: pre-wrap;\n",
       "}\n",
       "</style>\n",
       "<small>shape: (1, 17)</small><table border=\"1\" class=\"dataframe\"><thead><tr><th>Date</th><th>VWCE_purchased</th><th>AGGH_purchased</th><th>VWCE_qty</th><th>AGGH_qty</th><th>VWCE_purch_price</th><th>AGGH_purch_price</th><th>AGGH_mkt_val</th><th>VWCE_mkt_val</th><th>VWCE_cpurchased</th><th>AGGH_cpurchased</th><th>VWCE_cqty</th><th>AGGH_cqty</th><th>VWCE_weighted_price</th><th>AGGH_weighted_price</th><th>AGGH_%change_vs_purch</th><th>VWCE_%change_vs_purch</th></tr><tr><td>date</td><td>f64</td><td>f64</td><td>i64</td><td>i64</td><td>f64</td><td>f64</td><td>f64</td><td>f64</td><td>f64</td><td>f64</td><td>i64</td><td>i64</td><td>f64</td><td>f64</td><td>f64</td><td>f64</td></tr></thead><tbody><tr><td>2022-01-01</td><td>1942.37</td><td>1466.223</td><td>19</td><td>283</td><td>102.23</td><td>5.181</td><td>5.181</td><td>102.23</td><td>1942.37</td><td>1466.223</td><td>19</td><td>283</td><td>102.23</td><td>5.181</td><td>1.0</td><td>1.0</td></tr></tbody></table></div>"
      ],
      "text/plain": [
       "shape: (1, 17)\n",
       "┌────────────┬───────────────┬──────────────┬──────────┬───┬──────────────┬──────────────┬──────────────┬──────────────┐\n",
       "│ Date       ┆ VWCE_purchase ┆ AGGH_purchas ┆ VWCE_qty ┆ … ┆ VWCE_weighte ┆ AGGH_weighte ┆ AGGH_%change ┆ VWCE_%change │\n",
       "│ ---        ┆ d             ┆ ed           ┆ ---      ┆   ┆ d_price      ┆ d_price      ┆ _vs_purch    ┆ _vs_purch    │\n",
       "│ date       ┆ ---           ┆ ---          ┆ i64      ┆   ┆ ---          ┆ ---          ┆ ---          ┆ ---          │\n",
       "│            ┆ f64           ┆ f64          ┆          ┆   ┆ f64          ┆ f64          ┆ f64          ┆ f64          │\n",
       "╞════════════╪═══════════════╪══════════════╪══════════╪═══╪══════════════╪══════════════╪══════════════╪══════════════╡\n",
       "│ 2022-01-01 ┆ 1942.37       ┆ 1466.223     ┆ 19       ┆ … ┆ 102.23       ┆ 5.181        ┆ 1.0          ┆ 1.0          │\n",
       "└────────────┴───────────────┴──────────────┴──────────┴───┴──────────────┴──────────────┴──────────────┴──────────────┘"
      ]
     },
     "execution_count": 10,
     "metadata": {},
     "output_type": "execute_result"
    }
   ],
   "source": [
    "# further adjustments: \n",
    "# (1) if an asset is purchased in the period, mkt_value = purch_price; \n",
    "# (2) add pct_change for \"mkt_value\"\n",
    "pf=pf_all.clone()\n",
    "for t in tickers:\n",
    "    pf=pf.with_columns(pl.when(pl.col(t+\"_purch_price\") > 0).then(pl.col(t+\"_purch_price\")).otherwise(pl.col(t+\"_mkt_val\")).alias(t+\"_mkt_val\"))\n",
    "    # this is the value to compare with the simulation, based on the ageing (in months) we will calculate in the next cell\n",
    "    pf=pf.with_columns((1+(pl.col(t+\"_mkt_val\")-pl.col(t+\"_weighted_price\"))/pl.col(t+\"_weighted_price\")).alias(t+\"_%change_vs_purch\"))\n",
    "pf.head(1)"
   ]
  },
  {
   "cell_type": "code",
   "execution_count": 11,
   "id": "6dbaaf7b",
   "metadata": {},
   "outputs": [
    {
     "name": "stderr",
     "output_type": "stream",
     "text": [
      "C:\\Users\\mbolo\\AppData\\Local\\Temp\\ipykernel_12244\\1674165539.py:29: RuntimeWarning: invalid value encountered in divide\n",
      "  age=sum_prod_res/sum_res\n"
     ]
    },
    {
     "data": {
      "text/html": [
       "<div><style>\n",
       ".dataframe > thead > tr,\n",
       ".dataframe > tbody > tr {\n",
       "  text-align: right;\n",
       "  white-space: pre-wrap;\n",
       "}\n",
       "</style>\n",
       "<small>shape: (1, 19)</small><table border=\"1\" class=\"dataframe\"><thead><tr><th>Date</th><th>VWCE_purchased</th><th>AGGH_purchased</th><th>VWCE_qty</th><th>AGGH_qty</th><th>VWCE_purch_price</th><th>AGGH_purch_price</th><th>AGGH_mkt_val</th><th>VWCE_mkt_val</th><th>VWCE_cpurchased</th><th>AGGH_cpurchased</th><th>VWCE_cqty</th><th>AGGH_cqty</th><th>VWCE_weighted_price</th><th>AGGH_weighted_price</th><th>AGGH_%change_vs_purch</th><th>AGGH_age</th><th>VWCE_age</th><th>VWCE_%change_vs_purch</th></tr><tr><td>date</td><td>f64</td><td>f64</td><td>i64</td><td>i64</td><td>f64</td><td>f64</td><td>f64</td><td>f64</td><td>f64</td><td>f64</td><td>i64</td><td>i64</td><td>f64</td><td>f64</td><td>f64</td><td>i64</td><td>i64</td><td>f64</td></tr></thead><tbody><tr><td>2024-06-01</td><td>0.0</td><td>0.0</td><td>0</td><td>0</td><td>0.0</td><td>0.0</td><td>4.684</td><td>118.379997</td><td>24519.58</td><td>8078.7825</td><td>242</td><td>1700</td><td>101.320579</td><td>4.752225</td><td>0.985644</td><td>16</td><td>12</td><td>1.168371</td></tr></tbody></table></div>"
      ],
      "text/plain": [
       "shape: (1, 19)\n",
       "┌────────────┬────────────────┬────────────────┬──────────┬───┬─────────────────┬──────────┬──────────┬────────────────┐\n",
       "│ Date       ┆ VWCE_purchased ┆ AGGH_purchased ┆ VWCE_qty ┆ … ┆ AGGH_%change_vs ┆ AGGH_age ┆ VWCE_age ┆ VWCE_%change_v │\n",
       "│ ---        ┆ ---            ┆ ---            ┆ ---      ┆   ┆ _purch          ┆ ---      ┆ ---      ┆ s_purch        │\n",
       "│ date       ┆ f64            ┆ f64            ┆ i64      ┆   ┆ ---             ┆ i64      ┆ i64      ┆ ---            │\n",
       "│            ┆                ┆                ┆          ┆   ┆ f64             ┆          ┆          ┆ f64            │\n",
       "╞════════════╪════════════════╪════════════════╪══════════╪═══╪═════════════════╪══════════╪══════════╪════════════════╡\n",
       "│ 2024-06-01 ┆ 0.0            ┆ 0.0            ┆ 0        ┆ … ┆ 0.985644        ┆ 16       ┆ 12       ┆ 1.168371       │\n",
       "└────────────┴────────────────┴────────────────┴──────────┴───┴─────────────────┴──────────┴──────────┴────────────────┘"
      ]
     },
     "execution_count": 11,
     "metadata": {},
     "output_type": "execute_result"
    }
   ],
   "source": [
    "# (3) calculate weighted average ageing for each asset at each point in time - this is a bit of a pain in the ass\n",
    "x=range(0,len(pf))\n",
    "months=list(x)\n",
    "df=pf.select([\"Date\"])\n",
    "m=pl.Series(\"month\",months)\n",
    "df.insert_column(0,m)\n",
    "\n",
    "for t in tickers:\n",
    "    col=pf.select([t+\"_qty\"]).to_series()\n",
    "    df.insert_column(-1,col)\n",
    "arr=df.to_numpy()\n",
    "for t in range(1,len(tickers)+1): # check for every ticker\n",
    "    sum_prod = np.zeros([len(months),len(months)])\n",
    "    sum_ = np.zeros([len(months),len(months)])\n",
    "    count_ = np.zeros([len(months),len(months)])\n",
    "    for j in x: #check on all the time periods\n",
    "        qty = arr[j,t]\n",
    "        count=1\n",
    "        if qty>0:\n",
    "            for i in x:\n",
    "                if i>j:\n",
    "                    sum_prod[i,j]=qty*(i-j)\n",
    "                    sum_[i,j]=qty\n",
    "                    count_[i,j]=count\n",
    "                    count+=1\n",
    "    sum_prod_res = sum_prod.sum(axis=1)\n",
    "    sum_res = sum_.sum(axis=1)\n",
    "    np.seterr(divide='ignore')\n",
    "    age=sum_prod_res/sum_res\n",
    "    age=np.nan_to_num(age,nan=0).astype(np.int32)\n",
    "    l=pl.Series(tickers[t-1]+\"_age\",age.tolist())\n",
    "    pf.insert_column(-1,l)\n",
    "pf.tail(1)"
   ]
  },
  {
   "cell_type": "markdown",
   "id": "d27cdc85",
   "metadata": {},
   "source": [
    "# Run simulations and assess your luck"
   ]
  },
  {
   "cell_type": "code",
   "execution_count": 12,
   "id": "94d966ab",
   "metadata": {},
   "outputs": [
    {
     "name": "stdout",
     "output_type": "stream",
     "text": [
      "Nr. months:  29\n"
     ]
    },
    {
     "data": {
      "application/vnd.jupyter.widget-view+json": {
       "model_id": "b93f340d9d474858b27a0078e244dd7b",
       "version_major": 2,
       "version_minor": 0
      },
      "text/plain": [
       "IntProgress(value=0, description='Simulation:', max=10000)"
      ]
     },
     "metadata": {},
     "output_type": "display_data"
    }
   ],
   "source": [
    "# run simulations\n",
    "def diff_month(d1, d2):\n",
    "    return (d1.year - d2.year) * 12 + d1.month - d2.month\n",
    "\n",
    "n_var=len(tickers)\n",
    "n_runs=10000\n",
    "n_periods =  diff_month(end_date,start) # periods of investment horizon\n",
    "print(\"Nr. months: \",n_periods)\n",
    "\n",
    "tot = n_var*n_runs*n_periods\n",
    "seed = 1231231 # seed of random uniform distribution\n",
    "random_space = ss.uniform.rvs(size=tot, random_state=seed)\n",
    "random_space = random_space.reshape(n_periods, n_var, n_runs)\n",
    "\n",
    "#run the simulation - assuming no correlation between variables\n",
    "\n",
    "ones = np.ones([n_periods, n_var])\n",
    "rand_walks = np.zeros([n_periods,n_var, n_runs])\n",
    "\n",
    "#progress bar setup\n",
    "f = widgets.IntProgress(min=0, max=n_runs,description='Simulation:',) # instantiate the bar\n",
    "display(f) # display the bar\n",
    "\n",
    "for run in range(n_runs):\n",
    "    if run%100==0:\n",
    "        f.value = run\n",
    "    pc_change = np.zeros([n_periods, n_var])\n",
    "    for var in range(n_var):\n",
    "        rspace = random_space[:,var,run]\n",
    "        pc_change[:,var] = np.quantile(dist[:,var],rspace)\n",
    "    pc_change = pc_change+ones\n",
    "    pc_change = np.cumprod(pc_change,axis=0)\n",
    "    rand_walks[:,:,run] = pc_change[:,:]"
   ]
  },
  {
   "cell_type": "code",
   "execution_count": 13,
   "id": "c4601581",
   "metadata": {},
   "outputs": [
    {
     "data": {
      "text/html": [
       "<div><style>\n",
       ".dataframe > thead > tr,\n",
       ".dataframe > tbody > tr {\n",
       "  text-align: right;\n",
       "  white-space: pre-wrap;\n",
       "}\n",
       "</style>\n",
       "<small>shape: (29, 5)</small><table border=\"1\" class=\"dataframe\"><thead><tr><th>Date</th><th>AGGH_%change_vs_purch</th><th>AGGH_age</th><th>VWCE_%change_vs_purch</th><th>VWCE_age</th></tr><tr><td>date</td><td>f64</td><td>i64</td><td>f64</td><td>i64</td></tr></thead><tbody><tr><td>2022-02-01</td><td>0.981471</td><td>1</td><td>0.956666</td><td>1</td></tr><tr><td>2022-03-01</td><td>0.96159</td><td>2</td><td>0.995305</td><td>2</td></tr><tr><td>2022-04-01</td><td>0.932735</td><td>3</td><td>0.970752</td><td>3</td></tr><tr><td>2022-05-01</td><td>0.962525</td><td>4</td><td>0.979703</td><td>4</td></tr><tr><td>2022-06-01</td><td>0.942805</td><td>3</td><td>0.904472</td><td>2</td></tr><tr><td>2022-07-01</td><td>0.970493</td><td>4</td><td>0.984599</td><td>3</td></tr><tr><td>2022-08-01</td><td>0.937028</td><td>5</td><td>0.970112</td><td>4</td></tr><tr><td>2022-09-01</td><td>0.944162</td><td>6</td><td>0.959836</td><td>5</td></tr><tr><td>2022-10-01</td><td>0.920405</td><td>5</td><td>0.959431</td><td>5</td></tr><tr><td>2022-11-01</td><td>0.935597</td><td>6</td><td>0.972619</td><td>6</td></tr><tr><td>2022-12-01</td><td>0.924789</td><td>7</td><td>0.967234</td><td>7</td></tr><tr><td>2023-01-01</td><td>0.943142</td><td>8</td><td>0.97173</td><td>6</td></tr><tr><td>&hellip;</td><td>&hellip;</td><td>&hellip;</td><td>&hellip;</td><td>&hellip;</td></tr><tr><td>2023-07-01</td><td>0.958806</td><td>10</td><td>1.03826</td><td>9</td></tr><tr><td>2023-08-01</td><td>0.954223</td><td>10</td><td>1.023034</td><td>9</td></tr><tr><td>2023-09-01</td><td>0.93787</td><td>11</td><td>1.025235</td><td>8</td></tr><tr><td>2023-10-01</td><td>0.940607</td><td>12</td><td>0.989822</td><td>8</td></tr><tr><td>2023-11-01</td><td>0.967275</td><td>12</td><td>1.039384</td><td>8</td></tr><tr><td>2023-12-01</td><td>0.992122</td><td>13</td><td>1.072707</td><td>8</td></tr><tr><td>2024-01-01</td><td>0.991746</td><td>12</td><td>1.076557</td><td>9</td></tr><tr><td>2024-02-01</td><td>0.98638</td><td>12</td><td>1.124208</td><td>9</td></tr><tr><td>2024-03-01</td><td>0.99364</td><td>13</td><td>1.177993</td><td>10</td></tr><tr><td>2024-04-01</td><td>0.976911</td><td>14</td><td>1.148039</td><td>11</td></tr><tr><td>2024-05-01</td><td>0.982487</td><td>15</td><td>1.159883</td><td>11</td></tr><tr><td>2024-06-01</td><td>0.985644</td><td>16</td><td>1.168371</td><td>12</td></tr></tbody></table></div>"
      ],
      "text/plain": [
       "shape: (29, 5)\n",
       "┌────────────┬───────────────────────┬──────────┬───────────────────────┬──────────┐\n",
       "│ Date       ┆ AGGH_%change_vs_purch ┆ AGGH_age ┆ VWCE_%change_vs_purch ┆ VWCE_age │\n",
       "│ ---        ┆ ---                   ┆ ---      ┆ ---                   ┆ ---      │\n",
       "│ date       ┆ f64                   ┆ i64      ┆ f64                   ┆ i64      │\n",
       "╞════════════╪═══════════════════════╪══════════╪═══════════════════════╪══════════╡\n",
       "│ 2022-02-01 ┆ 0.981471              ┆ 1        ┆ 0.956666              ┆ 1        │\n",
       "│ 2022-03-01 ┆ 0.96159               ┆ 2        ┆ 0.995305              ┆ 2        │\n",
       "│ 2022-04-01 ┆ 0.932735              ┆ 3        ┆ 0.970752              ┆ 3        │\n",
       "│ 2022-05-01 ┆ 0.962525              ┆ 4        ┆ 0.979703              ┆ 4        │\n",
       "│ 2022-06-01 ┆ 0.942805              ┆ 3        ┆ 0.904472              ┆ 2        │\n",
       "│ …          ┆ …                     ┆ …        ┆ …                     ┆ …        │\n",
       "│ 2024-02-01 ┆ 0.98638               ┆ 12       ┆ 1.124208              ┆ 9        │\n",
       "│ 2024-03-01 ┆ 0.99364               ┆ 13       ┆ 1.177993              ┆ 10       │\n",
       "│ 2024-04-01 ┆ 0.976911              ┆ 14       ┆ 1.148039              ┆ 11       │\n",
       "│ 2024-05-01 ┆ 0.982487              ┆ 15       ┆ 1.159883              ┆ 11       │\n",
       "│ 2024-06-01 ┆ 0.985644              ┆ 16       ┆ 1.168371              ┆ 12       │\n",
       "└────────────┴───────────────────────┴──────────┴───────────────────────┴──────────┘"
      ]
     },
     "execution_count": 13,
     "metadata": {},
     "output_type": "execute_result"
    }
   ],
   "source": [
    "# select the filter with the relevant data for the quantile calculation\n",
    "column_list=[\"Date\"] # columns to be taken from pf DataFrame\n",
    "for t in tickers:\n",
    "    column_list.append(t+\"_%change_vs_purch\")\n",
    "    column_list.append(t+\"_age\")\n",
    "quant=pf.select(column_list)\n",
    "quant=quant.filter(pl.col(\"Date\")>start)\n",
    "quant"
   ]
  },
  {
   "cell_type": "code",
   "execution_count": 14,
   "id": "9e1188e0",
   "metadata": {
    "scrolled": true
   },
   "outputs": [
    {
     "data": {
      "text/html": [
       "<div><style>\n",
       ".dataframe > thead > tr,\n",
       ".dataframe > tbody > tr {\n",
       "  text-align: right;\n",
       "  white-space: pre-wrap;\n",
       "}\n",
       "</style>\n",
       "<small>shape: (1, 9)</small><table border=\"1\" class=\"dataframe\"><thead><tr><th>Date</th><th>AGGH_%change_vs_purch</th><th>AGGH_age</th><th>VWCE_%change_vs_purch</th><th>AGGH_prob</th><th>AGGH_p20</th><th>VWCE_prob</th><th>VWCE_p20</th><th>VWCE_age</th></tr><tr><td>date</td><td>f64</td><td>i64</td><td>f64</td><td>f64</td><td>f64</td><td>f64</td><td>f64</td><td>i64</td></tr></thead><tbody><tr><td>2024-06-01</td><td>0.985644</td><td>16</td><td>1.168371</td><td>0.2103</td><td>0.983259</td><td>0.6631</td><td>0.964268</td><td>12</td></tr></tbody></table></div>"
      ],
      "text/plain": [
       "shape: (1, 9)\n",
       "┌────────────┬──────────────────────┬──────────┬──────────────────────┬───┬──────────┬───────────┬──────────┬──────────┐\n",
       "│ Date       ┆ AGGH_%change_vs_purc ┆ AGGH_age ┆ VWCE_%change_vs_purc ┆ … ┆ AGGH_p20 ┆ VWCE_prob ┆ VWCE_p20 ┆ VWCE_age │\n",
       "│ ---        ┆ h                    ┆ ---      ┆ h                    ┆   ┆ ---      ┆ ---       ┆ ---      ┆ ---      │\n",
       "│ date       ┆ ---                  ┆ i64      ┆ ---                  ┆   ┆ f64      ┆ f64       ┆ f64      ┆ i64      │\n",
       "│            ┆ f64                  ┆          ┆ f64                  ┆   ┆          ┆           ┆          ┆          │\n",
       "╞════════════╪══════════════════════╪══════════╪══════════════════════╪═══╪══════════╪═══════════╪══════════╪══════════╡\n",
       "│ 2024-06-01 ┆ 0.985644             ┆ 16       ┆ 1.168371             ┆ … ┆ 0.983259 ┆ 0.6631    ┆ 0.964268 ┆ 12       │\n",
       "└────────────┴──────────────────────┴──────────┴──────────────────────┴───┴──────────┴───────────┴──────────┴──────────┘"
      ]
     },
     "execution_count": 14,
     "metadata": {},
     "output_type": "execute_result"
    }
   ],
   "source": [
    "# calculate the quantile for each asset at each period\n",
    "\n",
    "for var in range(n_var):\n",
    "    l=quant.columns\n",
    "    t = tickers[var]\n",
    "    a=[item for item in l if t in item]\n",
    "    ticker_input=quant.select(a).to_numpy()\n",
    "    l=[]\n",
    "    p20=[]\n",
    "    for p in range(len(quant)):\n",
    "        result=ticker_input[p,0]\n",
    "        age=int(ticker_input[p,1])-1 # -1 because simulation period 0 is actually equivalent to ageing=1\n",
    "        # distribution of 10,000 results at time = age and var corresponding to the ticker\n",
    "        ref_dist= rand_walks[age,var,:]\n",
    "        l.append((ref_dist<=result).sum()/n_runs)\n",
    "        p20.append(np.quantile(ref_dist,0.2))\n",
    "    ls=pl.Series(t+\"_prob\",l)\n",
    "    p20=pl.Series(t+\"_p20\",p20)\n",
    "    quant.insert_column(-1,ls)\n",
    "    quant.insert_column(-1,p20)\n",
    "quant.tail(1)"
   ]
  },
  {
   "cell_type": "code",
   "execution_count": 15,
   "id": "85633416",
   "metadata": {},
   "outputs": [
    {
     "data": {
      "image/png": "[encoded data removed]",
      "text/plain": [
       "<Figure size 640x480 with 1 Axes>"
      ]
     },
     "metadata": {},
     "output_type": "display_data"
    }
   ],
   "source": [
    "# let's plot!\n",
    "\n",
    "date=quant.select(\"Date\").to_numpy().reshape(-1)\n",
    "VWCE_perf=quant.select(\"VWCE_prob\").to_numpy().reshape(-1)\n",
    "VWCE_p20=quant.select(\"VWCE_p20\").to_numpy().reshape(-1)\n",
    "AGGH_perf=quant.select(\"AGGH_prob\").to_numpy().reshape(-1)\n",
    "AGGH_p20=quant.select(\"AGGH_p20\").to_numpy().reshape(-1)\n",
    "\n",
    "ax = plt.gca()\n",
    "ax.set_xlim([date[0], date[-1]])\n",
    "ax.set_yticks(np.arange(0, 1, 0.1))\n",
    "ax.set_ylim([0,1])\n",
    "plt.plot(date,VWCE_perf,label=\"VWCE performance\")\n",
    "plt.plot(date,AGGH_perf, label=\"AGGH performance\", color='r')\n",
    "plt.legend(loc=\"upper left\")\n",
    "plt.title(label=\"Performance quantile vs 20 years history\")\n",
    "plt.xticks(rotation=90)\n",
    "VWCE_last = VWCE_perf[-1]\n",
    "AGGH_last = AGGH_perf[-1]\n",
    "xyVW = (date[-1],VWCE_last)\n",
    "xyAG = (date[-1],AGGH_last)\n",
    "plt.annotate(VWCE_last,xyVW)\n",
    "plt.annotate(AGGH_last,xyAG)\n",
    "plt.grid(linestyle='--')\n",
    "plt.show()"
   ]
  },
  {
   "cell_type": "markdown",
   "id": "ec5f70ad",
   "metadata": {},
   "source": [
    "## A few comments after this nice plot\n",
    "\n",
    "In the example, I can say that as of June 2024:\n",
    "- my VWCE was performing better than 66% (about 2/3) of the simulations performed, at weighted ageing = 12 months;\n",
    "- my AGGH was performing better than 21% (about 1/5) of the simulations performed, at weighted ageing = 16 months.\n",
    "\n",
    "Therefore, psychologically I am aware that I am on an average luck streak. Bond ETFs have endured a shitty 2022 due to the interest rate hikes, something that IEF did not suffer so bad in 20+ years (probability of doing worse was 1% in October 2023),but they did recover a bit towards the end of 2023.\n",
    "Stock ETFs have had a bad 2022 as well, however from December 2023 I cannot complain: I would have performed worse in more than 50% of the cases.\n",
    "\n",
    "## Finding a more stable evaluation of net worth?\n",
    "\n",
    "A lot of people on \"personal finance\" forums/subreddits seem very keen on measuring their net worth on a daily basis, monitoring every slight stock price movement in their shiny spreadsheets. On the contrary, in my books all my holdings are written at purchase price and I considered to keep it that way till the end of time, but even this approach wouldn't allow me and my wife to fully appreciate why we are putting our savings in this treasure chest under the sand, instead of enjoying a vacation on a sandy beach. \n",
    "\n",
    "This \"luck analyzer\" allows me to understand what could be a fairer value of my investments - a middle point between mark-to-market and historical purchasing price. \n",
    "\n",
    "For example, being a very cautious person, I could put my fair value at the 20%-percentile (p20), i.e. I would have 80% probability not to expect a price decrease of my holdings.\n",
    "\n",
    "As of June 2024, this would mean that I should put the fair value of my VWCE holdings at 96.4% of their weighted average purchasing price. p20 would reach parity with the weighted purchasing price at around ageing equal to 25/26 months."
   ]
  },
  {
   "cell_type": "code",
   "execution_count": null,
   "id": "4e748997",
   "metadata": {},
   "outputs": [],
   "source": []
  }
 ],
 "metadata": {
  "kernelspec": {
   "display_name": "Python 3 (ipykernel)",
   "language": "python",
   "name": "python3"
  },
  "language_info": {
   "codemirror_mode": {
    "name": "ipython",
    "version": 3
   },
   "file_extension": ".py",
   "mimetype": "text/x-python",
   "name": "python",
   "nbconvert_exporter": "python",
   "pygments_lexer": "ipython3",
   "version": "3.11.5"
  }
 },
 "nbformat": 4,
 "nbformat_minor": 5
}

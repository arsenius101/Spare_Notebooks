{
 "cells": [
  {
   "cell_type": "code",
   "execution_count": 144,
   "id": "e81b855b",
   "metadata": {
    "colab": {
     "base_uri": "https://localhost:8080/"
    },
    "id": "e81b855b",
    "outputId": "87fd1145-421a-4aa6-c08a-44e716fad8fb"
   },
   "outputs": [],
   "source": [
    "import pandas as pd\n",
    "import polars as pl\n",
    "import numpy as np\n",
    "import yfinance as yf\n",
    "import scipy.stats as ss\n",
    "from matplotlib import pyplot as plt\n",
    "import seaborn"
   ]
  },
  {
   "cell_type": "code",
   "execution_count": 145,
   "id": "70f24ece",
   "metadata": {
    "colab": {
     "base_uri": "https://localhost:8080/"
    },
    "id": "70f24ece",
    "outputId": "81961c46-b842-4dca-d676-7fd3a6c47ac5",
    "scrolled": true
   },
   "outputs": [
    {
     "name": "stderr",
     "output_type": "stream",
     "text": [
      "[*********************100%%**********************]  4 of 4 completed\n"
     ]
    },
    {
     "data": {
      "text/html": [
       "<div><style>\n",
       ".dataframe > thead > tr,\n",
       ".dataframe > tbody > tr {\n",
       "  text-align: right;\n",
       "  white-space: pre-wrap;\n",
       "}\n",
       "</style>\n",
       "<small>shape: (59, 5)</small><table border=\"1\" class=\"dataframe\"><thead><tr><th>Date</th><th>AGGH.MI</th><th>SGLD.MI</th><th>SPY</th><th>XEON.MI</th></tr><tr><td>datetime[ns]</td><td>f64</td><td>f64</td><td>f64</td><td>f64</td></tr></thead><tbody><tr><td>2019-07-01 00:00:00</td><td>5.178</td><td>124.650002</td><td>275.790955</td><td>137.026001</td></tr><tr><td>2019-08-01 00:00:00</td><td>5.289</td><td>135.119995</td><td>271.17334</td><td>136.965698</td></tr><tr><td>2019-09-01 00:00:00</td><td>5.241</td><td>130.770004</td><td>275.178925</td><td>136.913498</td></tr><tr><td>2019-10-01 00:00:00</td><td>5.219</td><td>131.639999</td><td>282.560486</td><td>136.841599</td></tr><tr><td>2019-11-01 00:00:00</td><td>5.2</td><td>128.869995</td><td>292.788727</td><td>136.780197</td></tr><tr><td>2019-12-01 00:00:00</td><td>5.182</td><td>131.110001</td><td>299.821808</td><td>136.722794</td></tr><tr><td>2020-01-01 00:00:00</td><td>5.262</td><td>139.0</td><td>301.174164</td><td>136.655701</td></tr><tr><td>2020-02-01 00:00:00</td><td>5.308</td><td>140.490005</td><td>277.331543</td><td>136.606995</td></tr><tr><td>2020-03-01 00:00:00</td><td>5.235</td><td>142.100006</td><td>241.281937</td><td>136.536499</td></tr><tr><td>2020-04-01 00:00:00</td><td>5.306</td><td>150.880005</td><td>273.519714</td><td>136.005096</td></tr><tr><td>2020-05-01 00:00:00</td><td>5.312</td><td>151.169998</td><td>286.551666</td><td>136.395996</td></tr><tr><td>2020-06-01 00:00:00</td><td>5.33</td><td>153.75</td><td>290.355743</td><td>136.365402</td></tr><tr><td>&hellip;</td><td>&hellip;</td><td>&hellip;</td><td>&hellip;</td><td>&hellip;</td></tr><tr><td>2023-06-01 00:00:00</td><td>4.608</td><td>169.639999</td><td>436.952423</td><td>136.977707</td></tr><tr><td>2023-07-01 00:00:00</td><td>4.599</td><td>172.570007</td><td>452.931549</td><td>137.319901</td></tr><tr><td>2023-08-01 00:00:00</td><td>4.5805</td><td>172.779999</td><td>445.570526</td><td>137.762405</td></tr><tr><td>2023-09-01 00:00:00</td><td>4.502</td><td>169.059998</td><td>422.943237</td><td>138.170303</td></tr><tr><td>2023-10-01 00:00:00</td><td>4.458</td><td>182.0</td><td>415.221191</td><td>138.668701</td></tr><tr><td>2023-11-01 00:00:00</td><td>4.6065</td><td>180.470001</td><td>453.149078</td><td>139.110397</td></tr><tr><td>2023-12-01 00:00:00</td><td>4.738</td><td>180.419998</td><td>471.924408</td><td>139.641602</td></tr><tr><td>2024-01-01 00:00:00</td><td>4.7235</td><td>182.419998</td><td>481.384338</td><td>140.008698</td></tr><tr><td>2024-02-01 00:00:00</td><td>4.6875</td><td>182.429993</td><td>506.506256</td><td>140.514099</td></tr><tr><td>2024-03-01 00:00:00</td><td>4.722</td><td>198.259995</td><td>521.449829</td><td>140.917007</td></tr><tr><td>2024-04-01 00:00:00</td><td>4.6425</td><td>207.380005</td><td>501.980011</td><td>141.425003</td></tr><tr><td>2024-05-01 00:00:00</td><td>4.6735</td><td>211.740005</td><td>520.840027</td><td>141.589996</td></tr></tbody></table></div>"
      ],
      "text/plain": [
       "shape: (59, 5)\n",
       "┌─────────────────────┬─────────┬────────────┬────────────┬────────────┐\n",
       "│ Date                ┆ AGGH.MI ┆ SGLD.MI    ┆ SPY        ┆ XEON.MI    │\n",
       "│ ---                 ┆ ---     ┆ ---        ┆ ---        ┆ ---        │\n",
       "│ datetime[ns]        ┆ f64     ┆ f64        ┆ f64        ┆ f64        │\n",
       "╞═════════════════════╪═════════╪════════════╪════════════╪════════════╡\n",
       "│ 2019-07-01 00:00:00 ┆ 5.178   ┆ 124.650002 ┆ 275.790955 ┆ 137.026001 │\n",
       "│ 2019-08-01 00:00:00 ┆ 5.289   ┆ 135.119995 ┆ 271.17334  ┆ 136.965698 │\n",
       "│ 2019-09-01 00:00:00 ┆ 5.241   ┆ 130.770004 ┆ 275.178925 ┆ 136.913498 │\n",
       "│ 2019-10-01 00:00:00 ┆ 5.219   ┆ 131.639999 ┆ 282.560486 ┆ 136.841599 │\n",
       "│ 2019-11-01 00:00:00 ┆ 5.2     ┆ 128.869995 ┆ 292.788727 ┆ 136.780197 │\n",
       "│ …                   ┆ …       ┆ …          ┆ …          ┆ …          │\n",
       "│ 2024-01-01 00:00:00 ┆ 4.7235  ┆ 182.419998 ┆ 481.384338 ┆ 140.008698 │\n",
       "│ 2024-02-01 00:00:00 ┆ 4.6875  ┆ 182.429993 ┆ 506.506256 ┆ 140.514099 │\n",
       "│ 2024-03-01 00:00:00 ┆ 4.722   ┆ 198.259995 ┆ 521.449829 ┆ 140.917007 │\n",
       "│ 2024-04-01 00:00:00 ┆ 4.6425  ┆ 207.380005 ┆ 501.980011 ┆ 141.425003 │\n",
       "│ 2024-05-01 00:00:00 ┆ 4.6735  ┆ 211.740005 ┆ 520.840027 ┆ 141.589996 │\n",
       "└─────────────────────┴─────────┴────────────┴────────────┴────────────┘"
      ]
     },
     "execution_count": 145,
     "metadata": {},
     "output_type": "execute_result"
    }
   ],
   "source": [
    "start=\"1990-01-01\"\n",
    "tickers=[\"SGLD.MI\",\"SPY\",\"AGGH.MI\",\"XEON.MI\"]\n",
    "string=\"\"\n",
    "for i in range(len(tickers)):\n",
    "    if i>0:\n",
    "        string=string+\" \"\n",
    "    string=string+tickers[i]\n",
    "df=yf.download(string,start=start,interval=\"1mo\")['Adj Close']\n",
    "df=pl.from_pandas(df,include_index=True).drop_nulls()\n",
    "df"
   ]
  },
  {
   "cell_type": "code",
   "execution_count": 146,
   "id": "b409276c",
   "metadata": {
    "id": "b409276c"
   },
   "outputs": [],
   "source": [
    "price_norm=df.clone()\n",
    "price_var=df.select(pl.col(\"Date\").alias(\"Prev Date\"))\n",
    "price_var=price_var.with_columns(pl.col(\"Prev Date\").dt.offset_by(\"1mo\").alias(\"Date\"))\n",
    "price_var=price_var.join(df,left_on=\"Prev Date\",right_on=\"Date\")\n",
    "price_var=price_var.join(df,left_on=\"Date\",right_on=\"Date\")\n",
    "\n",
    "columns = price_var.columns\n",
    "columns.remove(\"Date\")"
   ]
  },
  {
   "cell_type": "code",
   "execution_count": 147,
   "id": "cbdd1c81",
   "metadata": {},
   "outputs": [
    {
     "name": "stdout",
     "output_type": "stream",
     "text": [
      "SGLD.MI 124.6500015258789\n",
      "SPY 275.79095458984375\n",
      "AGGH.MI 5.177999973297119\n",
      "XEON.MI 137.0260009765625\n"
     ]
    }
   ],
   "source": [
    "for i in range(1,len(tickers)+1):\n",
    "    ticker = tickers[i-1]\n",
    "    first_price=price_norm.item(0,ticker)\n",
    "    print(ticker,first_price)\n",
    "    price_norm=price_norm.with_columns((100*pl.col(ticker)/first_price).alias(ticker))\n",
    "    price_var=price_var.with_columns(((pl.col(ticker+\"_right\")-pl.col(ticker))/pl.col(ticker)).alias(ticker+\"_var\"))\n",
    "price_var=price_var.drop(columns)"
   ]
  },
  {
   "cell_type": "code",
   "execution_count": 148,
   "id": "9902de8e",
   "metadata": {},
   "outputs": [
    {
     "data": {
      "text/html": [
       "<div><style>\n",
       ".dataframe > thead > tr,\n",
       ".dataframe > tbody > tr {\n",
       "  text-align: right;\n",
       "  white-space: pre-wrap;\n",
       "}\n",
       "</style>\n",
       "<small>shape: (5, 5)</small><table border=\"1\" class=\"dataframe\"><thead><tr><th>Date</th><th>AGGH.MI</th><th>SGLD.MI</th><th>SPY</th><th>XEON.MI</th></tr><tr><td>datetime[ns]</td><td>f64</td><td>f64</td><td>f64</td><td>f64</td></tr></thead><tbody><tr><td>2019-07-01 00:00:00</td><td>100.0</td><td>100.0</td><td>100.0</td><td>100.0</td></tr><tr><td>2019-08-01 00:00:00</td><td>102.143686</td><td>108.399513</td><td>98.325683</td><td>99.955992</td></tr><tr><td>2019-09-01 00:00:00</td><td>101.21669</td><td>104.909749</td><td>99.778082</td><td>99.917897</td></tr><tr><td>2019-10-01 00:00:00</td><td>100.791809</td><td>105.6077</td><td>102.454588</td><td>99.865425</td></tr><tr><td>2019-11-01 00:00:00</td><td>100.424871</td><td>103.385474</td><td>106.163281</td><td>99.820615</td></tr></tbody></table></div>"
      ],
      "text/plain": [
       "shape: (5, 5)\n",
       "┌─────────────────────┬────────────┬────────────┬────────────┬───────────┐\n",
       "│ Date                ┆ AGGH.MI    ┆ SGLD.MI    ┆ SPY        ┆ XEON.MI   │\n",
       "│ ---                 ┆ ---        ┆ ---        ┆ ---        ┆ ---       │\n",
       "│ datetime[ns]        ┆ f64        ┆ f64        ┆ f64        ┆ f64       │\n",
       "╞═════════════════════╪════════════╪════════════╪════════════╪═══════════╡\n",
       "│ 2019-07-01 00:00:00 ┆ 100.0      ┆ 100.0      ┆ 100.0      ┆ 100.0     │\n",
       "│ 2019-08-01 00:00:00 ┆ 102.143686 ┆ 108.399513 ┆ 98.325683  ┆ 99.955992 │\n",
       "│ 2019-09-01 00:00:00 ┆ 101.21669  ┆ 104.909749 ┆ 99.778082  ┆ 99.917897 │\n",
       "│ 2019-10-01 00:00:00 ┆ 100.791809 ┆ 105.6077   ┆ 102.454588 ┆ 99.865425 │\n",
       "│ 2019-11-01 00:00:00 ┆ 100.424871 ┆ 103.385474 ┆ 106.163281 ┆ 99.820615 │\n",
       "└─────────────────────┴────────────┴────────────┴────────────┴───────────┘"
      ]
     },
     "execution_count": 148,
     "metadata": {},
     "output_type": "execute_result"
    }
   ],
   "source": [
    "price_norm.head()"
   ]
  },
  {
   "cell_type": "code",
   "execution_count": 149,
   "id": "5d860866",
   "metadata": {},
   "outputs": [
    {
     "data": {
      "text/html": [
       "<div><style>\n",
       ".dataframe > thead > tr,\n",
       ".dataframe > tbody > tr {\n",
       "  text-align: right;\n",
       "  white-space: pre-wrap;\n",
       "}\n",
       "</style>\n",
       "<small>shape: (5, 5)</small><table border=\"1\" class=\"dataframe\"><thead><tr><th>Date</th><th>SGLD.MI_var</th><th>SPY_var</th><th>AGGH.MI_var</th><th>XEON.MI_var</th></tr><tr><td>datetime[ns]</td><td>f64</td><td>f64</td><td>f64</td><td>f64</td></tr></thead><tbody><tr><td>2019-08-01 00:00:00</td><td>0.083995</td><td>-0.016743</td><td>0.021437</td><td>-0.00044</td></tr><tr><td>2019-09-01 00:00:00</td><td>-0.032194</td><td>0.014771</td><td>-0.009075</td><td>-0.000381</td></tr><tr><td>2019-10-01 00:00:00</td><td>0.006653</td><td>0.026825</td><td>-0.004198</td><td>-0.000525</td></tr><tr><td>2019-11-01 00:00:00</td><td>-0.021042</td><td>0.036198</td><td>-0.003641</td><td>-0.000449</td></tr><tr><td>2019-12-01 00:00:00</td><td>0.017382</td><td>0.024021</td><td>-0.003461</td><td>-0.00042</td></tr></tbody></table></div>"
      ],
      "text/plain": [
       "shape: (5, 5)\n",
       "┌─────────────────────┬─────────────┬───────────┬─────────────┬─────────────┐\n",
       "│ Date                ┆ SGLD.MI_var ┆ SPY_var   ┆ AGGH.MI_var ┆ XEON.MI_var │\n",
       "│ ---                 ┆ ---         ┆ ---       ┆ ---         ┆ ---         │\n",
       "│ datetime[ns]        ┆ f64         ┆ f64       ┆ f64         ┆ f64         │\n",
       "╞═════════════════════╪═════════════╪═══════════╪═════════════╪═════════════╡\n",
       "│ 2019-08-01 00:00:00 ┆ 0.083995    ┆ -0.016743 ┆ 0.021437    ┆ -0.00044    │\n",
       "│ 2019-09-01 00:00:00 ┆ -0.032194   ┆ 0.014771  ┆ -0.009075   ┆ -0.000381   │\n",
       "│ 2019-10-01 00:00:00 ┆ 0.006653    ┆ 0.026825  ┆ -0.004198   ┆ -0.000525   │\n",
       "│ 2019-11-01 00:00:00 ┆ -0.021042   ┆ 0.036198  ┆ -0.003641   ┆ -0.000449   │\n",
       "│ 2019-12-01 00:00:00 ┆ 0.017382    ┆ 0.024021  ┆ -0.003461   ┆ -0.00042    │\n",
       "└─────────────────────┴─────────────┴───────────┴─────────────┴─────────────┘"
      ]
     },
     "execution_count": 149,
     "metadata": {},
     "output_type": "execute_result"
    }
   ],
   "source": [
    "price_var.head()"
   ]
  },
  {
   "cell_type": "code",
   "execution_count": 150,
   "id": "2851dfbc",
   "metadata": {},
   "outputs": [
    {
     "data": {},
     "metadata": {},
     "output_type": "display_data"
    },
    {
     "data": {
      "application/vnd.holoviews_exec.v0+json": "",
      "text/html": [
       "<div id='p3759'>\n",
       "  <div id=\"b4567197-40c0-4262-a7aa-8c6e2536b2d6\" data-root-id=\"p3759\" style=\"display: contents;\"></div>\n",
       "</div>\n",
       "<script type=\"application/javascript\">(function(root) {\n",
       "  var docs_json = {\"d3f50b8c-7161-4fe7-b0a2-5901417e54c8\":{\"version\":\"3.2.1\",\"title\":\"Bokeh Application\",\"roots\":[{\"type\":\"object\",\"name\":\"Row\",\"id\":\"p3759\",\"attributes\":{\"name\":\"Row14034\",\"tags\":[\"embedded\"],\"stylesheets\":[\"\\n:host(.pn-loading.pn-arc):before, .pn-loading.pn-arc:before {\\n  background-image: url(\\\"data:image/svg+xml;base64,PHN2ZyB4bWxucz0iaHR0cDovL3d3dy53My5vcmcvMjAwMC9zdmciIHN0eWxlPSJtYXJnaW46IGF1dG87IGJhY2tncm91bmQ6IG5vbmU7IGRpc3BsYXk6IGJsb2NrOyBzaGFwZS1yZW5kZXJpbmc6IGF1dG87IiB2aWV3Qm94PSIwIDAgMTAwIDEwMCIgcHJlc2VydmVBc3BlY3RSYXRpbz0ieE1pZFlNaWQiPiAgPGNpcmNsZSBjeD0iNTAiIGN5PSI1MCIgZmlsbD0ibm9uZSIgc3Ryb2tlPSIjYzNjM2MzIiBzdHJva2Utd2lkdGg9IjEwIiByPSIzNSIgc3Ryb2tlLWRhc2hhcnJheT0iMTY0LjkzMzYxNDMxMzQ2NDE1IDU2Ljk3Nzg3MTQzNzgyMTM4Ij4gICAgPGFuaW1hdGVUcmFuc2Zvcm0gYXR0cmlidXRlTmFtZT0idHJhbnNmb3JtIiB0eXBlPSJyb3RhdGUiIHJlcGVhdENvdW50PSJpbmRlZmluaXRlIiBkdXI9IjFzIiB2YWx1ZXM9IjAgNTAgNTA7MzYwIDUwIDUwIiBrZXlUaW1lcz0iMDsxIj48L2FuaW1hdGVUcmFuc2Zvcm0+ICA8L2NpcmNsZT48L3N2Zz4=\\\");\\n  background-size: auto calc(min(50%, 400px));\\n}\",{\"type\":\"object\",\"name\":\"ImportedStyleSheet\",\"id\":\"p3762\",\"attributes\":{\"url\":\"https://cdn.holoviz.org/panel/1.2.3/dist/css/loading.css\"}},{\"type\":\"object\",\"name\":\"ImportedStyleSheet\",\"id\":\"p3879\",\"attributes\":{\"url\":\"https://cdn.holoviz.org/panel/1.2.3/dist/css/listpanel.css\"}},{\"type\":\"object\",\"name\":\"ImportedStyleSheet\",\"id\":\"p3760\",\"attributes\":{\"url\":\"https://cdn.holoviz.org/panel/1.2.3/dist/bundled/theme/default.css\"}},{\"type\":\"object\",\"name\":\"ImportedStyleSheet\",\"id\":\"p3761\",\"attributes\":{\"url\":\"https://cdn.holoviz.org/panel/1.2.3/dist/bundled/theme/native.css\"}}],\"min_width\":700,\"margin\":0,\"sizing_mode\":\"stretch_width\",\"align\":\"start\",\"children\":[{\"type\":\"object\",\"name\":\"Spacer\",\"id\":\"p3763\",\"attributes\":{\"name\":\"HSpacer14045\",\"stylesheets\":[\"\\n:host(.pn-loading.pn-arc):before, .pn-loading.pn-arc:before {\\n  background-image: url(\\\"data:image/svg+xml;base64,PHN2ZyB4bWxucz0iaHR0cDovL3d3dy53My5vcmcvMjAwMC9zdmciIHN0eWxlPSJtYXJnaW46IGF1dG87IGJhY2tncm91bmQ6IG5vbmU7IGRpc3BsYXk6IGJsb2NrOyBzaGFwZS1yZW5kZXJpbmc6IGF1dG87IiB2aWV3Qm94PSIwIDAgMTAwIDEwMCIgcHJlc2VydmVBc3BlY3RSYXRpbz0ieE1pZFlNaWQiPiAgPGNpcmNsZSBjeD0iNTAiIGN5PSI1MCIgZmlsbD0ibm9uZSIgc3Ryb2tlPSIjYzNjM2MzIiBzdHJva2Utd2lkdGg9IjEwIiByPSIzNSIgc3Ryb2tlLWRhc2hhcnJheT0iMTY0LjkzMzYxNDMxMzQ2NDE1IDU2Ljk3Nzg3MTQzNzgyMTM4Ij4gICAgPGFuaW1hdGVUcmFuc2Zvcm0gYXR0cmlidXRlTmFtZT0idHJhbnNmb3JtIiB0eXBlPSJyb3RhdGUiIHJlcGVhdENvdW50PSJpbmRlZmluaXRlIiBkdXI9IjFzIiB2YWx1ZXM9IjAgNTAgNTA7MzYwIDUwIDUwIiBrZXlUaW1lcz0iMDsxIj48L2FuaW1hdGVUcmFuc2Zvcm0+ICA8L2NpcmNsZT48L3N2Zz4=\\\");\\n  background-size: auto calc(min(50%, 400px));\\n}\",{\"id\":\"p3762\"},{\"id\":\"p3760\"},{\"id\":\"p3761\"}],\"margin\":0,\"sizing_mode\":\"stretch_width\",\"align\":\"start\"}},{\"type\":\"object\",\"name\":\"Figure\",\"id\":\"p3780\",\"attributes\":{\"width\":700,\"height\":300,\"margin\":[5,10],\"sizing_mode\":\"fixed\",\"align\":\"start\",\"x_range\":{\"type\":\"object\",\"name\":\"Range1d\",\"id\":\"p3764\",\"attributes\":{\"tags\":[[[\"Date\",\"Date\",null]],[]],\"start\":1561939200000.0,\"end\":1714521600000.0,\"reset_start\":1561939200000.0,\"reset_end\":1714521600000.0}},\"y_range\":{\"type\":\"object\",\"name\":\"Range1d\",\"id\":\"p3765\",\"attributes\":{\"tags\":[[[\"value\",\"value\",null]],{\"type\":\"map\",\"entries\":[[\"invert_yaxis\",false],[\"autorange\",false]]}],\"start\":75.7970930534968,\"end\":199.37223274880503,\"reset_start\":75.7970930534968,\"reset_end\":199.37223274880503}},\"x_scale\":{\"type\":\"object\",\"name\":\"LinearScale\",\"id\":\"p3790\"},\"y_scale\":{\"type\":\"object\",\"name\":\"LinearScale\",\"id\":\"p3791\"},\"title\":{\"type\":\"object\",\"name\":\"Title\",\"id\":\"p3783\",\"attributes\":{\"text_color\":\"black\",\"text_font_size\":\"12pt\"}},\"renderers\":[{\"type\":\"object\",\"name\":\"GlyphRenderer\",\"id\":\"p3828\",\"attributes\":{\"name\":\"AGGH.MI\",\"data_source\":{\"type\":\"object\",\"name\":\"ColumnDataSource\",\"id\":\"p3819\",\"attributes\":{\"selected\":{\"type\":\"object\",\"name\":\"Selection\",\"id\":\"p3820\",\"attributes\":{\"indices\":[],\"line_indices\":[]}},\"selection_policy\":{\"type\":\"object\",\"name\":\"UnionRenderers\",\"id\":\"p3821\"},\"data\":{\"type\":\"map\",\"entries\":[[\"Date\",{\"type\":\"ndarray\",\"array\":{\"type\":\"bytes\",\"data\":\"AACATK26dkIAAMCep8R2QgAAAPGhznZCAACA3UnYdkIAAMAvROJ2QgAAQBzs63ZCAACAbub1dkIAAMDA4P92QgAAgEc2CXdCAADAmTATd0IAAECG2Bx3QgAAgNjSJndCAAAAxXowd0IAAEAXdTp3QgAAgGlvRHdCAAAAVhdOd0IAAECoEVh3QgAAwJS5YXdCAAAA57Nrd0IAAEA5rnV3QgAAQFqxfndCAACArKuId0IAAACZU5J3QgAAQOtNnHdCAADA1/Wld0IAAAAq8K93QgAAQHzquXdCAADAaJLDd0IAAAC7jM13QgAAgKc013dCAADA+S7hd0IAAABMKet3QgAAAG0s9HdCAABAvyb+d0IAAMCrzgd4QgAAAP7IEXhCAACA6nAbeEIAAMA8ayV4QgAAAI9lL3hCAACAew05eEIAAMDNB0N4QgAAQLqvTHhCAACADKpWeEIAAMBepGB4QgAAwH+naXhCAAAA0qFzeEIAAIC+SX14QgAAwBBEh3hCAABA/euQeEIAAIBP5pp4QgAAwKHgpHhCAABAjoiueEIAAIDggrh4QgAAAM0qwnhCAABAHyXMeEIAAIBxH9Z4QgAAQPh033hCAACASm/peEIAAAA3F/N4Qg==\"},\"shape\":[59],\"dtype\":\"float64\",\"order\":\"little\"}],[\"value\",{\"type\":\"ndarray\",\"array\":{\"type\":\"bytes\",\"data\":\"AAAAAAAAWUDdqc4mMolZQD+5RT/eTVlAy6I9Aa0yWUCbGWgXMRtZQGe9uLjxBFlAtqIn8tJnWUANM6QQrqBZQJCbgL1zRllAxtKXRzWeWUCb87yin6VZQKhMDCjfu1lAQmq7mm/4WUDV/sBBOLNZQE3oovQszVlAY8MgL4nZWUDbrALiffNZQK36Tcgk/FlAqyMt+AHcWUBCjB+0oUxZQD+5RT/eTVlAzXle0c9SWUBZZ53u/VhZQKwg+Ty2cVlA76wY8Ve+WUAn4fu/zatZQG9CGylaZVlAzXle0c9SWUB/bkQjXXpZQNf7jIbsSFlAZeaX6M7kWEAvr4BeDY1YQEiDg4K+DVhAZa0WafZUV0D7muCNkUBXQGcoPwD72VZAaAbb5siFV0D6wIsCI7ZWQAoUcxHL91VATEjh563KVUCRKX6+wiZWQGhLtrlA5VVAzgujLX5UVkDQCG9yMupVQP8S1WlKW1ZAxAsYJhFvVkAGQIb880FWQOXi2Qx7P1ZAyzSCXVs0VkAawj+5fR1WQJMmSgN3vFVAXfN51BSGVUAcmWCJoD1WQPIVfh0p4FZAz2NUCz3OVkCPrlUnvqFWQAYa24dizFZAXE5fbR9qVkDqEr9acJBWQA==\"},\"shape\":[59],\"dtype\":\"float64\",\"order\":\"little\"}],[\"Variable\",[\"AGGH.MI\",\"AGGH.MI\",\"AGGH.MI\",\"AGGH.MI\",\"AGGH.MI\",\"AGGH.MI\",\"AGGH.MI\",\"AGGH.MI\",\"AGGH.MI\",\"AGGH.MI\",\"AGGH.MI\",\"AGGH.MI\",\"AGGH.MI\",\"AGGH.MI\",\"AGGH.MI\",\"AGGH.MI\",\"AGGH.MI\",\"AGGH.MI\",\"AGGH.MI\",\"AGGH.MI\",\"AGGH.MI\",\"AGGH.MI\",\"AGGH.MI\",\"AGGH.MI\",\"AGGH.MI\",\"AGGH.MI\",\"AGGH.MI\",\"AGGH.MI\",\"AGGH.MI\",\"AGGH.MI\",\"AGGH.MI\",\"AGGH.MI\",\"AGGH.MI\",\"AGGH.MI\",\"AGGH.MI\",\"AGGH.MI\",\"AGGH.MI\",\"AGGH.MI\",\"AGGH.MI\",\"AGGH.MI\",\"AGGH.MI\",\"AGGH.MI\",\"AGGH.MI\",\"AGGH.MI\",\"AGGH.MI\",\"AGGH.MI\",\"AGGH.MI\",\"AGGH.MI\",\"AGGH.MI\",\"AGGH.MI\",\"AGGH.MI\",\"AGGH.MI\",\"AGGH.MI\",\"AGGH.MI\",\"AGGH.MI\",\"AGGH.MI\",\"AGGH.MI\",\"AGGH.MI\",\"AGGH.MI\"]]]}}},\"view\":{\"type\":\"object\",\"name\":\"CDSView\",\"id\":\"p3829\",\"attributes\":{\"filter\":{\"type\":\"object\",\"name\":\"AllIndices\",\"id\":\"p3830\"}}},\"glyph\":{\"type\":\"object\",\"name\":\"Line\",\"id\":\"p3825\",\"attributes\":{\"tags\":[\"apply_ranges\"],\"x\":{\"type\":\"field\",\"field\":\"Date\"},\"y\":{\"type\":\"field\",\"field\":\"value\"},\"line_color\":\"#30a2da\",\"line_width\":2}},\"selection_glyph\":{\"type\":\"object\",\"name\":\"Line\",\"id\":\"p3833\",\"attributes\":{\"tags\":[\"apply_ranges\"],\"x\":{\"type\":\"field\",\"field\":\"Date\"},\"y\":{\"type\":\"field\",\"field\":\"value\"},\"line_color\":\"#30a2da\",\"line_width\":2}},\"nonselection_glyph\":{\"type\":\"object\",\"name\":\"Line\",\"id\":\"p3826\",\"attributes\":{\"tags\":[\"apply_ranges\"],\"x\":{\"type\":\"field\",\"field\":\"Date\"},\"y\":{\"type\":\"field\",\"field\":\"value\"},\"line_color\":\"#30a2da\",\"line_alpha\":0.1,\"line_width\":2}},\"muted_glyph\":{\"type\":\"object\",\"name\":\"Line\",\"id\":\"p3827\",\"attributes\":{\"tags\":[\"apply_ranges\"],\"x\":{\"type\":\"field\",\"field\":\"Date\"},\"y\":{\"type\":\"field\",\"field\":\"value\"},\"line_color\":\"#30a2da\",\"line_alpha\":0.2,\"line_width\":2}}}},{\"type\":\"object\",\"name\":\"GlyphRenderer\",\"id\":\"p3843\",\"attributes\":{\"name\":\"SGLD.MI\",\"data_source\":{\"type\":\"object\",\"name\":\"ColumnDataSource\",\"id\":\"p3834\",\"attributes\":{\"selected\":{\"type\":\"object\",\"name\":\"Selection\",\"id\":\"p3835\",\"attributes\":{\"indices\":[],\"line_indices\":[]}},\"selection_policy\":{\"type\":\"object\",\"name\":\"UnionRenderers\",\"id\":\"p3836\"},\"data\":{\"type\":\"map\",\"entries\":[[\"Date\",{\"type\":\"ndarray\",\"array\":{\"type\":\"bytes\",\"data\":\"AACATK26dkIAAMCep8R2QgAAAPGhznZCAACA3UnYdkIAAMAvROJ2QgAAQBzs63ZCAACAbub1dkIAAMDA4P92QgAAgEc2CXdCAADAmTATd0IAAECG2Bx3QgAAgNjSJndCAAAAxXowd0IAAEAXdTp3QgAAgGlvRHdCAAAAVhdOd0IAAECoEVh3QgAAwJS5YXdCAAAA57Nrd0IAAEA5rnV3QgAAQFqxfndCAACArKuId0IAAACZU5J3QgAAQOtNnHdCAADA1/Wld0IAAAAq8K93QgAAQHzquXdCAADAaJLDd0IAAAC7jM13QgAAgKc013dCAADA+S7hd0IAAABMKet3QgAAAG0s9HdCAABAvyb+d0IAAMCrzgd4QgAAAP7IEXhCAACA6nAbeEIAAMA8ayV4QgAAAI9lL3hCAACAew05eEIAAMDNB0N4QgAAQLqvTHhCAACADKpWeEIAAMBepGB4QgAAwH+naXhCAAAA0qFzeEIAAIC+SX14QgAAwBBEh3hCAABA/euQeEIAAIBP5pp4QgAAwKHgpHhCAABAjoiueEIAAIDggrh4QgAAAM0qwnhCAABAHyXMeEIAAIBxH9Z4QgAAQPh033hCAACASm/peEIAAAA3F/N4Qg==\"},\"shape\":[59],\"dtype\":\"float64\",\"order\":\"little\"}],[\"value\",{\"type\":\"ndarray\",\"array\":{\"type\":\"bytes\",\"data\":\"AAAAAAAAWUCVeq+gkRlbQBKHslU5OlpAN1GgjeRmWkCq+86bq9hZQO9xZj+uS1pAxot2bMjgW0BAMHgPSS1cQBbN0enyf1xAD7B7Pr9CXkDZna3qolFeQPv++Hca1l5AS4JJGBM+YEDvy+YDuABgQGlA0mPBdF9AuVHKFWFmX0B8RDsMa/FcQPk1kDbR0l1Ay1WARh64XUA9z6rwTahbQLYn+qT1M1xAucD/GrSJXEATsc9OuEFeQONTCQyV5FxAOi++D3fYXUCDWqpMhrRdQBCctB6WfV1AOi++D3fYXUDCUyWuP49eQHG+QrYDDF9AJK6eFF0ZX0CiU/TH1mRgQJ6eny7K+2BA0vKvLciKYUCPBq+RRqVgQOPk0wZCwWBAM95AF6bGYECeHnlqQJFgQIMjYBbjjGBALLoDAVoPYECTOyrv3HhgQHA+aXqNdmBALl0TyzYyYUB//LKOfa1gQOnU6c/wo2FAvAxlgXl1YUDGfaiWl+xhQPWVo1X6AmFA5jvkWTJOYUA2NVFqllNhQMinxY8W9GBANBkCR0hAYkBfSIEfARliQNVJwIC4F2JAOAyIgRBLYkDFC50wUktiQCYkbvy04WNAdQtJtdXLZEAohYijwztlQA==\"},\"shape\":[59],\"dtype\":\"float64\",\"order\":\"little\"}],[\"Variable\",[\"SGLD.MI\",\"SGLD.MI\",\"SGLD.MI\",\"SGLD.MI\",\"SGLD.MI\",\"SGLD.MI\",\"SGLD.MI\",\"SGLD.MI\",\"SGLD.MI\",\"SGLD.MI\",\"SGLD.MI\",\"SGLD.MI\",\"SGLD.MI\",\"SGLD.MI\",\"SGLD.MI\",\"SGLD.MI\",\"SGLD.MI\",\"SGLD.MI\",\"SGLD.MI\",\"SGLD.MI\",\"SGLD.MI\",\"SGLD.MI\",\"SGLD.MI\",\"SGLD.MI\",\"SGLD.MI\",\"SGLD.MI\",\"SGLD.MI\",\"SGLD.MI\",\"SGLD.MI\",\"SGLD.MI\",\"SGLD.MI\",\"SGLD.MI\",\"SGLD.MI\",\"SGLD.MI\",\"SGLD.MI\",\"SGLD.MI\",\"SGLD.MI\",\"SGLD.MI\",\"SGLD.MI\",\"SGLD.MI\",\"SGLD.MI\",\"SGLD.MI\",\"SGLD.MI\",\"SGLD.MI\",\"SGLD.MI\",\"SGLD.MI\",\"SGLD.MI\",\"SGLD.MI\",\"SGLD.MI\",\"SGLD.MI\",\"SGLD.MI\",\"SGLD.MI\",\"SGLD.MI\",\"SGLD.MI\",\"SGLD.MI\",\"SGLD.MI\",\"SGLD.MI\",\"SGLD.MI\",\"SGLD.MI\"]]]}}},\"view\":{\"type\":\"object\",\"name\":\"CDSView\",\"id\":\"p3844\",\"attributes\":{\"filter\":{\"type\":\"object\",\"name\":\"AllIndices\",\"id\":\"p3845\"}}},\"glyph\":{\"type\":\"object\",\"name\":\"Line\",\"id\":\"p3840\",\"attributes\":{\"tags\":[\"apply_ranges\"],\"x\":{\"type\":\"field\",\"field\":\"Date\"},\"y\":{\"type\":\"field\",\"field\":\"value\"},\"line_color\":\"#fc4f30\",\"line_width\":2}},\"selection_glyph\":{\"type\":\"object\",\"name\":\"Line\",\"id\":\"p3847\",\"attributes\":{\"tags\":[\"apply_ranges\"],\"x\":{\"type\":\"field\",\"field\":\"Date\"},\"y\":{\"type\":\"field\",\"field\":\"value\"},\"line_color\":\"#fc4f30\",\"line_width\":2}},\"nonselection_glyph\":{\"type\":\"object\",\"name\":\"Line\",\"id\":\"p3841\",\"attributes\":{\"tags\":[\"apply_ranges\"],\"x\":{\"type\":\"field\",\"field\":\"Date\"},\"y\":{\"type\":\"field\",\"field\":\"value\"},\"line_color\":\"#fc4f30\",\"line_alpha\":0.1,\"line_width\":2}},\"muted_glyph\":{\"type\":\"object\",\"name\":\"Line\",\"id\":\"p3842\",\"attributes\":{\"tags\":[\"apply_ranges\"],\"x\":{\"type\":\"field\",\"field\":\"Date\"},\"y\":{\"type\":\"field\",\"field\":\"value\"},\"line_color\":\"#fc4f30\",\"line_alpha\":0.2,\"line_width\":2}}}},{\"type\":\"object\",\"name\":\"GlyphRenderer\",\"id\":\"p3857\",\"attributes\":{\"name\":\"SPY\",\"data_source\":{\"type\":\"object\",\"name\":\"ColumnDataSource\",\"id\":\"p3848\",\"attributes\":{\"selected\":{\"type\":\"object\",\"name\":\"Selection\",\"id\":\"p3849\",\"attributes\":{\"indices\":[],\"line_indices\":[]}},\"selection_policy\":{\"type\":\"object\",\"name\":\"UnionRenderers\",\"id\":\"p3850\"},\"data\":{\"type\":\"map\",\"entries\":[[\"Date\",{\"type\":\"ndarray\",\"array\":{\"type\":\"bytes\",\"data\":\"AACATK26dkIAAMCep8R2QgAAAPGhznZCAACA3UnYdkIAAMAvROJ2QgAAQBzs63ZCAACAbub1dkIAAMDA4P92QgAAgEc2CXdCAADAmTATd0IAAECG2Bx3QgAAgNjSJndCAAAAxXowd0IAAEAXdTp3QgAAgGlvRHdCAAAAVhdOd0IAAECoEVh3QgAAwJS5YXdCAAAA57Nrd0IAAEA5rnV3QgAAQFqxfndCAACArKuId0IAAACZU5J3QgAAQOtNnHdCAADA1/Wld0IAAAAq8K93QgAAQHzquXdCAADAaJLDd0IAAAC7jM13QgAAgKc013dCAADA+S7hd0IAAABMKet3QgAAAG0s9HdCAABAvyb+d0IAAMCrzgd4QgAAAP7IEXhCAACA6nAbeEIAAMA8ayV4QgAAAI9lL3hCAACAew05eEIAAMDNB0N4QgAAQLqvTHhCAACADKpWeEIAAMBepGB4QgAAwH+naXhCAAAA0qFzeEIAAIC+SX14QgAAwBBEh3hCAABA/euQeEIAAIBP5pp4QgAAwKHgpHhCAABAjoiueEIAAIDggrh4QgAAAM0qwnhCAABAHyXMeEIAAIBxH9Z4QgAAQPh033hCAACASm/peEIAAAA3F/N4Qg==\"},\"shape\":[59],\"dtype\":\"float64\",\"order\":\"little\"}],[\"value\",{\"type\":\"ndarray\",\"array\":{\"type\":\"bytes\",\"data\":\"AAAAAAAAWUC566X915RYQG0vDRjM8VhAREKe9xedWUD3Szwzc4paQB9QlNioLVtAbAxg1ApNW0ATA8s4wCNZQKMVBTEv31VA5s/zK0vLWECyBpN/tvlZQBylxn/9UVpAL4trBTT+W0DxNhOOYfJdQPmxuPHmtVxA5uIbk1QbXEB7YJcYBCpfQC74a0A8F2BAJly6uUb9X0CwzV78fXBgQLGrbj4xIWFAPig5XFYYYkCUArDfwDZiQBeXXfXHj2JAbxHTi7UTY0AXWz4rDKVjQBjBne1aq2JAq19ixRMLZEC5WROs2eFjQGea982ZumRARE2/VGK0Y0DIPXE8fR9jQHJs1sbHx2NAeWdARrAZYkBkPI7YJSRiQLupa3/ckmBAHIPlWJctYkDXynAnt29hQDg7nEz7hF9AMcDZ7FAcYUCiJzQV0w9iQOQZwcNx8WBAaoghhGIXYkCtXApw8KJhQBRqfHeKOGJAWBKOpSSVYkCg9PRiGqtiQGmawYD0zWNA6GLkWVyHZEASH7xr8zFkQHs4+xhoK2NAIMwNzM7RYkCfOSJ+4olkQFGomRa8Y2VA33eZin/RZUDlvSrT/PRmQH3utLNgomdAo7CzOHjAZkC068RdTZtnQA==\"},\"shape\":[59],\"dtype\":\"float64\",\"order\":\"little\"}],[\"Variable\",[\"SPY\",\"SPY\",\"SPY\",\"SPY\",\"SPY\",\"SPY\",\"SPY\",\"SPY\",\"SPY\",\"SPY\",\"SPY\",\"SPY\",\"SPY\",\"SPY\",\"SPY\",\"SPY\",\"SPY\",\"SPY\",\"SPY\",\"SPY\",\"SPY\",\"SPY\",\"SPY\",\"SPY\",\"SPY\",\"SPY\",\"SPY\",\"SPY\",\"SPY\",\"SPY\",\"SPY\",\"SPY\",\"SPY\",\"SPY\",\"SPY\",\"SPY\",\"SPY\",\"SPY\",\"SPY\",\"SPY\",\"SPY\",\"SPY\",\"SPY\",\"SPY\",\"SPY\",\"SPY\",\"SPY\",\"SPY\",\"SPY\",\"SPY\",\"SPY\",\"SPY\",\"SPY\",\"SPY\",\"SPY\",\"SPY\",\"SPY\",\"SPY\",\"SPY\"]]]}}},\"view\":{\"type\":\"object\",\"name\":\"CDSView\",\"id\":\"p3858\",\"attributes\":{\"filter\":{\"type\":\"object\",\"name\":\"AllIndices\",\"id\":\"p3859\"}}},\"glyph\":{\"type\":\"object\",\"name\":\"Line\",\"id\":\"p3854\",\"attributes\":{\"tags\":[\"apply_ranges\"],\"x\":{\"type\":\"field\",\"field\":\"Date\"},\"y\":{\"type\":\"field\",\"field\":\"value\"},\"line_color\":\"#e5ae38\",\"line_width\":2}},\"selection_glyph\":{\"type\":\"object\",\"name\":\"Line\",\"id\":\"p3861\",\"attributes\":{\"tags\":[\"apply_ranges\"],\"x\":{\"type\":\"field\",\"field\":\"Date\"},\"y\":{\"type\":\"field\",\"field\":\"value\"},\"line_color\":\"#e5ae38\",\"line_width\":2}},\"nonselection_glyph\":{\"type\":\"object\",\"name\":\"Line\",\"id\":\"p3855\",\"attributes\":{\"tags\":[\"apply_ranges\"],\"x\":{\"type\":\"field\",\"field\":\"Date\"},\"y\":{\"type\":\"field\",\"field\":\"value\"},\"line_color\":\"#e5ae38\",\"line_alpha\":0.1,\"line_width\":2}},\"muted_glyph\":{\"type\":\"object\",\"name\":\"Line\",\"id\":\"p3856\",\"attributes\":{\"tags\":[\"apply_ranges\"],\"x\":{\"type\":\"field\",\"field\":\"Date\"},\"y\":{\"type\":\"field\",\"field\":\"value\"},\"line_color\":\"#e5ae38\",\"line_alpha\":0.2,\"line_width\":2}}}},{\"type\":\"object\",\"name\":\"GlyphRenderer\",\"id\":\"p3871\",\"attributes\":{\"name\":\"XEON.MI\",\"data_source\":{\"type\":\"object\",\"name\":\"ColumnDataSource\",\"id\":\"p3862\",\"attributes\":{\"selected\":{\"type\":\"object\",\"name\":\"Selection\",\"id\":\"p3863\",\"attributes\":{\"indices\":[],\"line_indices\":[]}},\"selection_policy\":{\"type\":\"object\",\"name\":\"UnionRenderers\",\"id\":\"p3864\"},\"data\":{\"type\":\"map\",\"entries\":[[\"Date\",{\"type\":\"ndarray\",\"array\":{\"type\":\"bytes\",\"data\":\"AACATK26dkIAAMCep8R2QgAAAPGhznZCAACA3UnYdkIAAMAvROJ2QgAAQBzs63ZCAACAbub1dkIAAMDA4P92QgAAgEc2CXdCAADAmTATd0IAAECG2Bx3QgAAgNjSJndCAAAAxXowd0IAAEAXdTp3QgAAgGlvRHdCAAAAVhdOd0IAAECoEVh3QgAAwJS5YXdCAAAA57Nrd0IAAEA5rnV3QgAAQFqxfndCAACArKuId0IAAACZU5J3QgAAQOtNnHdCAADA1/Wld0IAAAAq8K93QgAAQHzquXdCAADAaJLDd0IAAAC7jM13QgAAgKc013dCAADA+S7hd0IAAABMKet3QgAAAG0s9HdCAABAvyb+d0IAAMCrzgd4QgAAAP7IEXhCAACA6nAbeEIAAMA8ayV4QgAAAI9lL3hCAACAew05eEIAAMDNB0N4QgAAQLqvTHhCAACADKpWeEIAAMBepGB4QgAAwH+naXhCAAAA0qFzeEIAAIC+SX14QgAAwBBEh3hCAABA/euQeEIAAIBP5pp4QgAAwKHgpHhCAABAjoiueEIAAIDggrh4QgAAAM0qwnhCAABAHyXMeEIAAIBxH9Z4QgAAQPh033hCAACASm/peEIAAAA3F/N4Qg==\"},\"shape\":[59],\"dtype\":\"float64\",\"order\":\"little\"}],[\"value\",{\"type\":\"ndarray\",\"array\":{\"type\":\"bytes\",\"data\":\"AAAAAAAAWUAjwg34Lv1YQNdsPdG++lhAioVhIGP3WECqu5H1hPRYQCjo2ZfW8VhAZkWHX7TuWED4sH4AbuxYQFluoRgj6VhA/odPMVHQWEDGQ4Ifk+JYQKxaDFEl4VhAX20COevcWEBnbQXii9lYQBlrGoAN11hAmJE0u4DTWECwRAlAfNBYQIMWtgvIzVhAWYkhRGXJWEATTAxjD8dYQNqj37AbxFhAAX6o7mTBWEDFKGEBY75YQJuh+qDeulhAN/W/Ney3WEDAKhPkkrRYQFUcukB7sVhA7HgBqG+uWEA99CBWtKtYQFySFzoMp1hAGfzuLOajWEBqnnlaCqJYQFuyssk0nlhAevQ+bROdWECHBs/075hYQM37uFY4lFhAhanCK56TWECb9yQNbJFYQF5MoUbPklhAl/r7X6GWWEDxQcF+xZ1YQF1LjkPXqFhALpgt3MyvWED9lL4CBrxYQGQwlKhiy1hAtLBL02DZWEBccXsU+epYQBOACo6+/VhAbqc0HboNWUAAYqoUZSJZQERi3UFyNVlA1U8ah7lMWUA7vB7TWmFZQMCFQVsqellAU71eq0+LWUB0B+Cu6qJZQC2BDzO8tVlA/hyqOnbNWUBIQ6kHK9VZQA==\"},\"shape\":[59],\"dtype\":\"float64\",\"order\":\"little\"}],[\"Variable\",[\"XEON.MI\",\"XEON.MI\",\"XEON.MI\",\"XEON.MI\",\"XEON.MI\",\"XEON.MI\",\"XEON.MI\",\"XEON.MI\",\"XEON.MI\",\"XEON.MI\",\"XEON.MI\",\"XEON.MI\",\"XEON.MI\",\"XEON.MI\",\"XEON.MI\",\"XEON.MI\",\"XEON.MI\",\"XEON.MI\",\"XEON.MI\",\"XEON.MI\",\"XEON.MI\",\"XEON.MI\",\"XEON.MI\",\"XEON.MI\",\"XEON.MI\",\"XEON.MI\",\"XEON.MI\",\"XEON.MI\",\"XEON.MI\",\"XEON.MI\",\"XEON.MI\",\"XEON.MI\",\"XEON.MI\",\"XEON.MI\",\"XEON.MI\",\"XEON.MI\",\"XEON.MI\",\"XEON.MI\",\"XEON.MI\",\"XEON.MI\",\"XEON.MI\",\"XEON.MI\",\"XEON.MI\",\"XEON.MI\",\"XEON.MI\",\"XEON.MI\",\"XEON.MI\",\"XEON.MI\",\"XEON.MI\",\"XEON.MI\",\"XEON.MI\",\"XEON.MI\",\"XEON.MI\",\"XEON.MI\",\"XEON.MI\",\"XEON.MI\",\"XEON.MI\",\"XEON.MI\",\"XEON.MI\"]]]}}},\"view\":{\"type\":\"object\",\"name\":\"CDSView\",\"id\":\"p3872\",\"attributes\":{\"filter\":{\"type\":\"object\",\"name\":\"AllIndices\",\"id\":\"p3873\"}}},\"glyph\":{\"type\":\"object\",\"name\":\"Line\",\"id\":\"p3868\",\"attributes\":{\"tags\":[\"apply_ranges\"],\"x\":{\"type\":\"field\",\"field\":\"Date\"},\"y\":{\"type\":\"field\",\"field\":\"value\"},\"line_color\":\"#6d904f\",\"line_width\":2}},\"selection_glyph\":{\"type\":\"object\",\"name\":\"Line\",\"id\":\"p3875\",\"attributes\":{\"tags\":[\"apply_ranges\"],\"x\":{\"type\":\"field\",\"field\":\"Date\"},\"y\":{\"type\":\"field\",\"field\":\"value\"},\"line_color\":\"#6d904f\",\"line_width\":2}},\"nonselection_glyph\":{\"type\":\"object\",\"name\":\"Line\",\"id\":\"p3869\",\"attributes\":{\"tags\":[\"apply_ranges\"],\"x\":{\"type\":\"field\",\"field\":\"Date\"},\"y\":{\"type\":\"field\",\"field\":\"value\"},\"line_color\":\"#6d904f\",\"line_alpha\":0.1,\"line_width\":2}},\"muted_glyph\":{\"type\":\"object\",\"name\":\"Line\",\"id\":\"p3870\",\"attributes\":{\"tags\":[\"apply_ranges\"],\"x\":{\"type\":\"field\",\"field\":\"Date\"},\"y\":{\"type\":\"field\",\"field\":\"value\"},\"line_color\":\"#6d904f\",\"line_alpha\":0.2,\"line_width\":2}}}}],\"toolbar\":{\"type\":\"object\",\"name\":\"Toolbar\",\"id\":\"p3789\",\"attributes\":{\"tools\":[{\"type\":\"object\",\"name\":\"WheelZoomTool\",\"id\":\"p3769\",\"attributes\":{\"tags\":[\"hv_created\"],\"zoom_together\":\"none\"}},{\"type\":\"object\",\"name\":\"HoverTool\",\"id\":\"p3770\",\"attributes\":{\"tags\":[\"hv_created\"],\"renderers\":[{\"id\":\"p3828\"},{\"id\":\"p3843\"},{\"id\":\"p3857\"},{\"id\":\"p3871\"}],\"tooltips\":[[\"Variable\",\"@{Variable}\"],[\"Date\",\"@{Date}{%F %T}\"],[\"value\",\"@{value}\"]],\"formatters\":{\"type\":\"map\",\"entries\":[[\"@{Date}\",\"datetime\"]]}}},{\"type\":\"object\",\"name\":\"SaveTool\",\"id\":\"p3814\"},{\"type\":\"object\",\"name\":\"PanTool\",\"id\":\"p3815\"},{\"type\":\"object\",\"name\":\"BoxZoomTool\",\"id\":\"p3816\",\"attributes\":{\"overlay\":{\"type\":\"object\",\"name\":\"BoxAnnotation\",\"id\":\"p3817\",\"attributes\":{\"syncable\":false,\"level\":\"overlay\",\"visible\":false,\"left_units\":\"canvas\",\"right_units\":\"canvas\",\"bottom_units\":\"canvas\",\"top_units\":\"canvas\",\"line_color\":\"black\",\"line_alpha\":1.0,\"line_width\":2,\"line_dash\":[4,4],\"fill_color\":\"lightgrey\",\"fill_alpha\":0.5}}}},{\"type\":\"object\",\"name\":\"ResetTool\",\"id\":\"p3818\"}],\"active_drag\":{\"id\":\"p3815\"},\"active_scroll\":{\"id\":\"p3769\"}}},\"left\":[{\"type\":\"object\",\"name\":\"LinearAxis\",\"id\":\"p3809\",\"attributes\":{\"ticker\":{\"type\":\"object\",\"name\":\"BasicTicker\",\"id\":\"p3810\",\"attributes\":{\"mantissas\":[1,2,5]}},\"formatter\":{\"type\":\"object\",\"name\":\"BasicTickFormatter\",\"id\":\"p3811\"},\"axis_label\":\"\",\"major_label_policy\":{\"type\":\"object\",\"name\":\"AllLabels\",\"id\":\"p3812\"}}}],\"right\":[{\"type\":\"object\",\"name\":\"Legend\",\"id\":\"p3831\",\"attributes\":{\"location\":[0,0],\"title\":\"Variable\",\"click_policy\":\"mute\",\"items\":[{\"type\":\"object\",\"name\":\"LegendItem\",\"id\":\"p3832\",\"attributes\":{\"label\":{\"type\":\"value\",\"value\":\"AGGH.MI\"},\"renderers\":[{\"id\":\"p3828\"}]}},{\"type\":\"object\",\"name\":\"LegendItem\",\"id\":\"p3846\",\"attributes\":{\"label\":{\"type\":\"value\",\"value\":\"SGLD.MI\"},\"renderers\":[{\"id\":\"p3843\"}]}},{\"type\":\"object\",\"name\":\"LegendItem\",\"id\":\"p3860\",\"attributes\":{\"label\":{\"type\":\"value\",\"value\":\"SPY\"},\"renderers\":[{\"id\":\"p3857\"}]}},{\"type\":\"object\",\"name\":\"LegendItem\",\"id\":\"p3874\",\"attributes\":{\"label\":{\"type\":\"value\",\"value\":\"XEON.MI\"},\"renderers\":[{\"id\":\"p3871\"}]}}]}}],\"below\":[{\"type\":\"object\",\"name\":\"DatetimeAxis\",\"id\":\"p3792\",\"attributes\":{\"ticker\":{\"type\":\"object\",\"name\":\"DatetimeTicker\",\"id\":\"p3793\",\"attributes\":{\"num_minor_ticks\":5,\"tickers\":[{\"type\":\"object\",\"name\":\"AdaptiveTicker\",\"id\":\"p3794\",\"attributes\":{\"num_minor_ticks\":0,\"mantissas\":[1,2,5],\"max_interval\":500.0}},{\"type\":\"object\",\"name\":\"AdaptiveTicker\",\"id\":\"p3795\",\"attributes\":{\"num_minor_ticks\":0,\"base\":60,\"mantissas\":[1,2,5,10,15,20,30],\"min_interval\":1000.0,\"max_interval\":1800000.0}},{\"type\":\"object\",\"name\":\"AdaptiveTicker\",\"id\":\"p3796\",\"attributes\":{\"num_minor_ticks\":0,\"base\":24,\"mantissas\":[1,2,4,6,8,12],\"min_interval\":3600000.0,\"max_interval\":43200000.0}},{\"type\":\"object\",\"name\":\"DaysTicker\",\"id\":\"p3797\",\"attributes\":{\"days\":[1,2,3,4,5,6,7,8,9,10,11,12,13,14,15,16,17,18,19,20,21,22,23,24,25,26,27,28,29,30,31]}},{\"type\":\"object\",\"name\":\"DaysTicker\",\"id\":\"p3798\",\"attributes\":{\"days\":[1,4,7,10,13,16,19,22,25,28]}},{\"type\":\"object\",\"name\":\"DaysTicker\",\"id\":\"p3799\",\"attributes\":{\"days\":[1,8,15,22]}},{\"type\":\"object\",\"name\":\"DaysTicker\",\"id\":\"p3800\",\"attributes\":{\"days\":[1,15]}},{\"type\":\"object\",\"name\":\"MonthsTicker\",\"id\":\"p3801\",\"attributes\":{\"months\":[0,1,2,3,4,5,6,7,8,9,10,11]}},{\"type\":\"object\",\"name\":\"MonthsTicker\",\"id\":\"p3802\",\"attributes\":{\"months\":[0,2,4,6,8,10]}},{\"type\":\"object\",\"name\":\"MonthsTicker\",\"id\":\"p3803\",\"attributes\":{\"months\":[0,4,8]}},{\"type\":\"object\",\"name\":\"MonthsTicker\",\"id\":\"p3804\",\"attributes\":{\"months\":[0,6]}},{\"type\":\"object\",\"name\":\"YearsTicker\",\"id\":\"p3805\"}]}},\"formatter\":{\"type\":\"object\",\"name\":\"DatetimeTickFormatter\",\"id\":\"p3806\"},\"axis_label\":\"Date\",\"major_label_policy\":{\"type\":\"object\",\"name\":\"AllLabels\",\"id\":\"p3807\"}}}],\"center\":[{\"type\":\"object\",\"name\":\"Grid\",\"id\":\"p3808\",\"attributes\":{\"axis\":{\"id\":\"p3792\"},\"grid_line_color\":null}},{\"type\":\"object\",\"name\":\"Grid\",\"id\":\"p3813\",\"attributes\":{\"dimension\":1,\"axis\":{\"id\":\"p3809\"},\"grid_line_color\":null}}],\"min_border_top\":10,\"min_border_bottom\":10,\"min_border_left\":10,\"min_border_right\":10,\"output_backend\":\"webgl\"}},{\"type\":\"object\",\"name\":\"Spacer\",\"id\":\"p3877\",\"attributes\":{\"name\":\"HSpacer14048\",\"stylesheets\":[\"\\n:host(.pn-loading.pn-arc):before, .pn-loading.pn-arc:before {\\n  background-image: url(\\\"data:image/svg+xml;base64,PHN2ZyB4bWxucz0iaHR0cDovL3d3dy53My5vcmcvMjAwMC9zdmciIHN0eWxlPSJtYXJnaW46IGF1dG87IGJhY2tncm91bmQ6IG5vbmU7IGRpc3BsYXk6IGJsb2NrOyBzaGFwZS1yZW5kZXJpbmc6IGF1dG87IiB2aWV3Qm94PSIwIDAgMTAwIDEwMCIgcHJlc2VydmVBc3BlY3RSYXRpbz0ieE1pZFlNaWQiPiAgPGNpcmNsZSBjeD0iNTAiIGN5PSI1MCIgZmlsbD0ibm9uZSIgc3Ryb2tlPSIjYzNjM2MzIiBzdHJva2Utd2lkdGg9IjEwIiByPSIzNSIgc3Ryb2tlLWRhc2hhcnJheT0iMTY0LjkzMzYxNDMxMzQ2NDE1IDU2Ljk3Nzg3MTQzNzgyMTM4Ij4gICAgPGFuaW1hdGVUcmFuc2Zvcm0gYXR0cmlidXRlTmFtZT0idHJhbnNmb3JtIiB0eXBlPSJyb3RhdGUiIHJlcGVhdENvdW50PSJpbmRlZmluaXRlIiBkdXI9IjFzIiB2YWx1ZXM9IjAgNTAgNTA7MzYwIDUwIDUwIiBrZXlUaW1lcz0iMDsxIj48L2FuaW1hdGVUcmFuc2Zvcm0+ICA8L2NpcmNsZT48L3N2Zz4=\\\");\\n  background-size: auto calc(min(50%, 400px));\\n}\",{\"id\":\"p3762\"},{\"id\":\"p3760\"},{\"id\":\"p3761\"}],\"margin\":0,\"sizing_mode\":\"stretch_width\",\"align\":\"start\"}}]}}],\"defs\":[{\"type\":\"model\",\"name\":\"ReactiveHTML1\"},{\"type\":\"model\",\"name\":\"FlexBox1\",\"properties\":[{\"name\":\"align_content\",\"kind\":\"Any\",\"default\":\"flex-start\"},{\"name\":\"align_items\",\"kind\":\"Any\",\"default\":\"flex-start\"},{\"name\":\"flex_direction\",\"kind\":\"Any\",\"default\":\"row\"},{\"name\":\"flex_wrap\",\"kind\":\"Any\",\"default\":\"wrap\"},{\"name\":\"justify_content\",\"kind\":\"Any\",\"default\":\"flex-start\"}]},{\"type\":\"model\",\"name\":\"FloatPanel1\",\"properties\":[{\"name\":\"config\",\"kind\":\"Any\",\"default\":{\"type\":\"map\"}},{\"name\":\"contained\",\"kind\":\"Any\",\"default\":true},{\"name\":\"position\",\"kind\":\"Any\",\"default\":\"right-top\"},{\"name\":\"offsetx\",\"kind\":\"Any\",\"default\":null},{\"name\":\"offsety\",\"kind\":\"Any\",\"default\":null},{\"name\":\"theme\",\"kind\":\"Any\",\"default\":\"primary\"},{\"name\":\"status\",\"kind\":\"Any\",\"default\":\"normalized\"}]},{\"type\":\"model\",\"name\":\"GridStack1\",\"properties\":[{\"name\":\"mode\",\"kind\":\"Any\",\"default\":\"warn\"},{\"name\":\"ncols\",\"kind\":\"Any\",\"default\":null},{\"name\":\"nrows\",\"kind\":\"Any\",\"default\":null},{\"name\":\"allow_resize\",\"kind\":\"Any\",\"default\":true},{\"name\":\"allow_drag\",\"kind\":\"Any\",\"default\":true},{\"name\":\"state\",\"kind\":\"Any\",\"default\":[]}]},{\"type\":\"model\",\"name\":\"drag1\",\"properties\":[{\"name\":\"slider_width\",\"kind\":\"Any\",\"default\":5},{\"name\":\"slider_color\",\"kind\":\"Any\",\"default\":\"black\"},{\"name\":\"value\",\"kind\":\"Any\",\"default\":50}]},{\"type\":\"model\",\"name\":\"click1\",\"properties\":[{\"name\":\"terminal_output\",\"kind\":\"Any\",\"default\":\"\"},{\"name\":\"debug_name\",\"kind\":\"Any\",\"default\":\"\"},{\"name\":\"clears\",\"kind\":\"Any\",\"default\":0}]},{\"type\":\"model\",\"name\":\"FastWrapper1\",\"properties\":[{\"name\":\"object\",\"kind\":\"Any\",\"default\":null},{\"name\":\"style\",\"kind\":\"Any\",\"default\":null}]},{\"type\":\"model\",\"name\":\"NotificationAreaBase1\",\"properties\":[{\"name\":\"js_events\",\"kind\":\"Any\",\"default\":{\"type\":\"map\"}},{\"name\":\"position\",\"kind\":\"Any\",\"default\":\"bottom-right\"},{\"name\":\"_clear\",\"kind\":\"Any\",\"default\":0}]},{\"type\":\"model\",\"name\":\"NotificationArea1\",\"properties\":[{\"name\":\"js_events\",\"kind\":\"Any\",\"default\":{\"type\":\"map\"}},{\"name\":\"notifications\",\"kind\":\"Any\",\"default\":[]},{\"name\":\"position\",\"kind\":\"Any\",\"default\":\"bottom-right\"},{\"name\":\"_clear\",\"kind\":\"Any\",\"default\":0},{\"name\":\"types\",\"kind\":\"Any\",\"default\":[{\"type\":\"map\",\"entries\":[[\"type\",\"warning\"],[\"background\",\"#ffc107\"],[\"icon\",{\"type\":\"map\",\"entries\":[[\"className\",\"fas fa-exclamation-triangle\"],[\"tagName\",\"i\"],[\"color\",\"white\"]]}]]},{\"type\":\"map\",\"entries\":[[\"type\",\"info\"],[\"background\",\"#007bff\"],[\"icon\",{\"type\":\"map\",\"entries\":[[\"className\",\"fas fa-info-circle\"],[\"tagName\",\"i\"],[\"color\",\"white\"]]}]]}]}]},{\"type\":\"model\",\"name\":\"Notification\",\"properties\":[{\"name\":\"background\",\"kind\":\"Any\",\"default\":null},{\"name\":\"duration\",\"kind\":\"Any\",\"default\":3000},{\"name\":\"icon\",\"kind\":\"Any\",\"default\":null},{\"name\":\"message\",\"kind\":\"Any\",\"default\":\"\"},{\"name\":\"notification_type\",\"kind\":\"Any\",\"default\":null},{\"name\":\"_destroyed\",\"kind\":\"Any\",\"default\":false}]},{\"type\":\"model\",\"name\":\"TemplateActions1\",\"properties\":[{\"name\":\"open_modal\",\"kind\":\"Any\",\"default\":0},{\"name\":\"close_modal\",\"kind\":\"Any\",\"default\":0}]},{\"type\":\"model\",\"name\":\"BootstrapTemplateActions1\",\"properties\":[{\"name\":\"open_modal\",\"kind\":\"Any\",\"default\":0},{\"name\":\"close_modal\",\"kind\":\"Any\",\"default\":0}]},{\"type\":\"model\",\"name\":\"MaterialTemplateActions1\",\"properties\":[{\"name\":\"open_modal\",\"kind\":\"Any\",\"default\":0},{\"name\":\"close_modal\",\"kind\":\"Any\",\"default\":0}]}]}};\n",
       "  var render_items = [{\"docid\":\"d3f50b8c-7161-4fe7-b0a2-5901417e54c8\",\"roots\":{\"p3759\":\"b4567197-40c0-4262-a7aa-8c6e2536b2d6\"},\"root_ids\":[\"p3759\"]}];\n",
       "  var docs = Object.values(docs_json)\n",
       "  if (!docs) {\n",
       "    return\n",
       "  }\n",
       "  const py_version = docs[0].version.replace('rc', '-rc.').replace('.dev', '-dev.')\n",
       "  const is_dev = py_version.indexOf(\"+\") !== -1 || py_version.indexOf(\"-\") !== -1\n",
       "  function embed_document(root) {\n",
       "    var Bokeh = get_bokeh(root)\n",
       "    Bokeh.embed.embed_items_notebook(docs_json, render_items);\n",
       "    for (const render_item of render_items) {\n",
       "      for (const root_id of render_item.root_ids) {\n",
       "\tconst id_el = document.getElementById(root_id)\n",
       "\tif (id_el.children.length && (id_el.children[0].className === 'bk-root')) {\n",
       "\t  const root_el = id_el.children[0]\n",
       "\t  root_el.id = root_el.id + '-rendered'\n",
       "\t}\n",
       "      }\n",
       "    }\n",
       "  }\n",
       "  function get_bokeh(root) {\n",
       "    if (root.Bokeh === undefined) {\n",
       "      return null\n",
       "    } else if (root.Bokeh.version !== py_version && !is_dev) {\n",
       "      if (root.Bokeh.versions === undefined || !root.Bokeh.versions.has(py_version)) {\n",
       "\treturn null\n",
       "      }\n",
       "      return root.Bokeh.versions.get(py_version);\n",
       "    } else if (root.Bokeh.version === py_version) {\n",
       "      return root.Bokeh\n",
       "    }\n",
       "    return null\n",
       "  }\n",
       "  function is_loaded(root) {\n",
       "    var Bokeh = get_bokeh(root)\n",
       "    return (Bokeh != null && Bokeh.Panel !== undefined)\n",
       "  }\n",
       "  if (is_loaded(root)) {\n",
       "    embed_document(root);\n",
       "  } else {\n",
       "    var attempts = 0;\n",
       "    var timer = setInterval(function(root) {\n",
       "      if (is_loaded(root)) {\n",
       "        clearInterval(timer);\n",
       "        embed_document(root);\n",
       "      } else if (document.readyState == \"complete\") {\n",
       "        attempts++;\n",
       "        if (attempts > 200) {\n",
       "          clearInterval(timer);\n",
       "\t  var Bokeh = get_bokeh(root)\n",
       "\t  if (Bokeh == null || Bokeh.Panel == null) {\n",
       "            console.warn(\"Panel: ERROR: Unable to run Panel code because Bokeh or Panel library is missing\");\n",
       "\t  } else {\n",
       "\t    console.warn(\"Panel: WARNING: Attempting to render but not all required libraries could be resolved.\")\n",
       "\t    embed_document(root)\n",
       "\t  }\n",
       "        }\n",
       "      }\n",
       "    }, 25, root)\n",
       "  }\n",
       "})(window);</script>"
      ],
      "text/plain": [
       ":NdOverlay   [Variable]\n",
       "   :Curve   [Date]   (value)"
      ]
     },
     "execution_count": 150,
     "metadata": {
      "application/vnd.holoviews_exec.v0+json": {
       "id": "p3759"
      }
     },
     "output_type": "execute_result"
    }
   ],
   "source": [
    "price_norm.plot(x=\"Date\")"
   ]
  },
  {
   "cell_type": "code",
   "execution_count": 151,
   "id": "fbe73991",
   "metadata": {},
   "outputs": [
    {
     "data": {
      "text/html": [
       "<div><style>\n",
       ".dataframe > thead > tr,\n",
       ".dataframe > tbody > tr {\n",
       "  text-align: right;\n",
       "  white-space: pre-wrap;\n",
       "}\n",
       "</style>\n",
       "<small>shape: (9, 5)</small><table border=\"1\" class=\"dataframe\"><thead><tr><th>statistic</th><th>SGLD.MI_var</th><th>SPY_var</th><th>AGGH.MI_var</th><th>XEON.MI_var</th></tr><tr><td>str</td><td>f64</td><td>f64</td><td>f64</td><td>f64</td></tr></thead><tbody><tr><td>&quot;count&quot;</td><td>58.0</td><td>58.0</td><td>58.0</td><td>58.0</td></tr><tr><td>&quot;null_count&quot;</td><td>0.0</td><td>0.0</td><td>0.0</td><td>0.0</td></tr><tr><td>&quot;mean&quot;</td><td>0.009786</td><td>0.012448</td><td>-0.001663</td><td>0.000566</td></tr><tr><td>&quot;std&quot;</td><td>0.035315</td><td>0.053751</td><td>0.014432</td><td>0.001652</td></tr><tr><td>&quot;min&quot;</td><td>-0.078245</td><td>-0.129987</td><td>-0.034483</td><td>-0.003892</td></tr><tr><td>&quot;25%&quot;</td><td>-0.008407</td><td>-0.02103</td><td>-0.010411</td><td>-0.000491</td></tr><tr><td>&quot;50%&quot;</td><td>0.010719</td><td>0.024021</td><td>-0.002813</td><td>-0.000368</td></tr><tr><td>&quot;75%&quot;</td><td>0.030421</td><td>0.042585</td><td>0.006101</td><td>0.002205</td></tr><tr><td>&quot;max&quot;</td><td>0.086773</td><td>0.13361</td><td>0.033311</td><td>0.003819</td></tr></tbody></table></div>"
      ],
      "text/plain": [
       "shape: (9, 5)\n",
       "┌────────────┬─────────────┬───────────┬─────────────┬─────────────┐\n",
       "│ statistic  ┆ SGLD.MI_var ┆ SPY_var   ┆ AGGH.MI_var ┆ XEON.MI_var │\n",
       "│ ---        ┆ ---         ┆ ---       ┆ ---         ┆ ---         │\n",
       "│ str        ┆ f64         ┆ f64       ┆ f64         ┆ f64         │\n",
       "╞════════════╪═════════════╪═══════════╪═════════════╪═════════════╡\n",
       "│ count      ┆ 58.0        ┆ 58.0      ┆ 58.0        ┆ 58.0        │\n",
       "│ null_count ┆ 0.0         ┆ 0.0       ┆ 0.0         ┆ 0.0         │\n",
       "│ mean       ┆ 0.009786    ┆ 0.012448  ┆ -0.001663   ┆ 0.000566    │\n",
       "│ std        ┆ 0.035315    ┆ 0.053751  ┆ 0.014432    ┆ 0.001652    │\n",
       "│ min        ┆ -0.078245   ┆ -0.129987 ┆ -0.034483   ┆ -0.003892   │\n",
       "│ 25%        ┆ -0.008407   ┆ -0.02103  ┆ -0.010411   ┆ -0.000491   │\n",
       "│ 50%        ┆ 0.010719    ┆ 0.024021  ┆ -0.002813   ┆ -0.000368   │\n",
       "│ 75%        ┆ 0.030421    ┆ 0.042585  ┆ 0.006101    ┆ 0.002205    │\n",
       "│ max        ┆ 0.086773    ┆ 0.13361   ┆ 0.033311    ┆ 0.003819    │\n",
       "└────────────┴─────────────┴───────────┴─────────────┴─────────────┘"
      ]
     },
     "execution_count": 151,
     "metadata": {},
     "output_type": "execute_result"
    }
   ],
   "source": [
    "price_var.describe().drop(\"Date\")"
   ]
  },
  {
   "cell_type": "code",
   "execution_count": 152,
   "id": "23a3a5be",
   "metadata": {},
   "outputs": [
    {
     "data": {},
     "metadata": {},
     "output_type": "display_data"
    },
    {
     "data": {
      "application/vnd.holoviews_exec.v0+json": "",
      "text/html": [
       "<div id='p3889'>\n",
       "  <div id=\"a8e3dd1b-6745-460f-8a59-7bef5a5e4c6c\" data-root-id=\"p3889\" style=\"display: contents;\"></div>\n",
       "</div>\n",
       "<script type=\"application/javascript\">(function(root) {\n",
       "  var docs_json = {\"8e383cdf-cfcc-4719-a0f2-830481a5db04\":{\"version\":\"3.2.1\",\"title\":\"Bokeh Application\",\"roots\":[{\"type\":\"object\",\"name\":\"Row\",\"id\":\"p3889\",\"attributes\":{\"name\":\"Row14170\",\"tags\":[\"embedded\"],\"stylesheets\":[\"\\n:host(.pn-loading.pn-arc):before, .pn-loading.pn-arc:before {\\n  background-image: url(\\\"data:image/svg+xml;base64,PHN2ZyB4bWxucz0iaHR0cDovL3d3dy53My5vcmcvMjAwMC9zdmciIHN0eWxlPSJtYXJnaW46IGF1dG87IGJhY2tncm91bmQ6IG5vbmU7IGRpc3BsYXk6IGJsb2NrOyBzaGFwZS1yZW5kZXJpbmc6IGF1dG87IiB2aWV3Qm94PSIwIDAgMTAwIDEwMCIgcHJlc2VydmVBc3BlY3RSYXRpbz0ieE1pZFlNaWQiPiAgPGNpcmNsZSBjeD0iNTAiIGN5PSI1MCIgZmlsbD0ibm9uZSIgc3Ryb2tlPSIjYzNjM2MzIiBzdHJva2Utd2lkdGg9IjEwIiByPSIzNSIgc3Ryb2tlLWRhc2hhcnJheT0iMTY0LjkzMzYxNDMxMzQ2NDE1IDU2Ljk3Nzg3MTQzNzgyMTM4Ij4gICAgPGFuaW1hdGVUcmFuc2Zvcm0gYXR0cmlidXRlTmFtZT0idHJhbnNmb3JtIiB0eXBlPSJyb3RhdGUiIHJlcGVhdENvdW50PSJpbmRlZmluaXRlIiBkdXI9IjFzIiB2YWx1ZXM9IjAgNTAgNTA7MzYwIDUwIDUwIiBrZXlUaW1lcz0iMDsxIj48L2FuaW1hdGVUcmFuc2Zvcm0+ICA8L2NpcmNsZT48L3N2Zz4=\\\");\\n  background-size: auto calc(min(50%, 400px));\\n}\",{\"type\":\"object\",\"name\":\"ImportedStyleSheet\",\"id\":\"p3892\",\"attributes\":{\"url\":\"https://cdn.holoviz.org/panel/1.2.3/dist/css/loading.css\"}},{\"type\":\"object\",\"name\":\"ImportedStyleSheet\",\"id\":\"p3945\",\"attributes\":{\"url\":\"https://cdn.holoviz.org/panel/1.2.3/dist/css/listpanel.css\"}},{\"type\":\"object\",\"name\":\"ImportedStyleSheet\",\"id\":\"p3890\",\"attributes\":{\"url\":\"https://cdn.holoviz.org/panel/1.2.3/dist/bundled/theme/default.css\"}},{\"type\":\"object\",\"name\":\"ImportedStyleSheet\",\"id\":\"p3891\",\"attributes\":{\"url\":\"https://cdn.holoviz.org/panel/1.2.3/dist/bundled/theme/native.css\"}}],\"min_width\":700,\"margin\":0,\"sizing_mode\":\"stretch_width\",\"align\":\"start\",\"children\":[{\"type\":\"object\",\"name\":\"Spacer\",\"id\":\"p3893\",\"attributes\":{\"name\":\"HSpacer14181\",\"stylesheets\":[\"\\n:host(.pn-loading.pn-arc):before, .pn-loading.pn-arc:before {\\n  background-image: url(\\\"data:image/svg+xml;base64,PHN2ZyB4bWxucz0iaHR0cDovL3d3dy53My5vcmcvMjAwMC9zdmciIHN0eWxlPSJtYXJnaW46IGF1dG87IGJhY2tncm91bmQ6IG5vbmU7IGRpc3BsYXk6IGJsb2NrOyBzaGFwZS1yZW5kZXJpbmc6IGF1dG87IiB2aWV3Qm94PSIwIDAgMTAwIDEwMCIgcHJlc2VydmVBc3BlY3RSYXRpbz0ieE1pZFlNaWQiPiAgPGNpcmNsZSBjeD0iNTAiIGN5PSI1MCIgZmlsbD0ibm9uZSIgc3Ryb2tlPSIjYzNjM2MzIiBzdHJva2Utd2lkdGg9IjEwIiByPSIzNSIgc3Ryb2tlLWRhc2hhcnJheT0iMTY0LjkzMzYxNDMxMzQ2NDE1IDU2Ljk3Nzg3MTQzNzgyMTM4Ij4gICAgPGFuaW1hdGVUcmFuc2Zvcm0gYXR0cmlidXRlTmFtZT0idHJhbnNmb3JtIiB0eXBlPSJyb3RhdGUiIHJlcGVhdENvdW50PSJpbmRlZmluaXRlIiBkdXI9IjFzIiB2YWx1ZXM9IjAgNTAgNTA7MzYwIDUwIDUwIiBrZXlUaW1lcz0iMDsxIj48L2FuaW1hdGVUcmFuc2Zvcm0+ICA8L2NpcmNsZT48L3N2Zz4=\\\");\\n  background-size: auto calc(min(50%, 400px));\\n}\",{\"id\":\"p3892\"},{\"id\":\"p3890\"},{\"id\":\"p3891\"}],\"margin\":0,\"sizing_mode\":\"stretch_width\",\"align\":\"start\"}},{\"type\":\"object\",\"name\":\"Figure\",\"id\":\"p3901\",\"attributes\":{\"width\":700,\"height\":300,\"margin\":[5,10],\"sizing_mode\":\"fixed\",\"align\":\"start\",\"x_range\":{\"type\":\"object\",\"name\":\"FactorRange\",\"id\":\"p3894\",\"attributes\":{\"tags\":[[[\"Date\",\"Date\",null],[\"Variable\",\"Variable\",null]],[]],\"factors\":[[\"2019-08-01 00:00:00\",\"XEON.MI_var\"],[\"2019-08-01 00:00:00\",\"AGGH.MI_var\"],[\"2019-08-01 00:00:00\",\"SPY_var\"],[\"2019-08-01 00:00:00\",\"SGLD.MI_var\"],[\"2019-09-01 00:00:00\",\"XEON.MI_var\"],[\"2019-09-01 00:00:00\",\"AGGH.MI_var\"],[\"2019-09-01 00:00:00\",\"SPY_var\"],[\"2019-09-01 00:00:00\",\"SGLD.MI_var\"],[\"2019-10-01 00:00:00\",\"XEON.MI_var\"],[\"2019-10-01 00:00:00\",\"AGGH.MI_var\"],[\"2019-10-01 00:00:00\",\"SPY_var\"],[\"2019-10-01 00:00:00\",\"SGLD.MI_var\"],[\"2019-11-01 00:00:00\",\"XEON.MI_var\"],[\"2019-11-01 00:00:00\",\"AGGH.MI_var\"],[\"2019-11-01 00:00:00\",\"SPY_var\"],[\"2019-11-01 00:00:00\",\"SGLD.MI_var\"],[\"2019-12-01 00:00:00\",\"XEON.MI_var\"],[\"2019-12-01 00:00:00\",\"AGGH.MI_var\"],[\"2019-12-01 00:00:00\",\"SPY_var\"],[\"2019-12-01 00:00:00\",\"SGLD.MI_var\"],[\"2020-01-01 00:00:00\",\"XEON.MI_var\"],[\"2020-01-01 00:00:00\",\"AGGH.MI_var\"],[\"2020-01-01 00:00:00\",\"SPY_var\"],[\"2020-01-01 00:00:00\",\"SGLD.MI_var\"],[\"2020-02-01 00:00:00\",\"XEON.MI_var\"],[\"2020-02-01 00:00:00\",\"AGGH.MI_var\"],[\"2020-02-01 00:00:00\",\"SPY_var\"],[\"2020-02-01 00:00:00\",\"SGLD.MI_var\"],[\"2020-03-01 00:00:00\",\"XEON.MI_var\"],[\"2020-03-01 00:00:00\",\"AGGH.MI_var\"],[\"2020-03-01 00:00:00\",\"SPY_var\"],[\"2020-03-01 00:00:00\",\"SGLD.MI_var\"],[\"2020-04-01 00:00:00\",\"XEON.MI_var\"],[\"2020-04-01 00:00:00\",\"AGGH.MI_var\"],[\"2020-04-01 00:00:00\",\"SPY_var\"],[\"2020-04-01 00:00:00\",\"SGLD.MI_var\"],[\"2020-05-01 00:00:00\",\"XEON.MI_var\"],[\"2020-05-01 00:00:00\",\"AGGH.MI_var\"],[\"2020-05-01 00:00:00\",\"SPY_var\"],[\"2020-05-01 00:00:00\",\"SGLD.MI_var\"],[\"2020-06-01 00:00:00\",\"XEON.MI_var\"],[\"2020-06-01 00:00:00\",\"AGGH.MI_var\"],[\"2020-06-01 00:00:00\",\"SPY_var\"],[\"2020-06-01 00:00:00\",\"SGLD.MI_var\"],[\"2020-07-01 00:00:00\",\"XEON.MI_var\"],[\"2020-07-01 00:00:00\",\"AGGH.MI_var\"],[\"2020-07-01 00:00:00\",\"SPY_var\"],[\"2020-07-01 00:00:00\",\"SGLD.MI_var\"],[\"2020-08-01 00:00:00\",\"XEON.MI_var\"],[\"2020-08-01 00:00:00\",\"AGGH.MI_var\"],[\"2020-08-01 00:00:00\",\"SPY_var\"],[\"2020-08-01 00:00:00\",\"SGLD.MI_var\"],[\"2020-09-01 00:00:00\",\"XEON.MI_var\"],[\"2020-09-01 00:00:00\",\"AGGH.MI_var\"],[\"2020-09-01 00:00:00\",\"SPY_var\"],[\"2020-09-01 00:00:00\",\"SGLD.MI_var\"],[\"2020-10-01 00:00:00\",\"XEON.MI_var\"],[\"2020-10-01 00:00:00\",\"AGGH.MI_var\"],[\"2020-10-01 00:00:00\",\"SPY_var\"],[\"2020-10-01 00:00:00\",\"SGLD.MI_var\"],[\"2020-11-01 00:00:00\",\"XEON.MI_var\"],[\"2020-11-01 00:00:00\",\"AGGH.MI_var\"],[\"2020-11-01 00:00:00\",\"SPY_var\"],[\"2020-11-01 00:00:00\",\"SGLD.MI_var\"],[\"2020-12-01 00:00:00\",\"XEON.MI_var\"],[\"2020-12-01 00:00:00\",\"AGGH.MI_var\"],[\"2020-12-01 00:00:00\",\"SPY_var\"],[\"2020-12-01 00:00:00\",\"SGLD.MI_var\"],[\"2021-01-01 00:00:00\",\"XEON.MI_var\"],[\"2021-01-01 00:00:00\",\"AGGH.MI_var\"],[\"2021-01-01 00:00:00\",\"SPY_var\"],[\"2021-01-01 00:00:00\",\"SGLD.MI_var\"],[\"2021-02-01 00:00:00\",\"XEON.MI_var\"],[\"2021-02-01 00:00:00\",\"AGGH.MI_var\"],[\"2021-02-01 00:00:00\",\"SPY_var\"],[\"2021-02-01 00:00:00\",\"SGLD.MI_var\"],[\"2021-03-01 00:00:00\",\"XEON.MI_var\"],[\"2021-03-01 00:00:00\",\"AGGH.MI_var\"],[\"2021-03-01 00:00:00\",\"SPY_var\"],[\"2021-03-01 00:00:00\",\"SGLD.MI_var\"],[\"2021-04-01 00:00:00\",\"XEON.MI_var\"],[\"2021-04-01 00:00:00\",\"AGGH.MI_var\"],[\"2021-04-01 00:00:00\",\"SPY_var\"],[\"2021-04-01 00:00:00\",\"SGLD.MI_var\"],[\"2021-05-01 00:00:00\",\"XEON.MI_var\"],[\"2021-05-01 00:00:00\",\"AGGH.MI_var\"],[\"2021-05-01 00:00:00\",\"SPY_var\"],[\"2021-05-01 00:00:00\",\"SGLD.MI_var\"],[\"2021-06-01 00:00:00\",\"XEON.MI_var\"],[\"2021-06-01 00:00:00\",\"AGGH.MI_var\"],[\"2021-06-01 00:00:00\",\"SPY_var\"],[\"2021-06-01 00:00:00\",\"SGLD.MI_var\"],[\"2021-07-01 00:00:00\",\"XEON.MI_var\"],[\"2021-07-01 00:00:00\",\"AGGH.MI_var\"],[\"2021-07-01 00:00:00\",\"SPY_var\"],[\"2021-07-01 00:00:00\",\"SGLD.MI_var\"],[\"2021-08-01 00:00:00\",\"XEON.MI_var\"],[\"2021-08-01 00:00:00\",\"AGGH.MI_var\"],[\"2021-08-01 00:00:00\",\"SPY_var\"],[\"2021-08-01 00:00:00\",\"SGLD.MI_var\"],[\"2021-09-01 00:00:00\",\"XEON.MI_var\"],[\"2021-09-01 00:00:00\",\"AGGH.MI_var\"],[\"2021-09-01 00:00:00\",\"SPY_var\"],[\"2021-09-01 00:00:00\",\"SGLD.MI_var\"],[\"2021-10-01 00:00:00\",\"XEON.MI_var\"],[\"2021-10-01 00:00:00\",\"AGGH.MI_var\"],[\"2021-10-01 00:00:00\",\"SPY_var\"],[\"2021-10-01 00:00:00\",\"SGLD.MI_var\"],[\"2021-11-01 00:00:00\",\"XEON.MI_var\"],[\"2021-11-01 00:00:00\",\"AGGH.MI_var\"],[\"2021-11-01 00:00:00\",\"SPY_var\"],[\"2021-11-01 00:00:00\",\"SGLD.MI_var\"],[\"2021-12-01 00:00:00\",\"XEON.MI_var\"],[\"2021-12-01 00:00:00\",\"AGGH.MI_var\"],[\"2021-12-01 00:00:00\",\"SPY_var\"],[\"2021-12-01 00:00:00\",\"SGLD.MI_var\"],[\"2022-01-01 00:00:00\",\"XEON.MI_var\"],[\"2022-01-01 00:00:00\",\"AGGH.MI_var\"],[\"2022-01-01 00:00:00\",\"SPY_var\"],[\"2022-01-01 00:00:00\",\"SGLD.MI_var\"],[\"2022-02-01 00:00:00\",\"XEON.MI_var\"],[\"2022-02-01 00:00:00\",\"AGGH.MI_var\"],[\"2022-02-01 00:00:00\",\"SPY_var\"],[\"2022-02-01 00:00:00\",\"SGLD.MI_var\"],[\"2022-03-01 00:00:00\",\"XEON.MI_var\"],[\"2022-03-01 00:00:00\",\"AGGH.MI_var\"],[\"2022-03-01 00:00:00\",\"SPY_var\"],[\"2022-03-01 00:00:00\",\"SGLD.MI_var\"],[\"2022-04-01 00:00:00\",\"XEON.MI_var\"],[\"2022-04-01 00:00:00\",\"AGGH.MI_var\"],[\"2022-04-01 00:00:00\",\"SPY_var\"],[\"2022-04-01 00:00:00\",\"SGLD.MI_var\"],[\"2022-05-01 00:00:00\",\"XEON.MI_var\"],[\"2022-05-01 00:00:00\",\"AGGH.MI_var\"],[\"2022-05-01 00:00:00\",\"SPY_var\"],[\"2022-05-01 00:00:00\",\"SGLD.MI_var\"],[\"2022-06-01 00:00:00\",\"XEON.MI_var\"],[\"2022-06-01 00:00:00\",\"AGGH.MI_var\"],[\"2022-06-01 00:00:00\",\"SPY_var\"],[\"2022-06-01 00:00:00\",\"SGLD.MI_var\"],[\"2022-07-01 00:00:00\",\"XEON.MI_var\"],[\"2022-07-01 00:00:00\",\"AGGH.MI_var\"],[\"2022-07-01 00:00:00\",\"SPY_var\"],[\"2022-07-01 00:00:00\",\"SGLD.MI_var\"],[\"2022-08-01 00:00:00\",\"XEON.MI_var\"],[\"2022-08-01 00:00:00\",\"AGGH.MI_var\"],[\"2022-08-01 00:00:00\",\"SPY_var\"],[\"2022-08-01 00:00:00\",\"SGLD.MI_var\"],[\"2022-09-01 00:00:00\",\"XEON.MI_var\"],[\"2022-09-01 00:00:00\",\"AGGH.MI_var\"],[\"2022-09-01 00:00:00\",\"SPY_var\"],[\"2022-09-01 00:00:00\",\"SGLD.MI_var\"],[\"2022-10-01 00:00:00\",\"XEON.MI_var\"],[\"2022-10-01 00:00:00\",\"AGGH.MI_var\"],[\"2022-10-01 00:00:00\",\"SPY_var\"],[\"2022-10-01 00:00:00\",\"SGLD.MI_var\"],[\"2022-11-01 00:00:00\",\"XEON.MI_var\"],[\"2022-11-01 00:00:00\",\"AGGH.MI_var\"],[\"2022-11-01 00:00:00\",\"SPY_var\"],[\"2022-11-01 00:00:00\",\"SGLD.MI_var\"],[\"2022-12-01 00:00:00\",\"XEON.MI_var\"],[\"2022-12-01 00:00:00\",\"AGGH.MI_var\"],[\"2022-12-01 00:00:00\",\"SPY_var\"],[\"2022-12-01 00:00:00\",\"SGLD.MI_var\"],[\"2023-01-01 00:00:00\",\"XEON.MI_var\"],[\"2023-01-01 00:00:00\",\"AGGH.MI_var\"],[\"2023-01-01 00:00:00\",\"SPY_var\"],[\"2023-01-01 00:00:00\",\"SGLD.MI_var\"],[\"2023-02-01 00:00:00\",\"XEON.MI_var\"],[\"2023-02-01 00:00:00\",\"AGGH.MI_var\"],[\"2023-02-01 00:00:00\",\"SPY_var\"],[\"2023-02-01 00:00:00\",\"SGLD.MI_var\"],[\"2023-03-01 00:00:00\",\"XEON.MI_var\"],[\"2023-03-01 00:00:00\",\"AGGH.MI_var\"],[\"2023-03-01 00:00:00\",\"SPY_var\"],[\"2023-03-01 00:00:00\",\"SGLD.MI_var\"],[\"2023-04-01 00:00:00\",\"XEON.MI_var\"],[\"2023-04-01 00:00:00\",\"AGGH.MI_var\"],[\"2023-04-01 00:00:00\",\"SPY_var\"],[\"2023-04-01 00:00:00\",\"SGLD.MI_var\"],[\"2023-05-01 00:00:00\",\"XEON.MI_var\"],[\"2023-05-01 00:00:00\",\"AGGH.MI_var\"],[\"2023-05-01 00:00:00\",\"SPY_var\"],[\"2023-05-01 00:00:00\",\"SGLD.MI_var\"],[\"2023-06-01 00:00:00\",\"XEON.MI_var\"],[\"2023-06-01 00:00:00\",\"AGGH.MI_var\"],[\"2023-06-01 00:00:00\",\"SPY_var\"],[\"2023-06-01 00:00:00\",\"SGLD.MI_var\"],[\"2023-07-01 00:00:00\",\"XEON.MI_var\"],[\"2023-07-01 00:00:00\",\"AGGH.MI_var\"],[\"2023-07-01 00:00:00\",\"SPY_var\"],[\"2023-07-01 00:00:00\",\"SGLD.MI_var\"],[\"2023-08-01 00:00:00\",\"XEON.MI_var\"],[\"2023-08-01 00:00:00\",\"AGGH.MI_var\"],[\"2023-08-01 00:00:00\",\"SPY_var\"],[\"2023-08-01 00:00:00\",\"SGLD.MI_var\"],[\"2023-09-01 00:00:00\",\"XEON.MI_var\"],[\"2023-09-01 00:00:00\",\"AGGH.MI_var\"],[\"2023-09-01 00:00:00\",\"SPY_var\"],[\"2023-09-01 00:00:00\",\"SGLD.MI_var\"],[\"2023-10-01 00:00:00\",\"XEON.MI_var\"],[\"2023-10-01 00:00:00\",\"AGGH.MI_var\"],[\"2023-10-01 00:00:00\",\"SPY_var\"],[\"2023-10-01 00:00:00\",\"SGLD.MI_var\"],[\"2023-11-01 00:00:00\",\"XEON.MI_var\"],[\"2023-11-01 00:00:00\",\"AGGH.MI_var\"],[\"2023-11-01 00:00:00\",\"SPY_var\"],[\"2023-11-01 00:00:00\",\"SGLD.MI_var\"],[\"2023-12-01 00:00:00\",\"XEON.MI_var\"],[\"2023-12-01 00:00:00\",\"AGGH.MI_var\"],[\"2023-12-01 00:00:00\",\"SPY_var\"],[\"2023-12-01 00:00:00\",\"SGLD.MI_var\"],[\"2024-01-01 00:00:00\",\"XEON.MI_var\"],[\"2024-01-01 00:00:00\",\"AGGH.MI_var\"],[\"2024-01-01 00:00:00\",\"SPY_var\"],[\"2024-01-01 00:00:00\",\"SGLD.MI_var\"],[\"2024-02-01 00:00:00\",\"XEON.MI_var\"],[\"2024-02-01 00:00:00\",\"AGGH.MI_var\"],[\"2024-02-01 00:00:00\",\"SPY_var\"],[\"2024-02-01 00:00:00\",\"SGLD.MI_var\"],[\"2024-03-01 00:00:00\",\"XEON.MI_var\"],[\"2024-03-01 00:00:00\",\"AGGH.MI_var\"],[\"2024-03-01 00:00:00\",\"SPY_var\"],[\"2024-03-01 00:00:00\",\"SGLD.MI_var\"],[\"2024-04-01 00:00:00\",\"XEON.MI_var\"],[\"2024-04-01 00:00:00\",\"AGGH.MI_var\"],[\"2024-04-01 00:00:00\",\"SPY_var\"],[\"2024-04-01 00:00:00\",\"SGLD.MI_var\"],[\"2024-05-01 00:00:00\",\"XEON.MI_var\"],[\"2024-05-01 00:00:00\",\"AGGH.MI_var\"],[\"2024-05-01 00:00:00\",\"SPY_var\"],[\"2024-05-01 00:00:00\",\"SGLD.MI_var\"]]}},\"y_range\":{\"type\":\"object\",\"name\":\"Range1d\",\"id\":\"p3895\",\"attributes\":{\"tags\":[[[\"value\",\"value\",null]],{\"type\":\"map\",\"entries\":[[\"invert_yaxis\",false],[\"autorange\",false]]}],\"start\":-0.15634718113564902,\"end\":0.15997018752713218,\"reset_start\":-0.15634718113564902,\"reset_end\":0.15997018752713218}},\"x_scale\":{\"type\":\"object\",\"name\":\"CategoricalScale\",\"id\":\"p3911\"},\"y_scale\":{\"type\":\"object\",\"name\":\"LinearScale\",\"id\":\"p3912\"},\"title\":{\"type\":\"object\",\"name\":\"Title\",\"id\":\"p3904\",\"attributes\":{\"text_color\":\"black\",\"text_font_size\":\"12pt\"}},\"renderers\":[{\"type\":\"object\",\"name\":\"GlyphRenderer\",\"id\":\"p3938\",\"attributes\":{\"data_source\":{\"type\":\"object\",\"name\":\"ColumnDataSource\",\"id\":\"p3929\",\"attributes\":{\"selected\":{\"type\":\"object\",\"name\":\"Selection\",\"id\":\"p3930\",\"attributes\":{\"indices\":[],\"line_indices\":[]}},\"selection_policy\":{\"type\":\"object\",\"name\":\"UnionRenderers\",\"id\":\"p3931\"},\"data\":{\"type\":\"map\",\"entries\":[[\"xoffsets\",[[\"2019-08-01 00:00:00\",\"SGLD.MI_var\"],[\"2019-09-01 00:00:00\",\"SGLD.MI_var\"],[\"2019-10-01 00:00:00\",\"SGLD.MI_var\"],[\"2019-11-01 00:00:00\",\"SGLD.MI_var\"],[\"2019-12-01 00:00:00\",\"SGLD.MI_var\"],[\"2020-01-01 00:00:00\",\"SGLD.MI_var\"],[\"2020-02-01 00:00:00\",\"SGLD.MI_var\"],[\"2020-03-01 00:00:00\",\"SGLD.MI_var\"],[\"2020-04-01 00:00:00\",\"SGLD.MI_var\"],[\"2020-05-01 00:00:00\",\"SGLD.MI_var\"],[\"2020-06-01 00:00:00\",\"SGLD.MI_var\"],[\"2020-07-01 00:00:00\",\"SGLD.MI_var\"],[\"2020-08-01 00:00:00\",\"SGLD.MI_var\"],[\"2020-09-01 00:00:00\",\"SGLD.MI_var\"],[\"2020-10-01 00:00:00\",\"SGLD.MI_var\"],[\"2020-11-01 00:00:00\",\"SGLD.MI_var\"],[\"2020-12-01 00:00:00\",\"SGLD.MI_var\"],[\"2021-01-01 00:00:00\",\"SGLD.MI_var\"],[\"2021-02-01 00:00:00\",\"SGLD.MI_var\"],[\"2021-03-01 00:00:00\",\"SGLD.MI_var\"],[\"2021-04-01 00:00:00\",\"SGLD.MI_var\"],[\"2021-05-01 00:00:00\",\"SGLD.MI_var\"],[\"2021-06-01 00:00:00\",\"SGLD.MI_var\"],[\"2021-07-01 00:00:00\",\"SGLD.MI_var\"],[\"2021-08-01 00:00:00\",\"SGLD.MI_var\"],[\"2021-09-01 00:00:00\",\"SGLD.MI_var\"],[\"2021-10-01 00:00:00\",\"SGLD.MI_var\"],[\"2021-11-01 00:00:00\",\"SGLD.MI_var\"],[\"2021-12-01 00:00:00\",\"SGLD.MI_var\"],[\"2022-01-01 00:00:00\",\"SGLD.MI_var\"],[\"2022-02-01 00:00:00\",\"SGLD.MI_var\"],[\"2022-03-01 00:00:00\",\"SGLD.MI_var\"],[\"2022-04-01 00:00:00\",\"SGLD.MI_var\"],[\"2022-05-01 00:00:00\",\"SGLD.MI_var\"],[\"2022-06-01 00:00:00\",\"SGLD.MI_var\"],[\"2022-07-01 00:00:00\",\"SGLD.MI_var\"],[\"2022-08-01 00:00:00\",\"SGLD.MI_var\"],[\"2022-09-01 00:00:00\",\"SGLD.MI_var\"],[\"2022-10-01 00:00:00\",\"SGLD.MI_var\"],[\"2022-11-01 00:00:00\",\"SGLD.MI_var\"],[\"2022-12-01 00:00:00\",\"SGLD.MI_var\"],[\"2023-01-01 00:00:00\",\"SGLD.MI_var\"],[\"2023-02-01 00:00:00\",\"SGLD.MI_var\"],[\"2023-03-01 00:00:00\",\"SGLD.MI_var\"],[\"2023-04-01 00:00:00\",\"SGLD.MI_var\"],[\"2023-05-01 00:00:00\",\"SGLD.MI_var\"],[\"2023-06-01 00:00:00\",\"SGLD.MI_var\"],[\"2023-07-01 00:00:00\",\"SGLD.MI_var\"],[\"2023-08-01 00:00:00\",\"SGLD.MI_var\"],[\"2023-09-01 00:00:00\",\"SGLD.MI_var\"],[\"2023-10-01 00:00:00\",\"SGLD.MI_var\"],[\"2023-11-01 00:00:00\",\"SGLD.MI_var\"],[\"2023-12-01 00:00:00\",\"SGLD.MI_var\"],[\"2024-01-01 00:00:00\",\"SGLD.MI_var\"],[\"2024-02-01 00:00:00\",\"SGLD.MI_var\"],[\"2024-03-01 00:00:00\",\"SGLD.MI_var\"],[\"2024-04-01 00:00:00\",\"SGLD.MI_var\"],[\"2024-05-01 00:00:00\",\"SGLD.MI_var\"],[\"2019-08-01 00:00:00\",\"SPY_var\"],[\"2019-09-01 00:00:00\",\"SPY_var\"],[\"2019-10-01 00:00:00\",\"SPY_var\"],[\"2019-11-01 00:00:00\",\"SPY_var\"],[\"2019-12-01 00:00:00\",\"SPY_var\"],[\"2020-01-01 00:00:00\",\"SPY_var\"],[\"2020-02-01 00:00:00\",\"SPY_var\"],[\"2020-03-01 00:00:00\",\"SPY_var\"],[\"2020-04-01 00:00:00\",\"SPY_var\"],[\"2020-05-01 00:00:00\",\"SPY_var\"],[\"2020-06-01 00:00:00\",\"SPY_var\"],[\"2020-07-01 00:00:00\",\"SPY_var\"],[\"2020-08-01 00:00:00\",\"SPY_var\"],[\"2020-09-01 00:00:00\",\"SPY_var\"],[\"2020-10-01 00:00:00\",\"SPY_var\"],[\"2020-11-01 00:00:00\",\"SPY_var\"],[\"2020-12-01 00:00:00\",\"SPY_var\"],[\"2021-01-01 00:00:00\",\"SPY_var\"],[\"2021-02-01 00:00:00\",\"SPY_var\"],[\"2021-03-01 00:00:00\",\"SPY_var\"],[\"2021-04-01 00:00:00\",\"SPY_var\"],[\"2021-05-01 00:00:00\",\"SPY_var\"],[\"2021-06-01 00:00:00\",\"SPY_var\"],[\"2021-07-01 00:00:00\",\"SPY_var\"],[\"2021-08-01 00:00:00\",\"SPY_var\"],[\"2021-09-01 00:00:00\",\"SPY_var\"],[\"2021-10-01 00:00:00\",\"SPY_var\"],[\"2021-11-01 00:00:00\",\"SPY_var\"],[\"2021-12-01 00:00:00\",\"SPY_var\"],[\"2022-01-01 00:00:00\",\"SPY_var\"],[\"2022-02-01 00:00:00\",\"SPY_var\"],[\"2022-03-01 00:00:00\",\"SPY_var\"],[\"2022-04-01 00:00:00\",\"SPY_var\"],[\"2022-05-01 00:00:00\",\"SPY_var\"],[\"2022-06-01 00:00:00\",\"SPY_var\"],[\"2022-07-01 00:00:00\",\"SPY_var\"],[\"2022-08-01 00:00:00\",\"SPY_var\"],[\"2022-09-01 00:00:00\",\"SPY_var\"],[\"2022-10-01 00:00:00\",\"SPY_var\"],[\"2022-11-01 00:00:00\",\"SPY_var\"],[\"2022-12-01 00:00:00\",\"SPY_var\"],[\"2023-01-01 00:00:00\",\"SPY_var\"],[\"2023-02-01 00:00:00\",\"SPY_var\"],[\"2023-03-01 00:00:00\",\"SPY_var\"],[\"2023-04-01 00:00:00\",\"SPY_var\"],[\"2023-05-01 00:00:00\",\"SPY_var\"],[\"2023-06-01 00:00:00\",\"SPY_var\"],[\"2023-07-01 00:00:00\",\"SPY_var\"],[\"2023-08-01 00:00:00\",\"SPY_var\"],[\"2023-09-01 00:00:00\",\"SPY_var\"],[\"2023-10-01 00:00:00\",\"SPY_var\"],[\"2023-11-01 00:00:00\",\"SPY_var\"],[\"2023-12-01 00:00:00\",\"SPY_var\"],[\"2024-01-01 00:00:00\",\"SPY_var\"],[\"2024-02-01 00:00:00\",\"SPY_var\"],[\"2024-03-01 00:00:00\",\"SPY_var\"],[\"2024-04-01 00:00:00\",\"SPY_var\"],[\"2024-05-01 00:00:00\",\"SPY_var\"],[\"2019-08-01 00:00:00\",\"AGGH.MI_var\"],[\"2019-09-01 00:00:00\",\"AGGH.MI_var\"],[\"2019-10-01 00:00:00\",\"AGGH.MI_var\"],[\"2019-11-01 00:00:00\",\"AGGH.MI_var\"],[\"2019-12-01 00:00:00\",\"AGGH.MI_var\"],[\"2020-01-01 00:00:00\",\"AGGH.MI_var\"],[\"2020-02-01 00:00:00\",\"AGGH.MI_var\"],[\"2020-03-01 00:00:00\",\"AGGH.MI_var\"],[\"2020-04-01 00:00:00\",\"AGGH.MI_var\"],[\"2020-05-01 00:00:00\",\"AGGH.MI_var\"],[\"2020-06-01 00:00:00\",\"AGGH.MI_var\"],[\"2020-07-01 00:00:00\",\"AGGH.MI_var\"],[\"2020-08-01 00:00:00\",\"AGGH.MI_var\"],[\"2020-09-01 00:00:00\",\"AGGH.MI_var\"],[\"2020-10-01 00:00:00\",\"AGGH.MI_var\"],[\"2020-11-01 00:00:00\",\"AGGH.MI_var\"],[\"2020-12-01 00:00:00\",\"AGGH.MI_var\"],[\"2021-01-01 00:00:00\",\"AGGH.MI_var\"],[\"2021-02-01 00:00:00\",\"AGGH.MI_var\"],[\"2021-03-01 00:00:00\",\"AGGH.MI_var\"],[\"2021-04-01 00:00:00\",\"AGGH.MI_var\"],[\"2021-05-01 00:00:00\",\"AGGH.MI_var\"],[\"2021-06-01 00:00:00\",\"AGGH.MI_var\"],[\"2021-07-01 00:00:00\",\"AGGH.MI_var\"],[\"2021-08-01 00:00:00\",\"AGGH.MI_var\"],[\"2021-09-01 00:00:00\",\"AGGH.MI_var\"],[\"2021-10-01 00:00:00\",\"AGGH.MI_var\"],[\"2021-11-01 00:00:00\",\"AGGH.MI_var\"],[\"2021-12-01 00:00:00\",\"AGGH.MI_var\"],[\"2022-01-01 00:00:00\",\"AGGH.MI_var\"],[\"2022-02-01 00:00:00\",\"AGGH.MI_var\"],[\"2022-03-01 00:00:00\",\"AGGH.MI_var\"],[\"2022-04-01 00:00:00\",\"AGGH.MI_var\"],[\"2022-05-01 00:00:00\",\"AGGH.MI_var\"],[\"2022-06-01 00:00:00\",\"AGGH.MI_var\"],[\"2022-07-01 00:00:00\",\"AGGH.MI_var\"],[\"2022-08-01 00:00:00\",\"AGGH.MI_var\"],[\"2022-09-01 00:00:00\",\"AGGH.MI_var\"],[\"2022-10-01 00:00:00\",\"AGGH.MI_var\"],[\"2022-11-01 00:00:00\",\"AGGH.MI_var\"],[\"2022-12-01 00:00:00\",\"AGGH.MI_var\"],[\"2023-01-01 00:00:00\",\"AGGH.MI_var\"],[\"2023-02-01 00:00:00\",\"AGGH.MI_var\"],[\"2023-03-01 00:00:00\",\"AGGH.MI_var\"],[\"2023-04-01 00:00:00\",\"AGGH.MI_var\"],[\"2023-05-01 00:00:00\",\"AGGH.MI_var\"],[\"2023-06-01 00:00:00\",\"AGGH.MI_var\"],[\"2023-07-01 00:00:00\",\"AGGH.MI_var\"],[\"2023-08-01 00:00:00\",\"AGGH.MI_var\"],[\"2023-09-01 00:00:00\",\"AGGH.MI_var\"],[\"2023-10-01 00:00:00\",\"AGGH.MI_var\"],[\"2023-11-01 00:00:00\",\"AGGH.MI_var\"],[\"2023-12-01 00:00:00\",\"AGGH.MI_var\"],[\"2024-01-01 00:00:00\",\"AGGH.MI_var\"],[\"2024-02-01 00:00:00\",\"AGGH.MI_var\"],[\"2024-03-01 00:00:00\",\"AGGH.MI_var\"],[\"2024-04-01 00:00:00\",\"AGGH.MI_var\"],[\"2024-05-01 00:00:00\",\"AGGH.MI_var\"],[\"2019-08-01 00:00:00\",\"XEON.MI_var\"],[\"2019-09-01 00:00:00\",\"XEON.MI_var\"],[\"2019-10-01 00:00:00\",\"XEON.MI_var\"],[\"2019-11-01 00:00:00\",\"XEON.MI_var\"],[\"2019-12-01 00:00:00\",\"XEON.MI_var\"],[\"2020-01-01 00:00:00\",\"XEON.MI_var\"],[\"2020-02-01 00:00:00\",\"XEON.MI_var\"],[\"2020-03-01 00:00:00\",\"XEON.MI_var\"],[\"2020-04-01 00:00:00\",\"XEON.MI_var\"],[\"2020-05-01 00:00:00\",\"XEON.MI_var\"],[\"2020-06-01 00:00:00\",\"XEON.MI_var\"],[\"2020-07-01 00:00:00\",\"XEON.MI_var\"],[\"2020-08-01 00:00:00\",\"XEON.MI_var\"],[\"2020-09-01 00:00:00\",\"XEON.MI_var\"],[\"2020-10-01 00:00:00\",\"XEON.MI_var\"],[\"2020-11-01 00:00:00\",\"XEON.MI_var\"],[\"2020-12-01 00:00:00\",\"XEON.MI_var\"],[\"2021-01-01 00:00:00\",\"XEON.MI_var\"],[\"2021-02-01 00:00:00\",\"XEON.MI_var\"],[\"2021-03-01 00:00:00\",\"XEON.MI_var\"],[\"2021-04-01 00:00:00\",\"XEON.MI_var\"],[\"2021-05-01 00:00:00\",\"XEON.MI_var\"],[\"2021-06-01 00:00:00\",\"XEON.MI_var\"],[\"2021-07-01 00:00:00\",\"XEON.MI_var\"],[\"2021-08-01 00:00:00\",\"XEON.MI_var\"],[\"2021-09-01 00:00:00\",\"XEON.MI_var\"],[\"2021-10-01 00:00:00\",\"XEON.MI_var\"],[\"2021-11-01 00:00:00\",\"XEON.MI_var\"],[\"2021-12-01 00:00:00\",\"XEON.MI_var\"],[\"2022-01-01 00:00:00\",\"XEON.MI_var\"],[\"2022-02-01 00:00:00\",\"XEON.MI_var\"],[\"2022-03-01 00:00:00\",\"XEON.MI_var\"],[\"2022-04-01 00:00:00\",\"XEON.MI_var\"],[\"2022-05-01 00:00:00\",\"XEON.MI_var\"],[\"2022-06-01 00:00:00\",\"XEON.MI_var\"],[\"2022-07-01 00:00:00\",\"XEON.MI_var\"],[\"2022-08-01 00:00:00\",\"XEON.MI_var\"],[\"2022-09-01 00:00:00\",\"XEON.MI_var\"],[\"2022-10-01 00:00:00\",\"XEON.MI_var\"],[\"2022-11-01 00:00:00\",\"XEON.MI_var\"],[\"2022-12-01 00:00:00\",\"XEON.MI_var\"],[\"2023-01-01 00:00:00\",\"XEON.MI_var\"],[\"2023-02-01 00:00:00\",\"XEON.MI_var\"],[\"2023-03-01 00:00:00\",\"XEON.MI_var\"],[\"2023-04-01 00:00:00\",\"XEON.MI_var\"],[\"2023-05-01 00:00:00\",\"XEON.MI_var\"],[\"2023-06-01 00:00:00\",\"XEON.MI_var\"],[\"2023-07-01 00:00:00\",\"XEON.MI_var\"],[\"2023-08-01 00:00:00\",\"XEON.MI_var\"],[\"2023-09-01 00:00:00\",\"XEON.MI_var\"],[\"2023-10-01 00:00:00\",\"XEON.MI_var\"],[\"2023-11-01 00:00:00\",\"XEON.MI_var\"],[\"2023-12-01 00:00:00\",\"XEON.MI_var\"],[\"2024-01-01 00:00:00\",\"XEON.MI_var\"],[\"2024-02-01 00:00:00\",\"XEON.MI_var\"],[\"2024-03-01 00:00:00\",\"XEON.MI_var\"],[\"2024-04-01 00:00:00\",\"XEON.MI_var\"],[\"2024-05-01 00:00:00\",\"XEON.MI_var\"]]],[\"value\",{\"type\":\"ndarray\",\"array\":{\"type\":\"bytes\",\"data\":\"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\"},\"shape\":[232],\"dtype\":\"float64\",\"order\":\"little\"}],[\"Date\",[\"2019-08-01 00:00:00\",\"2019-09-01 00:00:00\",\"2019-10-01 00:00:00\",\"2019-11-01 00:00:00\",\"2019-12-01 00:00:00\",\"2020-01-01 00:00:00\",\"2020-02-01 00:00:00\",\"2020-03-01 00:00:00\",\"2020-04-01 00:00:00\",\"2020-05-01 00:00:00\",\"2020-06-01 00:00:00\",\"2020-07-01 00:00:00\",\"2020-08-01 00:00:00\",\"2020-09-01 00:00:00\",\"2020-10-01 00:00:00\",\"2020-11-01 00:00:00\",\"2020-12-01 00:00:00\",\"2021-01-01 00:00:00\",\"2021-02-01 00:00:00\",\"2021-03-01 00:00:00\",\"2021-04-01 00:00:00\",\"2021-05-01 00:00:00\",\"2021-06-01 00:00:00\",\"2021-07-01 00:00:00\",\"2021-08-01 00:00:00\",\"2021-09-01 00:00:00\",\"2021-10-01 00:00:00\",\"2021-11-01 00:00:00\",\"2021-12-01 00:00:00\",\"2022-01-01 00:00:00\",\"2022-02-01 00:00:00\",\"2022-03-01 00:00:00\",\"2022-04-01 00:00:00\",\"2022-05-01 00:00:00\",\"2022-06-01 00:00:00\",\"2022-07-01 00:00:00\",\"2022-08-01 00:00:00\",\"2022-09-01 00:00:00\",\"2022-10-01 00:00:00\",\"2022-11-01 00:00:00\",\"2022-12-01 00:00:00\",\"2023-01-01 00:00:00\",\"2023-02-01 00:00:00\",\"2023-03-01 00:00:00\",\"2023-04-01 00:00:00\",\"2023-05-01 00:00:00\",\"2023-06-01 00:00:00\",\"2023-07-01 00:00:00\",\"2023-08-01 00:00:00\",\"2023-09-01 00:00:00\",\"2023-10-01 00:00:00\",\"2023-11-01 00:00:00\",\"2023-12-01 00:00:00\",\"2024-01-01 00:00:00\",\"2024-02-01 00:00:00\",\"2024-03-01 00:00:00\",\"2024-04-01 00:00:00\",\"2024-05-01 00:00:00\",\"2019-08-01 00:00:00\",\"2019-09-01 00:00:00\",\"2019-10-01 00:00:00\",\"2019-11-01 00:00:00\",\"2019-12-01 00:00:00\",\"2020-01-01 00:00:00\",\"2020-02-01 00:00:00\",\"2020-03-01 00:00:00\",\"2020-04-01 00:00:00\",\"2020-05-01 00:00:00\",\"2020-06-01 00:00:00\",\"2020-07-01 00:00:00\",\"2020-08-01 00:00:00\",\"2020-09-01 00:00:00\",\"2020-10-01 00:00:00\",\"2020-11-01 00:00:00\",\"2020-12-01 00:00:00\",\"2021-01-01 00:00:00\",\"2021-02-01 00:00:00\",\"2021-03-01 00:00:00\",\"2021-04-01 00:00:00\",\"2021-05-01 00:00:00\",\"2021-06-01 00:00:00\",\"2021-07-01 00:00:00\",\"2021-08-01 00:00:00\",\"2021-09-01 00:00:00\",\"2021-10-01 00:00:00\",\"2021-11-01 00:00:00\",\"2021-12-01 00:00:00\",\"2022-01-01 00:00:00\",\"2022-02-01 00:00:00\",\"2022-03-01 00:00:00\",\"2022-04-01 00:00:00\",\"2022-05-01 00:00:00\",\"2022-06-01 00:00:00\",\"2022-07-01 00:00:00\",\"2022-08-01 00:00:00\",\"2022-09-01 00:00:00\",\"2022-10-01 00:00:00\",\"2022-11-01 00:00:00\",\"2022-12-01 00:00:00\",\"2023-01-01 00:00:00\",\"2023-02-01 00:00:00\",\"2023-03-01 00:00:00\",\"2023-04-01 00:00:00\",\"2023-05-01 00:00:00\",\"2023-06-01 00:00:00\",\"2023-07-01 00:00:00\",\"2023-08-01 00:00:00\",\"2023-09-01 00:00:00\",\"2023-10-01 00:00:00\",\"2023-11-01 00:00:00\",\"2023-12-01 00:00:00\",\"2024-01-01 00:00:00\",\"2024-02-01 00:00:00\",\"2024-03-01 00:00:00\",\"2024-04-01 00:00:00\",\"2024-05-01 00:00:00\",\"2019-08-01 00:00:00\",\"2019-09-01 00:00:00\",\"2019-10-01 00:00:00\",\"2019-11-01 00:00:00\",\"2019-12-01 00:00:00\",\"2020-01-01 00:00:00\",\"2020-02-01 00:00:00\",\"2020-03-01 00:00:00\",\"2020-04-01 00:00:00\",\"2020-05-01 00:00:00\",\"2020-06-01 00:00:00\",\"2020-07-01 00:00:00\",\"2020-08-01 00:00:00\",\"2020-09-01 00:00:00\",\"2020-10-01 00:00:00\",\"2020-11-01 00:00:00\",\"2020-12-01 00:00:00\",\"2021-01-01 00:00:00\",\"2021-02-01 00:00:00\",\"2021-03-01 00:00:00\",\"2021-04-01 00:00:00\",\"2021-05-01 00:00:00\",\"2021-06-01 00:00:00\",\"2021-07-01 00:00:00\",\"2021-08-01 00:00:00\",\"2021-09-01 00:00:00\",\"2021-10-01 00:00:00\",\"2021-11-01 00:00:00\",\"2021-12-01 00:00:00\",\"2022-01-01 00:00:00\",\"2022-02-01 00:00:00\",\"2022-03-01 00:00:00\",\"2022-04-01 00:00:00\",\"2022-05-01 00:00:00\",\"2022-06-01 00:00:00\",\"2022-07-01 00:00:00\",\"2022-08-01 00:00:00\",\"2022-09-01 00:00:00\",\"2022-10-01 00:00:00\",\"2022-11-01 00:00:00\",\"2022-12-01 00:00:00\",\"2023-01-01 00:00:00\",\"2023-02-01 00:00:00\",\"2023-03-01 00:00:00\",\"2023-04-01 00:00:00\",\"2023-05-01 00:00:00\",\"2023-06-01 00:00:00\",\"2023-07-01 00:00:00\",\"2023-08-01 00:00:00\",\"2023-09-01 00:00:00\",\"2023-10-01 00:00:00\",\"2023-11-01 00:00:00\",\"2023-12-01 00:00:00\",\"2024-01-01 00:00:00\",\"2024-02-01 00:00:00\",\"2024-03-01 00:00:00\",\"2024-04-01 00:00:00\",\"2024-05-01 00:00:00\",\"2019-08-01 00:00:00\",\"2019-09-01 00:00:00\",\"2019-10-01 00:00:00\",\"2019-11-01 00:00:00\",\"2019-12-01 00:00:00\",\"2020-01-01 00:00:00\",\"2020-02-01 00:00:00\",\"2020-03-01 00:00:00\",\"2020-04-01 00:00:00\",\"2020-05-01 00:00:00\",\"2020-06-01 00:00:00\",\"2020-07-01 00:00:00\",\"2020-08-01 00:00:00\",\"2020-09-01 00:00:00\",\"2020-10-01 00:00:00\",\"2020-11-01 00:00:00\",\"2020-12-01 00:00:00\",\"2021-01-01 00:00:00\",\"2021-02-01 00:00:00\",\"2021-03-01 00:00:00\",\"2021-04-01 00:00:00\",\"2021-05-01 00:00:00\",\"2021-06-01 00:00:00\",\"2021-07-01 00:00:00\",\"2021-08-01 00:00:00\",\"2021-09-01 00:00:00\",\"2021-10-01 00:00:00\",\"2021-11-01 00:00:00\",\"2021-12-01 00:00:00\",\"2022-01-01 00:00:00\",\"2022-02-01 00:00:00\",\"2022-03-01 00:00:00\",\"2022-04-01 00:00:00\",\"2022-05-01 00:00:00\",\"2022-06-01 00:00:00\",\"2022-07-01 00:00:00\",\"2022-08-01 00:00:00\",\"2022-09-01 00:00:00\",\"2022-10-01 00:00:00\",\"2022-11-01 00:00:00\",\"2022-12-01 00:00:00\",\"2023-01-01 00:00:00\",\"2023-02-01 00:00:00\",\"2023-03-01 00:00:00\",\"2023-04-01 00:00:00\",\"2023-05-01 00:00:00\",\"2023-06-01 00:00:00\",\"2023-07-01 00:00:00\",\"2023-08-01 00:00:00\",\"2023-09-01 00:00:00\",\"2023-10-01 00:00:00\",\"2023-11-01 00:00:00\",\"2023-12-01 00:00:00\",\"2024-01-01 00:00:00\",\"2024-02-01 00:00:00\",\"2024-03-01 00:00:00\",\"2024-04-01 00:00:00\",\"2024-05-01 00:00:00\"]],[\"Variable\",[\"SGLD.MI_var\",\"SGLD.MI_var\",\"SGLD.MI_var\",\"SGLD.MI_var\",\"SGLD.MI_var\",\"SGLD.MI_var\",\"SGLD.MI_var\",\"SGLD.MI_var\",\"SGLD.MI_var\",\"SGLD.MI_var\",\"SGLD.MI_var\",\"SGLD.MI_var\",\"SGLD.MI_var\",\"SGLD.MI_var\",\"SGLD.MI_var\",\"SGLD.MI_var\",\"SGLD.MI_var\",\"SGLD.MI_var\",\"SGLD.MI_var\",\"SGLD.MI_var\",\"SGLD.MI_var\",\"SGLD.MI_var\",\"SGLD.MI_var\",\"SGLD.MI_var\",\"SGLD.MI_var\",\"SGLD.MI_var\",\"SGLD.MI_var\",\"SGLD.MI_var\",\"SGLD.MI_var\",\"SGLD.MI_var\",\"SGLD.MI_var\",\"SGLD.MI_var\",\"SGLD.MI_var\",\"SGLD.MI_var\",\"SGLD.MI_var\",\"SGLD.MI_var\",\"SGLD.MI_var\",\"SGLD.MI_var\",\"SGLD.MI_var\",\"SGLD.MI_var\",\"SGLD.MI_var\",\"SGLD.MI_var\",\"SGLD.MI_var\",\"SGLD.MI_var\",\"SGLD.MI_var\",\"SGLD.MI_var\",\"SGLD.MI_var\",\"SGLD.MI_var\",\"SGLD.MI_var\",\"SGLD.MI_var\",\"SGLD.MI_var\",\"SGLD.MI_var\",\"SGLD.MI_var\",\"SGLD.MI_var\",\"SGLD.MI_var\",\"SGLD.MI_var\",\"SGLD.MI_var\",\"SGLD.MI_var\",\"SPY_var\",\"SPY_var\",\"SPY_var\",\"SPY_var\",\"SPY_var\",\"SPY_var\",\"SPY_var\",\"SPY_var\",\"SPY_var\",\"SPY_var\",\"SPY_var\",\"SPY_var\",\"SPY_var\",\"SPY_var\",\"SPY_var\",\"SPY_var\",\"SPY_var\",\"SPY_var\",\"SPY_var\",\"SPY_var\",\"SPY_var\",\"SPY_var\",\"SPY_var\",\"SPY_var\",\"SPY_var\",\"SPY_var\",\"SPY_var\",\"SPY_var\",\"SPY_var\",\"SPY_var\",\"SPY_var\",\"SPY_var\",\"SPY_var\",\"SPY_var\",\"SPY_var\",\"SPY_var\",\"SPY_var\",\"SPY_var\",\"SPY_var\",\"SPY_var\",\"SPY_var\",\"SPY_var\",\"SPY_var\",\"SPY_var\",\"SPY_var\",\"SPY_var\",\"SPY_var\",\"SPY_var\",\"SPY_var\",\"SPY_var\",\"SPY_var\",\"SPY_var\",\"SPY_var\",\"SPY_var\",\"SPY_var\",\"SPY_var\",\"SPY_var\",\"SPY_var\",\"AGGH.MI_var\",\"AGGH.MI_var\",\"AGGH.MI_var\",\"AGGH.MI_var\",\"AGGH.MI_var\",\"AGGH.MI_var\",\"AGGH.MI_var\",\"AGGH.MI_var\",\"AGGH.MI_var\",\"AGGH.MI_var\",\"AGGH.MI_var\",\"AGGH.MI_var\",\"AGGH.MI_var\",\"AGGH.MI_var\",\"AGGH.MI_var\",\"AGGH.MI_var\",\"AGGH.MI_var\",\"AGGH.MI_var\",\"AGGH.MI_var\",\"AGGH.MI_var\",\"AGGH.MI_var\",\"AGGH.MI_var\",\"AGGH.MI_var\",\"AGGH.MI_var\",\"AGGH.MI_var\",\"AGGH.MI_var\",\"AGGH.MI_var\",\"AGGH.MI_var\",\"AGGH.MI_var\",\"AGGH.MI_var\",\"AGGH.MI_var\",\"AGGH.MI_var\",\"AGGH.MI_var\",\"AGGH.MI_var\",\"AGGH.MI_var\",\"AGGH.MI_var\",\"AGGH.MI_var\",\"AGGH.MI_var\",\"AGGH.MI_var\",\"AGGH.MI_var\",\"AGGH.MI_var\",\"AGGH.MI_var\",\"AGGH.MI_var\",\"AGGH.MI_var\",\"AGGH.MI_var\",\"AGGH.MI_var\",\"AGGH.MI_var\",\"AGGH.MI_var\",\"AGGH.MI_var\",\"AGGH.MI_var\",\"AGGH.MI_var\",\"AGGH.MI_var\",\"AGGH.MI_var\",\"AGGH.MI_var\",\"AGGH.MI_var\",\"AGGH.MI_var\",\"AGGH.MI_var\",\"AGGH.MI_var\",\"XEON.MI_var\",\"XEON.MI_var\",\"XEON.MI_var\",\"XEON.MI_var\",\"XEON.MI_var\",\"XEON.MI_var\",\"XEON.MI_var\",\"XEON.MI_var\",\"XEON.MI_var\",\"XEON.MI_var\",\"XEON.MI_var\",\"XEON.MI_var\",\"XEON.MI_var\",\"XEON.MI_var\",\"XEON.MI_var\",\"XEON.MI_var\",\"XEON.MI_var\",\"XEON.MI_var\",\"XEON.MI_var\",\"XEON.MI_var\",\"XEON.MI_var\",\"XEON.MI_var\",\"XEON.MI_var\",\"XEON.MI_var\",\"XEON.MI_var\",\"XEON.MI_var\",\"XEON.MI_var\",\"XEON.MI_var\",\"XEON.MI_var\",\"XEON.MI_var\",\"XEON.MI_var\",\"XEON.MI_var\",\"XEON.MI_var\",\"XEON.MI_var\",\"XEON.MI_var\",\"XEON.MI_var\",\"XEON.MI_var\",\"XEON.MI_var\",\"XEON.MI_var\",\"XEON.MI_var\",\"XEON.MI_var\",\"XEON.MI_var\",\"XEON.MI_var\",\"XEON.MI_var\",\"XEON.MI_var\",\"XEON.MI_var\",\"XEON.MI_var\",\"XEON.MI_var\",\"XEON.MI_var\",\"XEON.MI_var\",\"XEON.MI_var\",\"XEON.MI_var\",\"XEON.MI_var\",\"XEON.MI_var\",\"XEON.MI_var\",\"XEON.MI_var\",\"XEON.MI_var\",\"XEON.MI_var\"]]]}}},\"view\":{\"type\":\"object\",\"name\":\"CDSView\",\"id\":\"p3939\",\"attributes\":{\"filter\":{\"type\":\"object\",\"name\":\"AllIndices\",\"id\":\"p3940\"}}},\"glyph\":{\"type\":\"object\",\"name\":\"VBar\",\"id\":\"p3935\",\"attributes\":{\"tags\":[\"apply_ranges\"],\"x\":{\"type\":\"field\",\"field\":\"xoffsets\"},\"width\":{\"type\":\"value\",\"value\":0.8},\"top\":{\"type\":\"field\",\"field\":\"value\"},\"fill_color\":{\"type\":\"field\",\"field\":\"Variable\",\"transform\":{\"type\":\"object\",\"name\":\"CategoricalColorMapper\",\"id\":\"p3928\",\"attributes\":{\"palette\":[\"#30a2da\",\"#fc4f30\",\"#e5ae38\",\"#6d904f\"],\"factors\":[\"SGLD.MI_var\",\"SPY_var\",\"AGGH.MI_var\",\"XEON.MI_var\"]}}},\"hatch_color\":{\"type\":\"field\",\"field\":\"Variable\",\"transform\":{\"id\":\"p3928\"}}}},\"selection_glyph\":{\"type\":\"object\",\"name\":\"VBar\",\"id\":\"p3941\",\"attributes\":{\"tags\":[\"apply_ranges\"],\"x\":{\"type\":\"field\",\"field\":\"xoffsets\"},\"width\":{\"type\":\"value\",\"value\":0.8},\"bottom\":{\"type\":\"value\",\"value\":0},\"top\":{\"type\":\"field\",\"field\":\"value\"},\"line_color\":{\"type\":\"value\",\"value\":\"black\"},\"line_alpha\":{\"type\":\"value\",\"value\":1.0},\"line_width\":{\"type\":\"value\",\"value\":1},\"line_join\":{\"type\":\"value\",\"value\":\"bevel\"},\"line_cap\":{\"type\":\"value\",\"value\":\"butt\"},\"line_dash\":{\"type\":\"value\",\"value\":[]},\"line_dash_offset\":{\"type\":\"value\",\"value\":0},\"fill_color\":{\"type\":\"field\",\"field\":\"Variable\",\"transform\":{\"id\":\"p3928\"}},\"fill_alpha\":{\"type\":\"value\",\"value\":1.0},\"hatch_color\":{\"type\":\"field\",\"field\":\"Variable\",\"transform\":{\"id\":\"p3928\"}},\"hatch_alpha\":{\"type\":\"value\",\"value\":1.0},\"hatch_scale\":{\"type\":\"value\",\"value\":12.0},\"hatch_pattern\":{\"type\":\"value\",\"value\":null},\"hatch_weight\":{\"type\":\"value\",\"value\":1.0}}},\"nonselection_glyph\":{\"type\":\"object\",\"name\":\"VBar\",\"id\":\"p3936\",\"attributes\":{\"tags\":[\"apply_ranges\"],\"x\":{\"type\":\"field\",\"field\":\"xoffsets\"},\"width\":{\"type\":\"value\",\"value\":0.8},\"top\":{\"type\":\"field\",\"field\":\"value\"},\"line_alpha\":{\"type\":\"value\",\"value\":0.1},\"fill_color\":{\"type\":\"field\",\"field\":\"Variable\",\"transform\":{\"id\":\"p3928\"}},\"fill_alpha\":{\"type\":\"value\",\"value\":0.1},\"hatch_color\":{\"type\":\"field\",\"field\":\"Variable\",\"transform\":{\"id\":\"p3928\"}},\"hatch_alpha\":{\"type\":\"value\",\"value\":0.1}}},\"muted_glyph\":{\"type\":\"object\",\"name\":\"VBar\",\"id\":\"p3937\",\"attributes\":{\"tags\":[\"apply_ranges\"],\"x\":{\"type\":\"field\",\"field\":\"xoffsets\"},\"width\":{\"type\":\"value\",\"value\":0.8},\"top\":{\"type\":\"field\",\"field\":\"value\"},\"line_alpha\":{\"type\":\"value\",\"value\":0.2},\"fill_color\":{\"type\":\"field\",\"field\":\"Variable\",\"transform\":{\"id\":\"p3928\"}},\"fill_alpha\":{\"type\":\"value\",\"value\":0.2},\"hatch_color\":{\"type\":\"field\",\"field\":\"Variable\",\"transform\":{\"id\":\"p3928\"}},\"hatch_alpha\":{\"type\":\"value\",\"value\":0.2}}}}}],\"toolbar\":{\"type\":\"object\",\"name\":\"Toolbar\",\"id\":\"p3910\",\"attributes\":{\"tools\":[{\"type\":\"object\",\"name\":\"WheelZoomTool\",\"id\":\"p3899\",\"attributes\":{\"tags\":[\"hv_created\"],\"zoom_together\":\"none\"}},{\"type\":\"object\",\"name\":\"HoverTool\",\"id\":\"p3900\",\"attributes\":{\"tags\":[\"hv_created\"],\"renderers\":[{\"id\":\"p3938\"}],\"tooltips\":[[\"Date\",\"@{Date}\"],[\"Variable\",\"@{Variable}\"],[\"value\",\"@{value}\"]]}},{\"type\":\"object\",\"name\":\"SaveTool\",\"id\":\"p3923\"},{\"type\":\"object\",\"name\":\"PanTool\",\"id\":\"p3924\"},{\"type\":\"object\",\"name\":\"BoxZoomTool\",\"id\":\"p3925\",\"attributes\":{\"overlay\":{\"type\":\"object\",\"name\":\"BoxAnnotation\",\"id\":\"p3926\",\"attributes\":{\"syncable\":false,\"level\":\"overlay\",\"visible\":false,\"left_units\":\"canvas\",\"right_units\":\"canvas\",\"bottom_units\":\"canvas\",\"top_units\":\"canvas\",\"line_color\":\"black\",\"line_alpha\":1.0,\"line_width\":2,\"line_dash\":[4,4],\"fill_color\":\"lightgrey\",\"fill_alpha\":0.5}}}},{\"type\":\"object\",\"name\":\"ResetTool\",\"id\":\"p3927\"}],\"active_drag\":{\"id\":\"p3924\"},\"active_scroll\":{\"id\":\"p3899\"}}},\"left\":[{\"type\":\"object\",\"name\":\"LinearAxis\",\"id\":\"p3918\",\"attributes\":{\"ticker\":{\"type\":\"object\",\"name\":\"BasicTicker\",\"id\":\"p3919\",\"attributes\":{\"mantissas\":[1,2,5]}},\"formatter\":{\"type\":\"object\",\"name\":\"BasicTickFormatter\",\"id\":\"p3920\"},\"axis_label\":\"\",\"major_label_policy\":{\"type\":\"object\",\"name\":\"AllLabels\",\"id\":\"p3921\"}}}],\"below\":[{\"type\":\"object\",\"name\":\"CategoricalAxis\",\"id\":\"p3913\",\"attributes\":{\"ticker\":{\"type\":\"object\",\"name\":\"CategoricalTicker\",\"id\":\"p3914\"},\"formatter\":{\"type\":\"object\",\"name\":\"CategoricalTickFormatter\",\"id\":\"p3915\"},\"axis_label\":\"Date, Variable\",\"major_label_policy\":{\"type\":\"object\",\"name\":\"AllLabels\",\"id\":\"p3916\"}}}],\"center\":[{\"type\":\"object\",\"name\":\"Grid\",\"id\":\"p3917\",\"attributes\":{\"axis\":{\"id\":\"p3913\"},\"grid_line_color\":null}},{\"type\":\"object\",\"name\":\"Grid\",\"id\":\"p3922\",\"attributes\":{\"dimension\":1,\"axis\":{\"id\":\"p3918\"},\"grid_line_color\":null}}],\"min_border_top\":10,\"min_border_bottom\":10,\"min_border_left\":10,\"min_border_right\":10,\"output_backend\":\"webgl\"}},{\"type\":\"object\",\"name\":\"Spacer\",\"id\":\"p3943\",\"attributes\":{\"name\":\"HSpacer14184\",\"stylesheets\":[\"\\n:host(.pn-loading.pn-arc):before, .pn-loading.pn-arc:before {\\n  background-image: url(\\\"data:image/svg+xml;base64,PHN2ZyB4bWxucz0iaHR0cDovL3d3dy53My5vcmcvMjAwMC9zdmciIHN0eWxlPSJtYXJnaW46IGF1dG87IGJhY2tncm91bmQ6IG5vbmU7IGRpc3BsYXk6IGJsb2NrOyBzaGFwZS1yZW5kZXJpbmc6IGF1dG87IiB2aWV3Qm94PSIwIDAgMTAwIDEwMCIgcHJlc2VydmVBc3BlY3RSYXRpbz0ieE1pZFlNaWQiPiAgPGNpcmNsZSBjeD0iNTAiIGN5PSI1MCIgZmlsbD0ibm9uZSIgc3Ryb2tlPSIjYzNjM2MzIiBzdHJva2Utd2lkdGg9IjEwIiByPSIzNSIgc3Ryb2tlLWRhc2hhcnJheT0iMTY0LjkzMzYxNDMxMzQ2NDE1IDU2Ljk3Nzg3MTQzNzgyMTM4Ij4gICAgPGFuaW1hdGVUcmFuc2Zvcm0gYXR0cmlidXRlTmFtZT0idHJhbnNmb3JtIiB0eXBlPSJyb3RhdGUiIHJlcGVhdENvdW50PSJpbmRlZmluaXRlIiBkdXI9IjFzIiB2YWx1ZXM9IjAgNTAgNTA7MzYwIDUwIDUwIiBrZXlUaW1lcz0iMDsxIj48L2FuaW1hdGVUcmFuc2Zvcm0+ICA8L2NpcmNsZT48L3N2Zz4=\\\");\\n  background-size: auto calc(min(50%, 400px));\\n}\",{\"id\":\"p3892\"},{\"id\":\"p3890\"},{\"id\":\"p3891\"}],\"margin\":0,\"sizing_mode\":\"stretch_width\",\"align\":\"start\"}}]}}],\"defs\":[{\"type\":\"model\",\"name\":\"ReactiveHTML1\"},{\"type\":\"model\",\"name\":\"FlexBox1\",\"properties\":[{\"name\":\"align_content\",\"kind\":\"Any\",\"default\":\"flex-start\"},{\"name\":\"align_items\",\"kind\":\"Any\",\"default\":\"flex-start\"},{\"name\":\"flex_direction\",\"kind\":\"Any\",\"default\":\"row\"},{\"name\":\"flex_wrap\",\"kind\":\"Any\",\"default\":\"wrap\"},{\"name\":\"justify_content\",\"kind\":\"Any\",\"default\":\"flex-start\"}]},{\"type\":\"model\",\"name\":\"FloatPanel1\",\"properties\":[{\"name\":\"config\",\"kind\":\"Any\",\"default\":{\"type\":\"map\"}},{\"name\":\"contained\",\"kind\":\"Any\",\"default\":true},{\"name\":\"position\",\"kind\":\"Any\",\"default\":\"right-top\"},{\"name\":\"offsetx\",\"kind\":\"Any\",\"default\":null},{\"name\":\"offsety\",\"kind\":\"Any\",\"default\":null},{\"name\":\"theme\",\"kind\":\"Any\",\"default\":\"primary\"},{\"name\":\"status\",\"kind\":\"Any\",\"default\":\"normalized\"}]},{\"type\":\"model\",\"name\":\"GridStack1\",\"properties\":[{\"name\":\"mode\",\"kind\":\"Any\",\"default\":\"warn\"},{\"name\":\"ncols\",\"kind\":\"Any\",\"default\":null},{\"name\":\"nrows\",\"kind\":\"Any\",\"default\":null},{\"name\":\"allow_resize\",\"kind\":\"Any\",\"default\":true},{\"name\":\"allow_drag\",\"kind\":\"Any\",\"default\":true},{\"name\":\"state\",\"kind\":\"Any\",\"default\":[]}]},{\"type\":\"model\",\"name\":\"drag1\",\"properties\":[{\"name\":\"slider_width\",\"kind\":\"Any\",\"default\":5},{\"name\":\"slider_color\",\"kind\":\"Any\",\"default\":\"black\"},{\"name\":\"value\",\"kind\":\"Any\",\"default\":50}]},{\"type\":\"model\",\"name\":\"click1\",\"properties\":[{\"name\":\"terminal_output\",\"kind\":\"Any\",\"default\":\"\"},{\"name\":\"debug_name\",\"kind\":\"Any\",\"default\":\"\"},{\"name\":\"clears\",\"kind\":\"Any\",\"default\":0}]},{\"type\":\"model\",\"name\":\"FastWrapper1\",\"properties\":[{\"name\":\"object\",\"kind\":\"Any\",\"default\":null},{\"name\":\"style\",\"kind\":\"Any\",\"default\":null}]},{\"type\":\"model\",\"name\":\"NotificationAreaBase1\",\"properties\":[{\"name\":\"js_events\",\"kind\":\"Any\",\"default\":{\"type\":\"map\"}},{\"name\":\"position\",\"kind\":\"Any\",\"default\":\"bottom-right\"},{\"name\":\"_clear\",\"kind\":\"Any\",\"default\":0}]},{\"type\":\"model\",\"name\":\"NotificationArea1\",\"properties\":[{\"name\":\"js_events\",\"kind\":\"Any\",\"default\":{\"type\":\"map\"}},{\"name\":\"notifications\",\"kind\":\"Any\",\"default\":[]},{\"name\":\"position\",\"kind\":\"Any\",\"default\":\"bottom-right\"},{\"name\":\"_clear\",\"kind\":\"Any\",\"default\":0},{\"name\":\"types\",\"kind\":\"Any\",\"default\":[{\"type\":\"map\",\"entries\":[[\"type\",\"warning\"],[\"background\",\"#ffc107\"],[\"icon\",{\"type\":\"map\",\"entries\":[[\"className\",\"fas fa-exclamation-triangle\"],[\"tagName\",\"i\"],[\"color\",\"white\"]]}]]},{\"type\":\"map\",\"entries\":[[\"type\",\"info\"],[\"background\",\"#007bff\"],[\"icon\",{\"type\":\"map\",\"entries\":[[\"className\",\"fas fa-info-circle\"],[\"tagName\",\"i\"],[\"color\",\"white\"]]}]]}]}]},{\"type\":\"model\",\"name\":\"Notification\",\"properties\":[{\"name\":\"background\",\"kind\":\"Any\",\"default\":null},{\"name\":\"duration\",\"kind\":\"Any\",\"default\":3000},{\"name\":\"icon\",\"kind\":\"Any\",\"default\":null},{\"name\":\"message\",\"kind\":\"Any\",\"default\":\"\"},{\"name\":\"notification_type\",\"kind\":\"Any\",\"default\":null},{\"name\":\"_destroyed\",\"kind\":\"Any\",\"default\":false}]},{\"type\":\"model\",\"name\":\"TemplateActions1\",\"properties\":[{\"name\":\"open_modal\",\"kind\":\"Any\",\"default\":0},{\"name\":\"close_modal\",\"kind\":\"Any\",\"default\":0}]},{\"type\":\"model\",\"name\":\"BootstrapTemplateActions1\",\"properties\":[{\"name\":\"open_modal\",\"kind\":\"Any\",\"default\":0},{\"name\":\"close_modal\",\"kind\":\"Any\",\"default\":0}]},{\"type\":\"model\",\"name\":\"MaterialTemplateActions1\",\"properties\":[{\"name\":\"open_modal\",\"kind\":\"Any\",\"default\":0},{\"name\":\"close_modal\",\"kind\":\"Any\",\"default\":0}]}]}};\n",
       "  var render_items = [{\"docid\":\"8e383cdf-cfcc-4719-a0f2-830481a5db04\",\"roots\":{\"p3889\":\"a8e3dd1b-6745-460f-8a59-7bef5a5e4c6c\"},\"root_ids\":[\"p3889\"]}];\n",
       "  var docs = Object.values(docs_json)\n",
       "  if (!docs) {\n",
       "    return\n",
       "  }\n",
       "  const py_version = docs[0].version.replace('rc', '-rc.').replace('.dev', '-dev.')\n",
       "  const is_dev = py_version.indexOf(\"+\") !== -1 || py_version.indexOf(\"-\") !== -1\n",
       "  function embed_document(root) {\n",
       "    var Bokeh = get_bokeh(root)\n",
       "    Bokeh.embed.embed_items_notebook(docs_json, render_items);\n",
       "    for (const render_item of render_items) {\n",
       "      for (const root_id of render_item.root_ids) {\n",
       "\tconst id_el = document.getElementById(root_id)\n",
       "\tif (id_el.children.length && (id_el.children[0].className === 'bk-root')) {\n",
       "\t  const root_el = id_el.children[0]\n",
       "\t  root_el.id = root_el.id + '-rendered'\n",
       "\t}\n",
       "      }\n",
       "    }\n",
       "  }\n",
       "  function get_bokeh(root) {\n",
       "    if (root.Bokeh === undefined) {\n",
       "      return null\n",
       "    } else if (root.Bokeh.version !== py_version && !is_dev) {\n",
       "      if (root.Bokeh.versions === undefined || !root.Bokeh.versions.has(py_version)) {\n",
       "\treturn null\n",
       "      }\n",
       "      return root.Bokeh.versions.get(py_version);\n",
       "    } else if (root.Bokeh.version === py_version) {\n",
       "      return root.Bokeh\n",
       "    }\n",
       "    return null\n",
       "  }\n",
       "  function is_loaded(root) {\n",
       "    var Bokeh = get_bokeh(root)\n",
       "    return (Bokeh != null && Bokeh.Panel !== undefined)\n",
       "  }\n",
       "  if (is_loaded(root)) {\n",
       "    embed_document(root);\n",
       "  } else {\n",
       "    var attempts = 0;\n",
       "    var timer = setInterval(function(root) {\n",
       "      if (is_loaded(root)) {\n",
       "        clearInterval(timer);\n",
       "        embed_document(root);\n",
       "      } else if (document.readyState == \"complete\") {\n",
       "        attempts++;\n",
       "        if (attempts > 200) {\n",
       "          clearInterval(timer);\n",
       "\t  var Bokeh = get_bokeh(root)\n",
       "\t  if (Bokeh == null || Bokeh.Panel == null) {\n",
       "            console.warn(\"Panel: ERROR: Unable to run Panel code because Bokeh or Panel library is missing\");\n",
       "\t  } else {\n",
       "\t    console.warn(\"Panel: WARNING: Attempting to render but not all required libraries could be resolved.\")\n",
       "\t    embed_document(root)\n",
       "\t  }\n",
       "        }\n",
       "      }\n",
       "    }, 25, root)\n",
       "  }\n",
       "})(window);</script>"
      ],
      "text/plain": [
       ":Bars   [Date,Variable]   (value)"
      ]
     },
     "execution_count": 152,
     "metadata": {
      "application/vnd.holoviews_exec.v0+json": {
       "id": "p3889"
      }
     },
     "output_type": "execute_result"
    }
   ],
   "source": [
    "price_var.plot.bar(x=\"Date\")"
   ]
  },
  {
   "cell_type": "code",
   "execution_count": 153,
   "id": "b56b9997",
   "metadata": {},
   "outputs": [
    {
     "data": {
      "text/html": [
       "<div><style>\n",
       ".dataframe > thead > tr,\n",
       ".dataframe > tbody > tr {\n",
       "  text-align: right;\n",
       "  white-space: pre-wrap;\n",
       "}\n",
       "</style>\n",
       "<small>shape: (4, 4)</small><table border=\"1\" class=\"dataframe\"><thead><tr><th>SGLD.MI_var</th><th>SPY_var</th><th>AGGH.MI_var</th><th>XEON.MI_var</th></tr><tr><td>f64</td><td>f64</td><td>f64</td><td>f64</td></tr></thead><tbody><tr><td>1.0</td><td>-0.053245</td><td>0.253746</td><td>0.024624</td></tr><tr><td>-0.053245</td><td>1.0</td><td>0.555722</td><td>-0.011587</td></tr><tr><td>0.253746</td><td>0.555722</td><td>1.0</td><td>0.082342</td></tr><tr><td>0.024624</td><td>-0.011587</td><td>0.082342</td><td>1.0</td></tr></tbody></table></div>"
      ],
      "text/plain": [
       "shape: (4, 4)\n",
       "┌─────────────┬───────────┬─────────────┬─────────────┐\n",
       "│ SGLD.MI_var ┆ SPY_var   ┆ AGGH.MI_var ┆ XEON.MI_var │\n",
       "│ ---         ┆ ---       ┆ ---         ┆ ---         │\n",
       "│ f64         ┆ f64       ┆ f64         ┆ f64         │\n",
       "╞═════════════╪═══════════╪═════════════╪═════════════╡\n",
       "│ 1.0         ┆ -0.053245 ┆ 0.253746    ┆ 0.024624    │\n",
       "│ -0.053245   ┆ 1.0       ┆ 0.555722    ┆ -0.011587   │\n",
       "│ 0.253746    ┆ 0.555722  ┆ 1.0         ┆ 0.082342    │\n",
       "│ 0.024624    ┆ -0.011587 ┆ 0.082342    ┆ 1.0         │\n",
       "└─────────────┴───────────┴─────────────┴─────────────┘"
      ]
     },
     "execution_count": 153,
     "metadata": {},
     "output_type": "execute_result"
    }
   ],
   "source": [
    "price_corr=price_var.drop(\"Date\")\n",
    "price_corr.corr()"
   ]
  },
  {
   "cell_type": "code",
   "execution_count": 154,
   "id": "aa8fb57b",
   "metadata": {},
   "outputs": [
    {
     "data": {},
     "metadata": {},
     "output_type": "display_data"
    },
    {
     "data": {
      "application/vnd.holoviews_exec.v0+json": "",
      "text/html": [
       "<div id='p3948'>\n",
       "  <div id=\"a0b1335a-6caf-4521-83e5-0aea5fece418\" data-root-id=\"p3948\" style=\"display: contents;\"></div>\n",
       "</div>\n",
       "<script type=\"application/javascript\">(function(root) {\n",
       "  var docs_json = {\"9ac062b2-4743-43cb-b7d7-adc4ef767b3d\":{\"version\":\"3.2.1\",\"title\":\"Bokeh Application\",\"roots\":[{\"type\":\"object\",\"name\":\"Row\",\"id\":\"p3948\",\"attributes\":{\"name\":\"Row14643\",\"tags\":[\"embedded\"],\"stylesheets\":[\"\\n:host(.pn-loading.pn-arc):before, .pn-loading.pn-arc:before {\\n  background-image: url(\\\"data:image/svg+xml;base64,PHN2ZyB4bWxucz0iaHR0cDovL3d3dy53My5vcmcvMjAwMC9zdmciIHN0eWxlPSJtYXJnaW46IGF1dG87IGJhY2tncm91bmQ6IG5vbmU7IGRpc3BsYXk6IGJsb2NrOyBzaGFwZS1yZW5kZXJpbmc6IGF1dG87IiB2aWV3Qm94PSIwIDAgMTAwIDEwMCIgcHJlc2VydmVBc3BlY3RSYXRpbz0ieE1pZFlNaWQiPiAgPGNpcmNsZSBjeD0iNTAiIGN5PSI1MCIgZmlsbD0ibm9uZSIgc3Ryb2tlPSIjYzNjM2MzIiBzdHJva2Utd2lkdGg9IjEwIiByPSIzNSIgc3Ryb2tlLWRhc2hhcnJheT0iMTY0LjkzMzYxNDMxMzQ2NDE1IDU2Ljk3Nzg3MTQzNzgyMTM4Ij4gICAgPGFuaW1hdGVUcmFuc2Zvcm0gYXR0cmlidXRlTmFtZT0idHJhbnNmb3JtIiB0eXBlPSJyb3RhdGUiIHJlcGVhdENvdW50PSJpbmRlZmluaXRlIiBkdXI9IjFzIiB2YWx1ZXM9IjAgNTAgNTA7MzYwIDUwIDUwIiBrZXlUaW1lcz0iMDsxIj48L2FuaW1hdGVUcmFuc2Zvcm0+ICA8L2NpcmNsZT48L3N2Zz4=\\\");\\n  background-size: auto calc(min(50%, 400px));\\n}\",{\"type\":\"object\",\"name\":\"ImportedStyleSheet\",\"id\":\"p3951\",\"attributes\":{\"url\":\"https://cdn.holoviz.org/panel/1.2.3/dist/css/loading.css\"}},{\"type\":\"object\",\"name\":\"ImportedStyleSheet\",\"id\":\"p4003\",\"attributes\":{\"url\":\"https://cdn.holoviz.org/panel/1.2.3/dist/css/listpanel.css\"}},{\"type\":\"object\",\"name\":\"ImportedStyleSheet\",\"id\":\"p3949\",\"attributes\":{\"url\":\"https://cdn.holoviz.org/panel/1.2.3/dist/bundled/theme/default.css\"}},{\"type\":\"object\",\"name\":\"ImportedStyleSheet\",\"id\":\"p3950\",\"attributes\":{\"url\":\"https://cdn.holoviz.org/panel/1.2.3/dist/bundled/theme/native.css\"}}],\"min_width\":700,\"margin\":0,\"sizing_mode\":\"stretch_width\",\"align\":\"start\",\"children\":[{\"type\":\"object\",\"name\":\"Spacer\",\"id\":\"p3952\",\"attributes\":{\"name\":\"HSpacer14654\",\"stylesheets\":[\"\\n:host(.pn-loading.pn-arc):before, .pn-loading.pn-arc:before {\\n  background-image: url(\\\"data:image/svg+xml;base64,PHN2ZyB4bWxucz0iaHR0cDovL3d3dy53My5vcmcvMjAwMC9zdmciIHN0eWxlPSJtYXJnaW46IGF1dG87IGJhY2tncm91bmQ6IG5vbmU7IGRpc3BsYXk6IGJsb2NrOyBzaGFwZS1yZW5kZXJpbmc6IGF1dG87IiB2aWV3Qm94PSIwIDAgMTAwIDEwMCIgcHJlc2VydmVBc3BlY3RSYXRpbz0ieE1pZFlNaWQiPiAgPGNpcmNsZSBjeD0iNTAiIGN5PSI1MCIgZmlsbD0ibm9uZSIgc3Ryb2tlPSIjYzNjM2MzIiBzdHJva2Utd2lkdGg9IjEwIiByPSIzNSIgc3Ryb2tlLWRhc2hhcnJheT0iMTY0LjkzMzYxNDMxMzQ2NDE1IDU2Ljk3Nzg3MTQzNzgyMTM4Ij4gICAgPGFuaW1hdGVUcmFuc2Zvcm0gYXR0cmlidXRlTmFtZT0idHJhbnNmb3JtIiB0eXBlPSJyb3RhdGUiIHJlcGVhdENvdW50PSJpbmRlZmluaXRlIiBkdXI9IjFzIiB2YWx1ZXM9IjAgNTAgNTA7MzYwIDUwIDUwIiBrZXlUaW1lcz0iMDsxIj48L2FuaW1hdGVUcmFuc2Zvcm0+ICA8L2NpcmNsZT48L3N2Zz4=\\\");\\n  background-size: auto calc(min(50%, 400px));\\n}\",{\"id\":\"p3951\"},{\"id\":\"p3949\"},{\"id\":\"p3950\"}],\"margin\":0,\"sizing_mode\":\"stretch_width\",\"align\":\"start\"}},{\"type\":\"object\",\"name\":\"Figure\",\"id\":\"p3960\",\"attributes\":{\"width\":700,\"height\":300,\"margin\":[5,10],\"sizing_mode\":\"fixed\",\"align\":\"start\",\"x_range\":{\"type\":\"object\",\"name\":\"FactorRange\",\"id\":\"p3953\",\"attributes\":{\"tags\":[[[\"lag (months)\",\"lag (months)\",null]],[]],\"factors\":[\"6\",\"12\",\"18\",\"24\",\"30\",\"36\",\"42\",\"48\",\"54\",\"60\"]}},\"y_range\":{\"type\":\"object\",\"name\":\"Range1d\",\"id\":\"p3954\",\"attributes\":{\"tags\":[[[\"correlation\",\"correlation\",null]],{\"type\":\"map\",\"entries\":[[\"invert_yaxis\",false],[\"autorange\",false]]}],\"start\":-1,\"reset_start\":-1,\"reset_end\":1}},\"x_scale\":{\"type\":\"object\",\"name\":\"CategoricalScale\",\"id\":\"p3970\"},\"y_scale\":{\"type\":\"object\",\"name\":\"LinearScale\",\"id\":\"p3971\"},\"title\":{\"type\":\"object\",\"name\":\"Title\",\"id\":\"p3963\",\"attributes\":{\"text\":\"Autocorrelation\",\"text_color\":\"black\",\"text_font_size\":\"12pt\"}},\"renderers\":[{\"type\":\"object\",\"name\":\"GlyphRenderer\",\"id\":\"p3996\",\"attributes\":{\"data_source\":{\"type\":\"object\",\"name\":\"ColumnDataSource\",\"id\":\"p3987\",\"attributes\":{\"selected\":{\"type\":\"object\",\"name\":\"Selection\",\"id\":\"p3988\",\"attributes\":{\"indices\":[],\"line_indices\":[]}},\"selection_policy\":{\"type\":\"object\",\"name\":\"UnionRenderers\",\"id\":\"p3989\"},\"data\":{\"type\":\"map\",\"entries\":[[\"lag_left_parenthesis_months_right_parenthesis\",[\"6\",\"12\",\"18\",\"24\",\"30\",\"36\",\"42\",\"48\",\"54\",\"60\"]],[\"correlation\",{\"type\":\"ndarray\",\"array\":{\"type\":\"bytes\",\"data\":\"oBJrR6Q5tb8mN7hn2yywP5UpH0cMMnq/NVDKknkzpD9b8ocLQ7qwP9L827Ati5K/+1OGsDwEsD9/cJxw9Z6TPyThhGtXf7c/5uXZzIGsvr8=\"},\"shape\":[10],\"dtype\":\"float64\",\"order\":\"little\"}]]}}},\"view\":{\"type\":\"object\",\"name\":\"CDSView\",\"id\":\"p3997\",\"attributes\":{\"filter\":{\"type\":\"object\",\"name\":\"AllIndices\",\"id\":\"p3998\"}}},\"glyph\":{\"type\":\"object\",\"name\":\"VBar\",\"id\":\"p3993\",\"attributes\":{\"tags\":[\"apply_ranges\"],\"x\":{\"type\":\"field\",\"field\":\"lag_left_parenthesis_months_right_parenthesis\"},\"width\":{\"type\":\"value\",\"value\":0.8},\"top\":{\"type\":\"field\",\"field\":\"correlation\"},\"fill_color\":{\"type\":\"value\",\"value\":\"#30a2da\"},\"hatch_color\":{\"type\":\"value\",\"value\":\"#30a2da\"}}},\"selection_glyph\":{\"type\":\"object\",\"name\":\"VBar\",\"id\":\"p3999\",\"attributes\":{\"tags\":[\"apply_ranges\"],\"x\":{\"type\":\"field\",\"field\":\"lag_left_parenthesis_months_right_parenthesis\"},\"width\":{\"type\":\"value\",\"value\":0.8},\"bottom\":{\"type\":\"value\",\"value\":0},\"top\":{\"type\":\"field\",\"field\":\"correlation\"},\"line_color\":{\"type\":\"value\",\"value\":\"black\"},\"line_alpha\":{\"type\":\"value\",\"value\":1.0},\"line_width\":{\"type\":\"value\",\"value\":1},\"line_join\":{\"type\":\"value\",\"value\":\"bevel\"},\"line_cap\":{\"type\":\"value\",\"value\":\"butt\"},\"line_dash\":{\"type\":\"value\",\"value\":[]},\"line_dash_offset\":{\"type\":\"value\",\"value\":0},\"fill_color\":{\"type\":\"value\",\"value\":\"#30a2da\"},\"fill_alpha\":{\"type\":\"value\",\"value\":1.0},\"hatch_color\":{\"type\":\"value\",\"value\":\"#30a2da\"},\"hatch_alpha\":{\"type\":\"value\",\"value\":1.0},\"hatch_scale\":{\"type\":\"value\",\"value\":12.0},\"hatch_pattern\":{\"type\":\"value\",\"value\":null},\"hatch_weight\":{\"type\":\"value\",\"value\":1.0}}},\"nonselection_glyph\":{\"type\":\"object\",\"name\":\"VBar\",\"id\":\"p3994\",\"attributes\":{\"tags\":[\"apply_ranges\"],\"x\":{\"type\":\"field\",\"field\":\"lag_left_parenthesis_months_right_parenthesis\"},\"width\":{\"type\":\"value\",\"value\":0.8},\"top\":{\"type\":\"field\",\"field\":\"correlation\"},\"line_alpha\":{\"type\":\"value\",\"value\":0.1},\"fill_color\":{\"type\":\"value\",\"value\":\"#30a2da\"},\"fill_alpha\":{\"type\":\"value\",\"value\":0.1},\"hatch_color\":{\"type\":\"value\",\"value\":\"#30a2da\"},\"hatch_alpha\":{\"type\":\"value\",\"value\":0.1}}},\"muted_glyph\":{\"type\":\"object\",\"name\":\"VBar\",\"id\":\"p3995\",\"attributes\":{\"tags\":[\"apply_ranges\"],\"x\":{\"type\":\"field\",\"field\":\"lag_left_parenthesis_months_right_parenthesis\"},\"width\":{\"type\":\"value\",\"value\":0.8},\"top\":{\"type\":\"field\",\"field\":\"correlation\"},\"line_alpha\":{\"type\":\"value\",\"value\":0.2},\"fill_color\":{\"type\":\"value\",\"value\":\"#30a2da\"},\"fill_alpha\":{\"type\":\"value\",\"value\":0.2},\"hatch_color\":{\"type\":\"value\",\"value\":\"#30a2da\"},\"hatch_alpha\":{\"type\":\"value\",\"value\":0.2}}}}}],\"toolbar\":{\"type\":\"object\",\"name\":\"Toolbar\",\"id\":\"p3969\",\"attributes\":{\"tools\":[{\"type\":\"object\",\"name\":\"WheelZoomTool\",\"id\":\"p3958\",\"attributes\":{\"tags\":[\"hv_created\"],\"zoom_together\":\"none\"}},{\"type\":\"object\",\"name\":\"HoverTool\",\"id\":\"p3959\",\"attributes\":{\"tags\":[\"hv_created\"],\"renderers\":[{\"id\":\"p3996\"}],\"tooltips\":[[\"lag (months)\",\"@{lag_left_parenthesis_months_right_parenthesis}\"],[\"correlation\",\"@{correlation}\"]]}},{\"type\":\"object\",\"name\":\"SaveTool\",\"id\":\"p3982\"},{\"type\":\"object\",\"name\":\"PanTool\",\"id\":\"p3983\"},{\"type\":\"object\",\"name\":\"BoxZoomTool\",\"id\":\"p3984\",\"attributes\":{\"overlay\":{\"type\":\"object\",\"name\":\"BoxAnnotation\",\"id\":\"p3985\",\"attributes\":{\"syncable\":false,\"level\":\"overlay\",\"visible\":false,\"left_units\":\"canvas\",\"right_units\":\"canvas\",\"bottom_units\":\"canvas\",\"top_units\":\"canvas\",\"line_color\":\"black\",\"line_alpha\":1.0,\"line_width\":2,\"line_dash\":[4,4],\"fill_color\":\"lightgrey\",\"fill_alpha\":0.5}}}},{\"type\":\"object\",\"name\":\"ResetTool\",\"id\":\"p3986\"}],\"active_drag\":{\"id\":\"p3983\"},\"active_scroll\":{\"id\":\"p3958\"}}},\"left\":[{\"type\":\"object\",\"name\":\"LinearAxis\",\"id\":\"p3977\",\"attributes\":{\"ticker\":{\"type\":\"object\",\"name\":\"BasicTicker\",\"id\":\"p3978\",\"attributes\":{\"mantissas\":[1,2,5]}},\"formatter\":{\"type\":\"object\",\"name\":\"BasicTickFormatter\",\"id\":\"p3979\"},\"axis_label\":\"correlation\",\"major_label_policy\":{\"type\":\"object\",\"name\":\"AllLabels\",\"id\":\"p3980\"}}}],\"below\":[{\"type\":\"object\",\"name\":\"CategoricalAxis\",\"id\":\"p3972\",\"attributes\":{\"ticker\":{\"type\":\"object\",\"name\":\"CategoricalTicker\",\"id\":\"p3973\"},\"formatter\":{\"type\":\"object\",\"name\":\"CategoricalTickFormatter\",\"id\":\"p3974\"},\"axis_label\":\"lag (months)\",\"major_label_policy\":{\"type\":\"object\",\"name\":\"AllLabels\",\"id\":\"p3975\"}}}],\"center\":[{\"type\":\"object\",\"name\":\"Grid\",\"id\":\"p3976\",\"attributes\":{\"axis\":{\"id\":\"p3972\"},\"grid_line_color\":null}},{\"type\":\"object\",\"name\":\"Grid\",\"id\":\"p3981\",\"attributes\":{\"dimension\":1,\"axis\":{\"id\":\"p3977\"},\"grid_line_color\":null}}],\"min_border_top\":10,\"min_border_bottom\":10,\"min_border_left\":10,\"min_border_right\":10,\"output_backend\":\"webgl\"}},{\"type\":\"object\",\"name\":\"Spacer\",\"id\":\"p4001\",\"attributes\":{\"name\":\"HSpacer14657\",\"stylesheets\":[\"\\n:host(.pn-loading.pn-arc):before, .pn-loading.pn-arc:before {\\n  background-image: url(\\\"data:image/svg+xml;base64,PHN2ZyB4bWxucz0iaHR0cDovL3d3dy53My5vcmcvMjAwMC9zdmciIHN0eWxlPSJtYXJnaW46IGF1dG87IGJhY2tncm91bmQ6IG5vbmU7IGRpc3BsYXk6IGJsb2NrOyBzaGFwZS1yZW5kZXJpbmc6IGF1dG87IiB2aWV3Qm94PSIwIDAgMTAwIDEwMCIgcHJlc2VydmVBc3BlY3RSYXRpbz0ieE1pZFlNaWQiPiAgPGNpcmNsZSBjeD0iNTAiIGN5PSI1MCIgZmlsbD0ibm9uZSIgc3Ryb2tlPSIjYzNjM2MzIiBzdHJva2Utd2lkdGg9IjEwIiByPSIzNSIgc3Ryb2tlLWRhc2hhcnJheT0iMTY0LjkzMzYxNDMxMzQ2NDE1IDU2Ljk3Nzg3MTQzNzgyMTM4Ij4gICAgPGFuaW1hdGVUcmFuc2Zvcm0gYXR0cmlidXRlTmFtZT0idHJhbnNmb3JtIiB0eXBlPSJyb3RhdGUiIHJlcGVhdENvdW50PSJpbmRlZmluaXRlIiBkdXI9IjFzIiB2YWx1ZXM9IjAgNTAgNTA7MzYwIDUwIDUwIiBrZXlUaW1lcz0iMDsxIj48L2FuaW1hdGVUcmFuc2Zvcm0+ICA8L2NpcmNsZT48L3N2Zz4=\\\");\\n  background-size: auto calc(min(50%, 400px));\\n}\",{\"id\":\"p3951\"},{\"id\":\"p3949\"},{\"id\":\"p3950\"}],\"margin\":0,\"sizing_mode\":\"stretch_width\",\"align\":\"start\"}}]}}],\"defs\":[{\"type\":\"model\",\"name\":\"ReactiveHTML1\"},{\"type\":\"model\",\"name\":\"FlexBox1\",\"properties\":[{\"name\":\"align_content\",\"kind\":\"Any\",\"default\":\"flex-start\"},{\"name\":\"align_items\",\"kind\":\"Any\",\"default\":\"flex-start\"},{\"name\":\"flex_direction\",\"kind\":\"Any\",\"default\":\"row\"},{\"name\":\"flex_wrap\",\"kind\":\"Any\",\"default\":\"wrap\"},{\"name\":\"justify_content\",\"kind\":\"Any\",\"default\":\"flex-start\"}]},{\"type\":\"model\",\"name\":\"FloatPanel1\",\"properties\":[{\"name\":\"config\",\"kind\":\"Any\",\"default\":{\"type\":\"map\"}},{\"name\":\"contained\",\"kind\":\"Any\",\"default\":true},{\"name\":\"position\",\"kind\":\"Any\",\"default\":\"right-top\"},{\"name\":\"offsetx\",\"kind\":\"Any\",\"default\":null},{\"name\":\"offsety\",\"kind\":\"Any\",\"default\":null},{\"name\":\"theme\",\"kind\":\"Any\",\"default\":\"primary\"},{\"name\":\"status\",\"kind\":\"Any\",\"default\":\"normalized\"}]},{\"type\":\"model\",\"name\":\"GridStack1\",\"properties\":[{\"name\":\"mode\",\"kind\":\"Any\",\"default\":\"warn\"},{\"name\":\"ncols\",\"kind\":\"Any\",\"default\":null},{\"name\":\"nrows\",\"kind\":\"Any\",\"default\":null},{\"name\":\"allow_resize\",\"kind\":\"Any\",\"default\":true},{\"name\":\"allow_drag\",\"kind\":\"Any\",\"default\":true},{\"name\":\"state\",\"kind\":\"Any\",\"default\":[]}]},{\"type\":\"model\",\"name\":\"drag1\",\"properties\":[{\"name\":\"slider_width\",\"kind\":\"Any\",\"default\":5},{\"name\":\"slider_color\",\"kind\":\"Any\",\"default\":\"black\"},{\"name\":\"value\",\"kind\":\"Any\",\"default\":50}]},{\"type\":\"model\",\"name\":\"click1\",\"properties\":[{\"name\":\"terminal_output\",\"kind\":\"Any\",\"default\":\"\"},{\"name\":\"debug_name\",\"kind\":\"Any\",\"default\":\"\"},{\"name\":\"clears\",\"kind\":\"Any\",\"default\":0}]},{\"type\":\"model\",\"name\":\"FastWrapper1\",\"properties\":[{\"name\":\"object\",\"kind\":\"Any\",\"default\":null},{\"name\":\"style\",\"kind\":\"Any\",\"default\":null}]},{\"type\":\"model\",\"name\":\"NotificationAreaBase1\",\"properties\":[{\"name\":\"js_events\",\"kind\":\"Any\",\"default\":{\"type\":\"map\"}},{\"name\":\"position\",\"kind\":\"Any\",\"default\":\"bottom-right\"},{\"name\":\"_clear\",\"kind\":\"Any\",\"default\":0}]},{\"type\":\"model\",\"name\":\"NotificationArea1\",\"properties\":[{\"name\":\"js_events\",\"kind\":\"Any\",\"default\":{\"type\":\"map\"}},{\"name\":\"notifications\",\"kind\":\"Any\",\"default\":[]},{\"name\":\"position\",\"kind\":\"Any\",\"default\":\"bottom-right\"},{\"name\":\"_clear\",\"kind\":\"Any\",\"default\":0},{\"name\":\"types\",\"kind\":\"Any\",\"default\":[{\"type\":\"map\",\"entries\":[[\"type\",\"warning\"],[\"background\",\"#ffc107\"],[\"icon\",{\"type\":\"map\",\"entries\":[[\"className\",\"fas fa-exclamation-triangle\"],[\"tagName\",\"i\"],[\"color\",\"white\"]]}]]},{\"type\":\"map\",\"entries\":[[\"type\",\"info\"],[\"background\",\"#007bff\"],[\"icon\",{\"type\":\"map\",\"entries\":[[\"className\",\"fas fa-info-circle\"],[\"tagName\",\"i\"],[\"color\",\"white\"]]}]]}]}]},{\"type\":\"model\",\"name\":\"Notification\",\"properties\":[{\"name\":\"background\",\"kind\":\"Any\",\"default\":null},{\"name\":\"duration\",\"kind\":\"Any\",\"default\":3000},{\"name\":\"icon\",\"kind\":\"Any\",\"default\":null},{\"name\":\"message\",\"kind\":\"Any\",\"default\":\"\"},{\"name\":\"notification_type\",\"kind\":\"Any\",\"default\":null},{\"name\":\"_destroyed\",\"kind\":\"Any\",\"default\":false}]},{\"type\":\"model\",\"name\":\"TemplateActions1\",\"properties\":[{\"name\":\"open_modal\",\"kind\":\"Any\",\"default\":0},{\"name\":\"close_modal\",\"kind\":\"Any\",\"default\":0}]},{\"type\":\"model\",\"name\":\"BootstrapTemplateActions1\",\"properties\":[{\"name\":\"open_modal\",\"kind\":\"Any\",\"default\":0},{\"name\":\"close_modal\",\"kind\":\"Any\",\"default\":0}]},{\"type\":\"model\",\"name\":\"MaterialTemplateActions1\",\"properties\":[{\"name\":\"open_modal\",\"kind\":\"Any\",\"default\":0},{\"name\":\"close_modal\",\"kind\":\"Any\",\"default\":0}]}]}};\n",
       "  var render_items = [{\"docid\":\"9ac062b2-4743-43cb-b7d7-adc4ef767b3d\",\"roots\":{\"p3948\":\"a0b1335a-6caf-4521-83e5-0aea5fece418\"},\"root_ids\":[\"p3948\"]}];\n",
       "  var docs = Object.values(docs_json)\n",
       "  if (!docs) {\n",
       "    return\n",
       "  }\n",
       "  const py_version = docs[0].version.replace('rc', '-rc.').replace('.dev', '-dev.')\n",
       "  const is_dev = py_version.indexOf(\"+\") !== -1 || py_version.indexOf(\"-\") !== -1\n",
       "  function embed_document(root) {\n",
       "    var Bokeh = get_bokeh(root)\n",
       "    Bokeh.embed.embed_items_notebook(docs_json, render_items);\n",
       "    for (const render_item of render_items) {\n",
       "      for (const root_id of render_item.root_ids) {\n",
       "\tconst id_el = document.getElementById(root_id)\n",
       "\tif (id_el.children.length && (id_el.children[0].className === 'bk-root')) {\n",
       "\t  const root_el = id_el.children[0]\n",
       "\t  root_el.id = root_el.id + '-rendered'\n",
       "\t}\n",
       "      }\n",
       "    }\n",
       "  }\n",
       "  function get_bokeh(root) {\n",
       "    if (root.Bokeh === undefined) {\n",
       "      return null\n",
       "    } else if (root.Bokeh.version !== py_version && !is_dev) {\n",
       "      if (root.Bokeh.versions === undefined || !root.Bokeh.versions.has(py_version)) {\n",
       "\treturn null\n",
       "      }\n",
       "      return root.Bokeh.versions.get(py_version);\n",
       "    } else if (root.Bokeh.version === py_version) {\n",
       "      return root.Bokeh\n",
       "    }\n",
       "    return null\n",
       "  }\n",
       "  function is_loaded(root) {\n",
       "    var Bokeh = get_bokeh(root)\n",
       "    return (Bokeh != null && Bokeh.Panel !== undefined)\n",
       "  }\n",
       "  if (is_loaded(root)) {\n",
       "    embed_document(root);\n",
       "  } else {\n",
       "    var attempts = 0;\n",
       "    var timer = setInterval(function(root) {\n",
       "      if (is_loaded(root)) {\n",
       "        clearInterval(timer);\n",
       "        embed_document(root);\n",
       "      } else if (document.readyState == \"complete\") {\n",
       "        attempts++;\n",
       "        if (attempts > 200) {\n",
       "          clearInterval(timer);\n",
       "\t  var Bokeh = get_bokeh(root)\n",
       "\t  if (Bokeh == null || Bokeh.Panel == null) {\n",
       "            console.warn(\"Panel: ERROR: Unable to run Panel code because Bokeh or Panel library is missing\");\n",
       "\t  } else {\n",
       "\t    console.warn(\"Panel: WARNING: Attempting to render but not all required libraries could be resolved.\")\n",
       "\t    embed_document(root)\n",
       "\t  }\n",
       "        }\n",
       "      }\n",
       "    }, 25, root)\n",
       "  }\n",
       "})(window);</script>"
      ],
      "text/plain": [
       ":Bars   [lag (months)]   (correlation)"
      ]
     },
     "execution_count": 154,
     "metadata": {
      "application/vnd.holoviews_exec.v0+json": {
       "id": "p3948"
      }
     },
     "output_type": "execute_result"
    }
   ],
   "source": [
    "# verify autocorrelation\n",
    "lags = [6,12,18,24,30,36,42,48,54,60]\n",
    "timeline = price_norm.select(pl.col(tickers[0])).to_numpy()\n",
    "timeline = np.reshape(timeline,timeline.size)\n",
    "#mean = price_var.mean()\n",
    "#price_var = price_var-mean\n",
    "corr=[]\n",
    "for l in lags:\n",
    "    arr1=nprice_var[:-l]\n",
    "    arr2=nprice_var[l:]\n",
    "    correl = np.corrcoef(arr1,arr2)[0][1]\n",
    "    corr.append([l,correl])\n",
    "corr_df=pl.DataFrame(corr)\n",
    "corr_df=corr_df.rename({\"column_0\":\"lag (months)\",\"column_1\":\"correlation\"})\n",
    "corr_df.plot.bar(x=\"lag (months)\",y=\"correlation\",title=\"Autocorrelation\",ylim=[-1,1])"
   ]
  },
  {
   "cell_type": "code",
   "execution_count": null,
   "id": "09b32a46",
   "metadata": {},
   "outputs": [],
   "source": []
  }
 ],
 "metadata": {
  "colab": {
   "provenance": []
  },
  "kernelspec": {
   "display_name": "Python 3 (ipykernel)",
   "language": "python",
   "name": "python3"
  },
  "language_info": {
   "codemirror_mode": {
    "name": "ipython",
    "version": 3
   },
   "file_extension": ".py",
   "mimetype": "text/x-python",
   "name": "python",
   "nbconvert_exporter": "python",
   "pygments_lexer": "ipython3",
   "version": "3.11.5"
  }
 },
 "nbformat": 4,
 "nbformat_minor": 5
}
